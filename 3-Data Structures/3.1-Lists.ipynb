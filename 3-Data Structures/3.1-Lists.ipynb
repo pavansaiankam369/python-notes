{
 "cells": [
  {
   "cell_type": "markdown",
   "metadata": {},
   "source": [
    "#### Introduction To Lists\n",
    "- Lists are ordered, mutable collections of items.\n",
    "- They can contain items of different data types."
   ]
  },
  {
   "cell_type": "markdown",
   "metadata": {},
   "source": [
    "##### Video Outline:\n",
    "1. Introduction to Lists\n",
    "2. Creating Lists\n",
    "3. Accessing List Elements\n",
    "4. Modifying List Elements\n",
    "5. List Methods\n",
    "6. Slicing Lists\n",
    "7. Iterating Over Lists\n",
    "8. List Comprehensions\n",
    "9. Nested Lists\n",
    "10. Practical Examples and Common Errors"
   ]
  },
  {
   "cell_type": "markdown",
   "metadata": {},
   "source": [
    "Yes — **lists and tuples in Python are always ordered** ✅\n",
    "\n",
    "---\n",
    "\n",
    "### 🔹 What does “ordered” mean?\n",
    "\n",
    "It means that:\n",
    "\n",
    "* The **position** (or index) of each element **is fixed**\n",
    "* Elements will always appear in the **same order** you defined them\n",
    "\n",
    "---\n",
    "\n",
    "### ✅ Example:\n",
    "\n",
    "```python\n",
    "t = (\"apple\", \"banana\", \"cherry\")\n",
    "print(t[0])  # Output: 'apple'\n",
    "print(t[1])  # Output: 'banana'\n",
    "```\n",
    "\n",
    "Even if you access it later, the order remains the same.\n",
    "\n",
    "---\n",
    "\n",
    "### ❌ Tuples are NOT unordered like sets:\n",
    "\n",
    "```python\n",
    "s = {\"apple\", \"banana\", \"cherry\"}\n",
    "print(s)  # Order may vary, because sets are unordered\n",
    "```\n",
    "\n",
    "---\n",
    "\n",
    "### Summary:\n",
    "\n",
    "| Property      | Tuple | List | Set |\n",
    "| ------------- | ----- | ---- | --- |\n",
    "| Ordered       | ✅     | ✅    | ❌   |\n",
    "| Indexable     | ✅     | ✅    | ❌   |\n",
    "| Mutable       | ❌     | ✅    | ✅   |\n",
    "| Duplicates OK | ✅     | ✅    | ❌   |\n",
    "\n",
    "So yes — **tuples must always be ordered**.\n",
    "\n",
    "Want a visual demo or use case where tuple ordering is important?\n"
   ]
  },
  {
   "cell_type": "markdown",
   "metadata": {},
   "source": [
    "Excellent — you want the **complete, detailed list of all Python `list` methods** with:\n",
    "\n",
    "* 📥 Input (what arguments they take)\n",
    "* ⚙️ Action (what they do)\n",
    "* 🎯 Return type\n",
    "* 💡 Example\n",
    "\n",
    "Let’s go **exhaustive and organized**, just like a professional reference guide 👇\n",
    "\n",
    "---\n",
    "\n",
    "# 🧾 🔹 PYTHON LIST METHODS — COMPLETE GUIDE\n",
    "\n",
    "> 🧠 Note: Lists are **mutable** — most methods modify the list **in place** and return `None`.\n",
    "\n",
    "---\n",
    "\n",
    "## 🟢 1️⃣ Adding Elements\n",
    "\n",
    "| Method             | Input                             | Action                                      | Returns | Example                                  |\n",
    "| ------------------ | --------------------------------- | ------------------------------------------- | ------- | ---------------------------------------- |\n",
    "| `append(x)`        | Any object                        | Adds one element to the **end** of the list | `None`  | `a=[1,2]; a.append(3)` → `[1,2,3]`       |\n",
    "| `extend(iterable)` | Iterable (list, tuple, set, etc.) | Adds all items from iterable to end of list | `None`  | `a=[1,2]; a.extend([3,4])` → `[1,2,3,4]` |\n",
    "| `insert(i, x)`     | Index, object                     | Inserts element `x` at position `i`         | `None`  | `a=[1,3]; a.insert(1,2)` → `[1,2,3]`     |\n",
    "\n",
    "---\n",
    "\n",
    "## 🟠 2️⃣ Removing Elements\n",
    "\n",
    "| Method      | Input          | Action                                                         | Returns         | Example                                            |\n",
    "| ----------- | -------------- | -------------------------------------------------------------- | --------------- | -------------------------------------------------- |\n",
    "| `remove(x)` | Value          | Removes **first occurrence** of `x`; raises error if not found | `None`          | `a=[1,2,3,2]; a.remove(2)` → `[1,3,2]`             |\n",
    "| `pop([i])`  | Optional index | Removes and **returns** element at index `i` (default: last)   | Removed element | `a=[1,2,3]; a.pop()` → returns `3`, list = `[1,2]` |\n",
    "| `clear()`   | None           | Removes **all elements**                                       | `None`          | `a=[1,2]; a.clear()` → `[]`                        |\n",
    "\n",
    "---\n",
    "\n",
    "## 🔵 3️⃣ Finding & Counting\n",
    "\n",
    "| Method                     | Input                     | Action                                                           | Returns | Example                    |\n",
    "| -------------------------- | ------------------------- | ---------------------------------------------------------------- | ------- | -------------------------- |\n",
    "| `index(x[, start[, end]])` | Value, optional start/end | Returns **first index** of `x`; raises `ValueError` if not found | Integer | `[1,2,3,2].index(2)` → `1` |\n",
    "| `count(x)`                 | Value                     | Returns number of occurrences of `x`                             | Integer | `[1,2,2,3].count(2)` → `2` |\n",
    "\n",
    "---\n",
    "\n",
    "## 🟣 4️⃣ Sorting & Reversing\n",
    "\n",
    "| Method                                                   | Input                           | Action                      | Returns  | Example                              |\n",
    "| -------------------------------------------------------- | ------------------------------- | --------------------------- | -------- | ------------------------------------ |\n",
    "| `sort(key=None, reverse=False)`                          | Optional key func, reverse flag | Sorts list **in place**     | `None`   | `a=[3,1,2]; a.sort()` → `[1,2,3]`    |\n",
    "| `reverse()`                                              | None                            | Reverses order **in place** | `None`   | `a=[1,2,3]; a.reverse()` → `[3,2,1]` |\n",
    "| `sorted(iterable, key=None, reverse=False)` *(built-in)* | Any iterable                    | Returns **new sorted list** | New list | `sorted([3,1,2])` → `[1,2,3]`        |\n",
    "\n",
    "---\n",
    "\n",
    "## 🟡 5️⃣ Copying\n",
    "\n",
    "| Method   | Input | Action                                 | Returns  | Example      |\n",
    "| -------- | ----- | -------------------------------------- | -------- | ------------ |\n",
    "| `copy()` | None  | Returns a **shallow copy** of the list | New list | `b=a.copy()` |\n",
    "\n",
    "🧠 *Shallow copy means nested objects (like inner lists) are shared, not duplicated.*\n",
    "\n",
    "---\n",
    "\n",
    "## 🟤 6️⃣ Combining / Operators (built-in, not methods)\n",
    "\n",
    "| Operator / Function | Input          | Action                     | Returns  | Example                       |\n",
    "| ------------------- | -------------- | -------------------------- | -------- | ----------------------------- |\n",
    "| `+`                 | Two lists      | Concatenates lists         | New list | `[1,2] + [3,4]` → `[1,2,3,4]` |\n",
    "| `*`                 | List, int      | Repeats list elements      | New list | `[1,2] * 2` → `[1,2,1,2]`     |\n",
    "| `len(list)`         | List           | Number of elements         | Integer  | `len([1,2,3])` → `3`          |\n",
    "| `min(list)`         | List           | Minimum element            | Element  | `min([4,1,7])` → `1`          |\n",
    "| `max(list)`         | List           | Maximum element            | Element  | `max([4,1,7])` → `7`          |\n",
    "| `sum(list)`         | List (numbers) | Sum of all elements        | Number   | `sum([1,2,3])` → `6`          |\n",
    "| `in`                | Value          | Membership check           | Bool     | `2 in [1,2,3]` → `True`       |\n",
    "| `not in`            | Value          | Membership check (negated) | Bool     | `4 not in [1,2,3]` → `True`   |\n",
    "\n",
    "---\n",
    "\n",
    "## ⚫ 7️⃣ Iteration & Comprehension (syntactic, not methods)\n",
    "\n",
    "| Type          | Syntax                       | Action                      | Example                                     |\n",
    "| ------------- | ---------------------------- | --------------------------- | ------------------------------------------- |\n",
    "| Loop          | `for x in list:`             | Iterate through list        | `for x in [1,2]: print(x)`                  |\n",
    "| Comprehension | `[x*2 for x in list if x>0]` | Builds list from expression | `[x**2 for x in range(5)]` → `[0,1,4,9,16]` |\n",
    "\n",
    "---\n",
    "\n",
    "## 🔵 8️⃣ Nested Lists Operations (useful tricks)\n",
    "\n",
    "| Action                  | Example                               | Output           |\n",
    "| ----------------------- | ------------------------------------- | ---------------- |\n",
    "| Access nested element   | `a=[[1,2],[3,4]]; a[1][0]`            | `3`              |\n",
    "| Flatten 2D list         | `[x for row in a for x in row]`       | `[1,2,3,4]`      |\n",
    "| Copy nested list safely | `import copy; new = copy.deepcopy(a)` | Deep copied list |\n",
    "\n",
    "---\n",
    "\n",
    "## 🧠 Summary of All Official List Methods\n",
    "\n",
    "| Category   | Methods                            |\n",
    "| ---------- | ---------------------------------- |\n",
    "| Add        | `append()`, `extend()`, `insert()` |\n",
    "| Remove     | `remove()`, `pop()`, `clear()`     |\n",
    "| Find/Count | `index()`, `count()`               |\n",
    "| Order      | `sort()`, `reverse()`              |\n",
    "| Copy       | `copy()`                           |\n",
    "\n",
    "---\n",
    "\n",
    "✅ **Key Notes:**\n",
    "\n",
    "* Methods like `append`, `extend`, `insert`, `remove`, `sort`, `reverse`, `clear` → modify list and return **`None`**.\n",
    "* Methods like `count`, `index`, `copy`, `pop` → return a **value** or **new list**.\n",
    "* Use `sorted(list)` instead of `list.sort()` if you want a **new sorted list**.\n",
    "\n",
    "---\n",
    "\n",
    "Would you like me to create a **PDF version** of this complete list methods guide (just like the string one)?\n",
    "It’ll be a clean formatted **study-ready cheat sheet**.\n"
   ]
  },
  {
   "cell_type": "code",
   "execution_count": null,
   "metadata": {},
   "outputs": [
    {
     "name": "stdout",
     "output_type": "stream",
     "text": [
      "<class 'list'>\n"
     ]
    }
   ],
   "source": [
    "lst=[]\n",
    "print(type(lst))"
   ]
  },
  {
   "cell_type": "code",
   "execution_count": null,
   "metadata": {},
   "outputs": [
    {
     "name": "stdout",
     "output_type": "stream",
     "text": [
      "['Krish', 'Jack', 'Jacob', 1, 2, 3, 4, 5]\n"
     ]
    }
   ],
   "source": [
    "names=[\"Krish\",\"Jack\",\"Jacob\",1,2,3,4,5]\n",
    "print(names)"
   ]
  },
  {
   "cell_type": "code",
   "execution_count": null,
   "metadata": {},
   "outputs": [
    {
     "name": "stdout",
     "output_type": "stream",
     "text": [
      "[1, 'Hello', 3.14, True]\n"
     ]
    }
   ],
   "source": [
    "mixed_list=[1,\"Hello\",3.14,True]\n",
    "print(mixed_list)"
   ]
  },
  {
   "cell_type": "code",
   "execution_count": null,
   "metadata": {},
   "outputs": [],
   "source": [
    "### Accessing List Elements\n",
    "\n",
    "fruits=[\"apple\",\"banana\",\"cherry\",\"kiwi\",\"gauva\"]"
   ]
  },
  {
   "cell_type": "code",
   "execution_count": null,
   "metadata": {},
   "outputs": [
    {
     "name": "stdout",
     "output_type": "stream",
     "text": [
      "apple\n",
      "cherry\n",
      "gauva\n",
      "gauva\n"
     ]
    }
   ],
   "source": [
    "print(fruits[0])\n",
    "print(fruits[2])\n",
    "print(fruits[4])\n",
    "print(fruits[-1])"
   ]
  },
  {
   "cell_type": "code",
   "execution_count": null,
   "metadata": {},
   "outputs": [
    {
     "name": "stdout",
     "output_type": "stream",
     "text": [
      "['banana', 'cherry', 'kiwi', 'gauva']\n",
      "['banana', 'cherry']\n",
      "[]\n"
     ]
    }
   ],
   "source": [
    "print(fruits[1:])\n",
    "print(fruits[1:3])\n",
    "# print(fruits[-1:-3])  "
   ]
  },
  {
   "cell_type": "code",
   "execution_count": null,
   "metadata": {},
   "outputs": [
    {
     "data": {
      "text/plain": [
       "['apple', 'banana', 'cherry', 'kiwi', 'gauva']"
      ]
     },
     "execution_count": 4,
     "metadata": {},
     "output_type": "execute_result"
    }
   ],
   "source": [
    "## Modifying The List elements\n",
    "fruits"
   ]
  },
  {
   "cell_type": "code",
   "execution_count": null,
   "metadata": {},
   "outputs": [
    {
     "name": "stdout",
     "output_type": "stream",
     "text": [
      "['apple', 'watermelon', 'cherry', 'kiwi', 'gauva']\n"
     ]
    }
   ],
   "source": [
    "fruits[1]=\"watermelon\"\n",
    "print(fruits)"
   ]
  },
  {
   "cell_type": "code",
   "execution_count": null,
   "metadata": {},
   "outputs": [],
   "source": [
    "fruits[1:]=\"watermelon\""
   ]
  },
  {
   "cell_type": "code",
   "execution_count": null,
   "metadata": {},
   "outputs": [
    {
     "data": {
      "text/plain": [
       "['apple', 'w', 'a', 't', 'e', 'r', 'm', 'e', 'l', 'o', 'n']"
      ]
     },
     "execution_count": 22,
     "metadata": {},
     "output_type": "execute_result"
    }
   ],
   "source": [
    "fruits"
   ]
  },
  {
   "cell_type": "code",
   "execution_count": null,
   "metadata": {},
   "outputs": [],
   "source": [
    "fruits=[\"apple\",\"banana\",\"cherry\",\"kiwi\",\"gauva\"]"
   ]
  },
  {
   "cell_type": "code",
   "execution_count": null,
   "metadata": {},
   "outputs": [
    {
     "name": "stdout",
     "output_type": "stream",
     "text": [
      "[1, 'a', True, 1, 'a', True, 1, 'a', True]\n"
     ]
    }
   ],
   "source": [
    "#  this can be doen with tuples to \n",
    "mixed_list = [1, 'a', True]\n",
    "result = mixed_list * 3\n",
    "print(result)"
   ]
  },
  {
   "cell_type": "code",
   "execution_count": null,
   "metadata": {},
   "outputs": [
    {
     "name": "stdout",
     "output_type": "stream",
     "text": [
      "1 2 3\n"
     ]
    }
   ],
   "source": [
    "#Yes! ✅ Unpacking absolutely works with lists in Python — just like it does with tuples.\n",
    "\n",
    "my_list = [1, 2, 3]\n",
    "a, b, c = my_list\n",
    "print(a, b, c)\n"
   ]
  },
  {
   "cell_type": "code",
   "execution_count": null,
   "metadata": {},
   "outputs": [
    {
     "name": "stdout",
     "output_type": "stream",
     "text": [
      "1\n",
      "[2, 3, 4]\n",
      "5\n"
     ]
    }
   ],
   "source": [
    "numbers = [1, 2, 3, 4, 5]\n",
    "a, *b, c = numbers\n",
    "print(a)  # 1\n",
    "print(b)  # [2, 3, 4]\n",
    "print(c)  # 5\n"
   ]
  },
  {
   "cell_type": "code",
   "execution_count": null,
   "metadata": {},
   "outputs": [
    {
     "name": "stdout",
     "output_type": "stream",
     "text": [
      "True\n",
      "False\n"
     ]
    }
   ],
   "source": [
    "my_list = [1, 2, 3, 4, 5]\n",
    "\n",
    "print(3 in my_list)    # ✅ True\n",
    "print(10 in my_list)   # ❌ False\n",
    "\n",
    "# The in operator works with:\n",
    "\n",
    "# list\n",
    "\n",
    "# set\n",
    "\n",
    "# tuple\n",
    "\n",
    "# string\n",
    "# dict to\n"
   ]
  },
  {
   "cell_type": "code",
   "execution_count": null,
   "metadata": {},
   "outputs": [
    {
     "name": "stdout",
     "output_type": "stream",
     "text": [
      "['apple', 'banana', 'cherry', 'kiwi', 'gauva', 'orange']\n"
     ]
    }
   ],
   "source": [
    "## List Methods\n",
    "\n",
    "fruits.append(\"orange\") ## Add an item to the end\n",
    "print(fruits)"
   ]
  },
  {
   "cell_type": "code",
   "execution_count": null,
   "metadata": {},
   "outputs": [
    {
     "name": "stdout",
     "output_type": "stream",
     "text": [
      "['apple', 'watermelon', 'banana', 'cherry', 'kiwi', 'gauva', 'orange']\n"
     ]
    }
   ],
   "source": [
    "fruits.insert(1,\"watermelon\")\n",
    "print(fruits)"
   ]
  },
  {
   "cell_type": "code",
   "execution_count": null,
   "metadata": {},
   "outputs": [
    {
     "name": "stdout",
     "output_type": "stream",
     "text": [
      "['apple', 'watermelon', 'cherry', 'kiwi', 'gauva', 'orange']\n"
     ]
    }
   ],
   "source": [
    "fruits.remove(\"banana\") ## Removing the first occurance of an item\n",
    "print(fruits)"
   ]
  },
  {
   "cell_type": "code",
   "execution_count": null,
   "metadata": {},
   "outputs": [
    {
     "name": "stdout",
     "output_type": "stream",
     "text": [
      "orange\n",
      "['apple', 'watermelon', 'cherry', 'kiwi', 'gauva']\n"
     ]
    }
   ],
   "source": [
    "## Remove and return the last element\n",
    "popped_fruits=fruits.pop()\n",
    "print(popped_fruits)\n",
    "print(fruits)"
   ]
  },
  {
   "cell_type": "code",
   "execution_count": null,
   "metadata": {},
   "outputs": [
    {
     "name": "stdout",
     "output_type": "stream",
     "text": [
      "2\n"
     ]
    }
   ],
   "source": [
    "index=fruits.index(\"cherry\")\n",
    "print(index)"
   ]
  },
  {
   "cell_type": "code",
   "execution_count": null,
   "metadata": {},
   "outputs": [
    {
     "name": "stdout",
     "output_type": "stream",
     "text": [
      "1\n"
     ]
    }
   ],
   "source": [
    "fruits.insert(2,\"banana\")\n",
    "print(fruits.count(\"banana\"))"
   ]
  },
  {
   "cell_type": "code",
   "execution_count": null,
   "metadata": {},
   "outputs": [
    {
     "data": {
      "text/plain": [
       "['apple', 'watermelon', 'banana', 'cherry', 'kiwi', 'gauva']"
      ]
     },
     "execution_count": 11,
     "metadata": {},
     "output_type": "execute_result"
    }
   ],
   "source": [
    "fruits"
   ]
  },
  {
   "cell_type": "code",
   "execution_count": null,
   "metadata": {},
   "outputs": [],
   "source": [
    "fruits.sort() ## SSorts the list in ascending order"
   ]
  },
  {
   "cell_type": "code",
   "execution_count": null,
   "metadata": {},
   "outputs": [
    {
     "data": {
      "text/plain": [
       "['apple', 'banana', 'cherry', 'gauva', 'kiwi', 'watermelon']"
      ]
     },
     "execution_count": 13,
     "metadata": {},
     "output_type": "execute_result"
    }
   ],
   "source": [
    "fruits"
   ]
  },
  {
   "cell_type": "code",
   "execution_count": null,
   "metadata": {},
   "outputs": [],
   "source": [
    "fruits.reverse() ## REverse the list"
   ]
  },
  {
   "cell_type": "code",
   "execution_count": null,
   "metadata": {},
   "outputs": [
    {
     "data": {
      "text/plain": [
       "['watermelon', 'kiwi', 'gauva', 'cherry', 'banana', 'apple']"
      ]
     },
     "execution_count": 15,
     "metadata": {},
     "output_type": "execute_result"
    }
   ],
   "source": [
    "fruits"
   ]
  },
  {
   "cell_type": "code",
   "execution_count": null,
   "metadata": {},
   "outputs": [
    {
     "name": "stdout",
     "output_type": "stream",
     "text": [
      "[]\n"
     ]
    }
   ],
   "source": [
    "fruits.clear() ## Remove all items from the list\n",
    "\n",
    "print(fruits)"
   ]
  },
  {
   "cell_type": "code",
   "execution_count": null,
   "metadata": {},
   "outputs": [
    {
     "name": "stdout",
     "output_type": "stream",
     "text": [
      "[3, 4, 5]\n",
      "[1, 2, 3, 4, 5]\n",
      "[6, 7, 8, 9, 10]\n",
      "[1, 3, 5, 7, 9]\n",
      "[10, 9, 8, 7, 6, 5, 4, 3, 2, 1]\n"
     ]
    }
   ],
   "source": [
    "## Slicing List\n",
    "numbers = [1, 2, 3, 4, 5, 6, 7, 8, 9, 10]\n",
    "print(numbers[2:5])\n",
    "print(numbers[:5])\n",
    "print(numbers[5:])\n",
    "print(numbers[::2])\n",
    "print(numbers[::-1])"
   ]
  },
  {
   "cell_type": "code",
   "execution_count": null,
   "metadata": {},
   "outputs": [
    {
     "data": {
      "text/plain": [
       "[1, 4, 7, 10]"
      ]
     },
     "execution_count": 19,
     "metadata": {},
     "output_type": "execute_result"
    }
   ],
   "source": [
    "numbers[::3]"
   ]
  },
  {
   "cell_type": "code",
   "execution_count": null,
   "metadata": {},
   "outputs": [
    {
     "data": {
      "text/plain": [
       "[10, 8, 6, 4, 2]"
      ]
     },
     "execution_count": 20,
     "metadata": {},
     "output_type": "execute_result"
    }
   ],
   "source": [
    "numbers[::-2]"
   ]
  },
  {
   "cell_type": "code",
   "execution_count": null,
   "metadata": {},
   "outputs": [
    {
     "name": "stdout",
     "output_type": "stream",
     "text": [
      "1\n",
      "2\n",
      "3\n",
      "4\n",
      "5\n",
      "6\n",
      "7\n",
      "8\n",
      "9\n",
      "10\n"
     ]
    }
   ],
   "source": [
    "### Iterating Over List\n",
    "\n",
    "for number in numbers:\n",
    "    print(number)"
   ]
  },
  {
   "cell_type": "code",
   "execution_count": null,
   "metadata": {},
   "outputs": [
    {
     "name": "stdout",
     "output_type": "stream",
     "text": [
      "0 1\n",
      "1 2\n",
      "2 3\n",
      "3 4\n",
      "4 5\n",
      "5 6\n",
      "6 7\n",
      "7 8\n",
      "8 9\n",
      "9 10\n"
     ]
    }
   ],
   "source": [
    "## Iterating with index\n",
    "for index,number in enumerate(numbers):\n",
    "    print(index,number)"
   ]
  },
  {
   "cell_type": "code",
   "execution_count": null,
   "metadata": {},
   "outputs": [
    {
     "name": "stdout",
     "output_type": "stream",
     "text": [
      "[0, 1, 4, 9, 16, 25, 36, 49, 64, 81]\n"
     ]
    }
   ],
   "source": [
    "## List comprehension\n",
    "lst=[]\n",
    "for x in range(10):\n",
    "    lst.append(x**2)\n",
    "\n",
    "print(lst)\n"
   ]
  },
  {
   "cell_type": "code",
   "execution_count": null,
   "metadata": {},
   "outputs": [
    {
     "data": {
      "text/plain": [
       "[0, 1, 4, 9, 16, 25, 36, 49, 64, 81]"
      ]
     },
     "execution_count": 48,
     "metadata": {},
     "output_type": "execute_result"
    }
   ],
   "source": [
    "[x**2 for x in range(10)]"
   ]
  },
  {
   "cell_type": "markdown",
   "metadata": {},
   "source": [
    "##### List Comprehension\n",
    "\n",
    "Basics Syantax            [expression for item in iterable]\n",
    "\n",
    "with conditional logic    [expression for item in iterable if condition]\n",
    "\n",
    "Nested List Comprehension [expression for item1 in iterable1 for item2 in iterable2]\n",
    "\n",
    "\n"
   ]
  },
  {
   "cell_type": "code",
   "execution_count": null,
   "metadata": {},
   "outputs": [
    {
     "name": "stdout",
     "output_type": "stream",
     "text": [
      "[0, 1, 4, 9, 16, 25, 36, 49, 64, 81]\n"
     ]
    }
   ],
   "source": [
    "### Basic List Comphrension\n",
    "\n",
    "sqaure=[num**2 for num in range(10)]\n",
    "print(sqaure)"
   ]
  },
  {
   "cell_type": "code",
   "execution_count": null,
   "metadata": {},
   "outputs": [
    {
     "name": "stdout",
     "output_type": "stream",
     "text": [
      "[0, 2, 4, 6, 8]\n"
     ]
    }
   ],
   "source": [
    "### List Comprehension with Condition\n",
    "lst=[]\n",
    "for i in range(10):\n",
    "    if i%2==0:\n",
    "        lst.append(i)\n",
    "\n",
    "print(lst)\n",
    "        "
   ]
  },
  {
   "cell_type": "code",
   "execution_count": null,
   "metadata": {},
   "outputs": [
    {
     "name": "stdout",
     "output_type": "stream",
     "text": [
      "[0, 2, 4, 6, 8]\n"
     ]
    }
   ],
   "source": [
    "even_numbers=[num for num in range(10) if num%2==0]\n",
    "print(even_numbers)"
   ]
  },
  {
   "cell_type": "code",
   "execution_count": null,
   "metadata": {},
   "outputs": [
    {
     "name": "stdout",
     "output_type": "stream",
     "text": [
      "[[1, 'a'], [1, 'b'], [1, 'c'], [1, 'd'], [2, 'a'], [2, 'b'], [2, 'c'], [2, 'd'], [3, 'a'], [3, 'b'], [3, 'c'], [3, 'd'], [4, 'a'], [4, 'b'], [4, 'c'], [4, 'd']]\n"
     ]
    }
   ],
   "source": [
    "## Nested List Comphrension\n",
    "\n",
    "lst1=[1,2,3,4]\n",
    "lst2=['a','b','c','d']\n",
    "\n",
    "pair=[[i,j] for i in lst1 for j in lst2]\n",
    "\n",
    "print(pair)\n"
   ]
  },
  {
   "cell_type": "code",
   "execution_count": null,
   "metadata": {},
   "outputs": [
    {
     "name": "stdout",
     "output_type": "stream",
     "text": [
      "[5, 5, 6, 4, 13]\n"
     ]
    }
   ],
   "source": [
    "## List Comprehension with function calls\n",
    "words = [\"hello\", \"world\", \"python\", \"list\", \"comprehension\"]\n",
    "lengths = [len(word) for word in words]\n",
    "print(lengths)  # Output: [5, 5, 6, 4, 13]\n",
    "\n"
   ]
  },
  {
   "cell_type": "markdown",
   "metadata": {},
   "source": [
    "#### Conclusion\n",
    "List comprehensions are a powerful and concise way to create lists in Python. They are syntactically compact and can replace more verbose looping constructs. Understanding the syntax of list comprehensions will help you write cleaner and more efficient Python code."
   ]
  },
  {
   "cell_type": "markdown",
   "metadata": {},
   "source": [
    "Absolutely! Let’s create a **list of tricky and advanced Python `list` questions with examples** to help you **master lists in depth**. These cover **mutability, slicing, methods, nested lists, performance, and interview-level tricks**.\n",
    "\n",
    "---\n",
    "\n",
    "# 🟢 Python Lists – Tricky & Advanced Questions with Examples\n",
    "\n",
    "---\n",
    "\n",
    "## 1️⃣ List Mutability & Identity\n",
    "\n",
    "**Q1:** Difference between `=` and `copy()`\n",
    "\n",
    "```python\n",
    "l1 = [1,2,3]\n",
    "l2 = l1          # l2 references same list\n",
    "l3 = l1.copy()   # l3 is a shallow copy\n",
    "l1.append(4)\n",
    "print(l1, l2, l3)  # [1,2,3,4] [1,2,3,4] [1,2,3]\n",
    "```\n",
    "\n",
    "* ✅ Concept: `=` creates **reference**, `copy()` creates **shallow copy**.\n",
    "\n",
    "**Q2:** Shallow vs deep copy\n",
    "\n",
    "```python\n",
    "import copy\n",
    "l1 = [[1,2],[3,4]]\n",
    "l2 = l1.copy()           # shallow copy\n",
    "l3 = copy.deepcopy(l1)   # deep copy\n",
    "l1[0][0] = 9\n",
    "print(l1, l2, l3)  # [[9,2],[3,4]] [[9,2],[3,4]] [[1,2],[3,4]]\n",
    "```\n",
    "\n",
    "---\n",
    "\n",
    "## 2️⃣ Indexing, Slicing, & Negative Indexing\n",
    "\n",
    "**Q3:** Slicing returns a **new list**\n",
    "\n",
    "```python\n",
    "l = [1,2,3,4]\n",
    "s = l[1:3]\n",
    "s[0] = 9\n",
    "print(l, s)  # [1,2,3,4] [9,3]\n",
    "```\n",
    "\n",
    "**Q4:** Negative slicing\n",
    "\n",
    "```python\n",
    "l = [1,2,3,4]\n",
    "print(l[-3:-1])  # [2,3]\n",
    "```\n",
    "\n",
    "---\n",
    "\n",
    "## 3️⃣ List Methods & Edge Cases\n",
    "\n",
    "**Q5:** `extend()` vs `append()`\n",
    "\n",
    "```python\n",
    "l = [1,2]\n",
    "l.append([3,4])\n",
    "print(l)  # [1,2,[3,4]]\n",
    "\n",
    "l = [1,2]\n",
    "l.extend([3,4])\n",
    "print(l)  # [1,2,3,4]\n",
    "```\n",
    "\n",
    "**Q6:** `insert()` and index out-of-range\n",
    "\n",
    "```python\n",
    "l = [1,2]\n",
    "l.insert(10, 3)  # ✅ inserts at end\n",
    "print(l)  # [1,2,3]\n",
    "```\n",
    "\n",
    "**Q7:** `pop()` with index\n",
    "\n",
    "```python\n",
    "l = [1,2,3]\n",
    "x = l.pop(1)\n",
    "print(x, l)  # 2 [1,3]\n",
    "```\n",
    "\n",
    "---\n",
    "\n",
    "## 4️⃣ Nested Lists & Advanced Access\n",
    "\n",
    "**Q8:** Access nested list elements\n",
    "\n",
    "```python\n",
    "l = [1,[2,3],[4,[5,6]]]\n",
    "print(l[2][1][0])  # 5\n",
    "```\n",
    "\n",
    "**Q9:** Flatten nested list using list comprehension\n",
    "\n",
    "```python\n",
    "l = [[1,2],[3,4]]\n",
    "flat = [x for sub in l for x in sub]\n",
    "print(flat)  # [1,2,3,4]\n",
    "```\n",
    "\n",
    "---\n",
    "\n",
    "## 5️⃣ Sorting & Reversing\n",
    "\n",
    "**Q10:** `sort()` vs `sorted()`\n",
    "\n",
    "```python\n",
    "l = [3,1,2]\n",
    "l.sort()\n",
    "print(l)          # [1,2,3] -> modifies in place\n",
    "\n",
    "l = [3,1,2]\n",
    "new_l = sorted(l)\n",
    "print(new_l, l)   # [1,2,3] [3,1,2] -> returns new list\n",
    "```\n",
    "\n",
    "**Q11:** Sort by key\n",
    "\n",
    "```python\n",
    "l = [\"apple\",\"banana\",\"cherry\"]\n",
    "l.sort(key=len)\n",
    "print(l)  # ['apple','cherry','banana'] -> by length\n",
    "```\n",
    "\n",
    "---\n",
    "\n",
    "## 6️⃣ List Comprehension & Filtering\n",
    "\n",
    "**Q12:** Conditional comprehension\n",
    "\n",
    "```python\n",
    "l = [x*x for x in range(5) if x%2==0]\n",
    "print(l)  # [0,4,16]\n",
    "```\n",
    "\n",
    "**Q13:** Nested comprehension\n",
    "\n",
    "```python\n",
    "l = [[i*j for j in range(3)] for i in range(3)]\n",
    "print(l)  # [[0,0,0],[0,1,2],[0,2,4]]\n",
    "```\n",
    "\n",
    "---\n",
    "\n",
    "## 7️⃣ Membership & Performance\n",
    "\n",
    "**Q14:** Membership test\n",
    "\n",
    "```python\n",
    "l = list(range(1000))\n",
    "print(999 in l)  # ✅ O(n)\n",
    "s = set(l)\n",
    "print(999 in s)  # ✅ O(1)\n",
    "```\n",
    "\n",
    "**Q15:** Count occurrences\n",
    "\n",
    "```python\n",
    "l = [1,2,2,3]\n",
    "print(l.count(2))  # 2\n",
    "```\n",
    "\n",
    "---\n",
    "\n",
    "## 8️⃣ Advanced / Tricky Edge Cases\n",
    "\n",
    "**Q16:** Multiplication creates **shared references**\n",
    "\n",
    "```python\n",
    "l = [[0]*3]*3\n",
    "l[0][0] = 1\n",
    "print(l)  # [[1,0,0],[1,0,0],[1,0,0]] -> all rows share same list\n",
    "```\n",
    "\n",
    "* ✅ Fix with list comprehension:\n",
    "\n",
    "```python\n",
    "l = [[0]*3 for _ in range(3)]\n",
    "l[0][0] = 1\n",
    "print(l)  # [[1,0,0],[0,0,0],[0,0,0]]\n",
    "```\n",
    "\n",
    "**Q17:** Slicing assignment\n",
    "\n",
    "```python\n",
    "l = [1,2,3,4]\n",
    "l[1:3] = [9,8]\n",
    "print(l)  # [1,9,8,4] -> replaces slice in place\n",
    "```\n",
    "\n",
    "**Q18:** Reverse list in place\n",
    "\n",
    "```python\n",
    "l = [1,2,3]\n",
    "l.reverse()\n",
    "print(l)  # [3,2,1]\n",
    "```\n",
    "\n",
    "---\n",
    "\n",
    "## 9️⃣ Interview-Level / Conceptual Questions\n",
    "\n",
    "1. Difference between `list()` and `[ ]`\n",
    "2. Difference between shallow and deep copy of nested lists\n",
    "3. Explain `list * n` for nested lists vs single-level lists\n",
    "4. Performance: list vs set membership\n",
    "5. How to remove duplicates **while preserving order**\n",
    "\n",
    "```python\n",
    "lst = [1,2,2,3,3,1]\n",
    "lst_unique = list(dict.fromkeys(lst))\n",
    "print(lst_unique)  # [1,2,3]\n",
    "```\n",
    "\n",
    "6. Explain **memory layout** of list (dynamic array)\n",
    "7. Differences between `append`, `extend`, and `+=`\n",
    "8. Tricky slicing examples with negative steps\n",
    "\n",
    "```python\n",
    "l = [1,2,3,4,5]\n",
    "print(l[::-2])  # [5,3,1]\n",
    "```\n",
    "\n",
    "9. Using **enumerate** in loops\n",
    "\n",
    "```python\n",
    "for i, val in enumerate(['a','b']):\n",
    "    print(i,val)\n",
    "```\n",
    "\n",
    "---\n",
    "\n",
    "✅ **Concepts covered by these tricky questions:**\n",
    "\n",
    "* Mutability & references\n",
    "* Shallow vs deep copies\n",
    "* Indexing, slicing, negative slicing\n",
    "* Nested lists & flattening\n",
    "* Methods: append, extend, insert, pop, remove\n",
    "* Sorting, reversing, key functions\n",
    "* List comprehension, nested comprehension\n",
    "* Membership & performance edge cases\n",
    "* Shared references when multiplying nested lists\n",
    "* Interview-relevant memory & performance discussion\n",
    "\n",
    "---\n",
    "\n",
    "I can also make a **PDF cheat sheet for lists** with **all these tricky questions + answers + runnable examples** — similar to **tuples and sets cheat sheets**, so you can **practice for interviews and understand lists deeply**.\n",
    "\n",
    "Do you want me to create that PDF next?\n"
   ]
  },
  {
   "cell_type": "markdown",
   "metadata": {},
   "source": []
  }
 ],
 "metadata": {
  "kernelspec": {
   "display_name": "Python 3",
   "language": "python",
   "name": "python3"
  },
  "language_info": {
   "codemirror_mode": {
    "name": "ipython",
    "version": 3
   },
   "file_extension": ".py",
   "mimetype": "text/x-python",
   "name": "python",
   "nbconvert_exporter": "python",
   "pygments_lexer": "ipython3",
   "version": "3.10.11"
  }
 },
 "nbformat": 4,
 "nbformat_minor": 2
}
