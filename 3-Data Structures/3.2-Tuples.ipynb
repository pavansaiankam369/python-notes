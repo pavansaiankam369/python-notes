{
 "cells": [
  {
   "cell_type": "markdown",
   "metadata": {},
   "source": [
    "#### Tuples\n",
    "Video Outline:\n",
    "1. Introduction to Tuples\n",
    "2. Creating Tuples\n",
    "3. Accessing Tuple Elements\n",
    "4. Tuple Operations\n",
    "5. Immutable Nature of Tuples\n",
    "6. Tuple Methods\n",
    "7. Packing and Unpacking Tuples\n",
    "8. Nested Tuples\n",
    "9. Practical Examples and Common Errors\n"
   ]
  },
  {
   "cell_type": "markdown",
   "metadata": {},
   "source": [
    "Absolutely! Let’s create a **list of tricky and advanced Python `tuple` questions with examples** to help you **understand tuple concepts in depth**. These questions cover **immutability, operations, unpacking, memory, performance, and interview-level tricks**.\n",
    "\n",
    "---\n",
    "\n",
    "# 🟢 Python Tuples – Tricky & Advanced Questions with Examples\n",
    "\n",
    "---\n",
    "\n",
    "## 1️⃣ Tuple Immutability & Hashability\n",
    "\n",
    "**Q1:** Can a tuple contain a list?\n",
    "\n",
    "```python\n",
    "t = (1, 2, [3,4])\n",
    "print(t[2][0])  # ✅ Access works\n",
    "t[2][0] = 5     # ✅ List inside tuple is mutable\n",
    "print(t)        # (1, 2, [5, 4])\n",
    "```\n",
    "\n",
    "* ✅ Concept: Tuples themselves are immutable, but **mutable objects inside tuples can change**.\n",
    "\n",
    "**Q2:** Can tuples be dictionary keys?\n",
    "\n",
    "```python\n",
    "d = {(1,2): \"value\"}\n",
    "print(d[(1,2)])  # 'value' ✅ works\n",
    "```\n",
    "\n",
    "* ❌ Cannot use tuple containing **mutable elements** (like list) as key:\n",
    "\n",
    "```python\n",
    "d = {(1,[2]): \"value\"}  # ❌ TypeError\n",
    "```\n",
    "\n",
    "---\n",
    "\n",
    "## 2️⃣ Tuple Creation & Packing/Unpacking\n",
    "\n",
    "**Q3:** Single element tuple\n",
    "\n",
    "```python\n",
    "t1 = (5)\n",
    "t2 = (5,)\n",
    "print(type(t1))  # <class 'int'>\n",
    "print(type(t2))  # <class 'tuple'>\n",
    "```\n",
    "\n",
    "* ✅ Trick: Single element tuple **requires a trailing comma**.\n",
    "\n",
    "**Q4:** Tuple unpacking\n",
    "\n",
    "```python\n",
    "t = (1,2,3,4)\n",
    "a, b, *rest = t\n",
    "print(a, b, rest)  # 1 2 [3,4]\n",
    "```\n",
    "\n",
    "* ✅ Concept: `*rest` captures remaining elements.\n",
    "\n",
    "---\n",
    "\n",
    "## 3️⃣ Indexing, Slicing, & Negative Indexing\n",
    "\n",
    "**Q5:** Negative indexing\n",
    "\n",
    "```python\n",
    "t = (1,2,3,4)\n",
    "print(t[-1])  # 4\n",
    "print(t[-2:]) # (3,4)\n",
    "```\n",
    "\n",
    "**Q6:** Slicing returns **tuple, not list**\n",
    "\n",
    "```python\n",
    "t = (1,2,3,4)\n",
    "print(t[1:3])  # (2,3)\n",
    "```\n",
    "\n",
    "---\n",
    "\n",
    "## 4️⃣ Operations on Tuples\n",
    "\n",
    "**Q7:** Concatenation vs multiplication\n",
    "\n",
    "```python\n",
    "t1 = (1,2)\n",
    "t2 = (3,4)\n",
    "print(t1 + t2)  # (1,2,3,4)\n",
    "print(t1 * 3)   # (1,2,1,2,1,2)\n",
    "```\n",
    "\n",
    "**Q8:** Membership test\n",
    "\n",
    "```python\n",
    "t = (1,2,3)\n",
    "print(2 in t)   # True\n",
    "print(5 not in t)  # True\n",
    "```\n",
    "\n",
    "---\n",
    "\n",
    "## 5️⃣ Methods on Tuples\n",
    "\n",
    "| Method                     | Input   | Action              | Return | Example                  |\n",
    "| -------------------------- | ------- | ------------------- | ------ | ------------------------ |\n",
    "| `count(x)`                 | element | Counts occurrences  | int    | `(1,2,2,3).count(2)` → 2 |\n",
    "| `index(x[, start[, end]])` | element | Returns first index | int    | `(1,2,3).index(2)` → 1   |\n",
    "\n",
    "---\n",
    "\n",
    "## 6️⃣ Nested & Advanced Tuples\n",
    "\n",
    "**Q9:** Nested tuple access\n",
    "\n",
    "```python\n",
    "t = (1, (2,3), 4)\n",
    "print(t[1][0])  # 2\n",
    "```\n",
    "\n",
    "**Q10:** Tuples as dictionary keys\n",
    "\n",
    "```python\n",
    "d = {(1,2): \"value\", (3,4): \"another\"}\n",
    "print(d[(3,4)])  # 'another'\n",
    "```\n",
    "\n",
    "---\n",
    "\n",
    "## 7️⃣ Immutability Tricks\n",
    "\n",
    "**Q11:** Changing mutable element inside tuple\n",
    "\n",
    "```python\n",
    "t = (1, [2,3])\n",
    "t[1].append(4)\n",
    "print(t)  # (1, [2,3,4]) ✅ tuple still immutable, list changed\n",
    "```\n",
    "\n",
    "**Q12:** Cannot assign to index\n",
    "\n",
    "```python\n",
    "t = (1,2,3)\n",
    "t[0] = 10  # ❌ TypeError\n",
    "```\n",
    "\n",
    "---\n",
    "\n",
    "## 8️⃣ Sorting & Comparison\n",
    "\n",
    "**Q13:** Tuple comparison\n",
    "\n",
    "```python\n",
    "t1 = (1,2,3)\n",
    "t2 = (1,2,4)\n",
    "print(t1 < t2)  # True -> compares element by element\n",
    "```\n",
    "\n",
    "**Q14:** Sorting list of tuples\n",
    "\n",
    "```python\n",
    "l = [(1,2), (0,5), (1,1)]\n",
    "l.sort()\n",
    "print(l)  # [(0,5),(1,1),(1,2)] -> sorted by first, then second element\n",
    "```\n",
    "\n",
    "---\n",
    "\n",
    "## 9️⃣ Memory & Performance\n",
    "\n",
    "**Q15:** Tuple vs List memory\n",
    "\n",
    "```python\n",
    "import sys\n",
    "t = (1,2,3,4)\n",
    "l = [1,2,3,4]\n",
    "print(sys.getsizeof(t), sys.getsizeof(l))  # Tuple uses less memory\n",
    "```\n",
    "\n",
    "**Q16:** Tuple vs List performance\n",
    "\n",
    "* ✅ Tuples are **faster** than lists for **iteration and access** because they are immutable and memory layout is simpler.\n",
    "\n",
    "---\n",
    "\n",
    "## 10️⃣ Interview-Level Questions\n",
    "\n",
    "**Q17:** Why are tuples preferred for dictionary keys?\n",
    "\n",
    "* ✅ Concept: Immutable, hashable, fixed memory → safe for hash tables.\n",
    "\n",
    "**Q18:** How does tuple unpacking with `*rest` work?\n",
    "\n",
    "```python\n",
    "a, *b, c = (1,2,3,4,5)\n",
    "print(a,b,c)  # 1 [2,3,4] 5\n",
    "```\n",
    "\n",
    "**Q19:** Nested unpacking\n",
    "\n",
    "```python\n",
    "t = (1,(2,3),4)\n",
    "a, (b,c), d = t\n",
    "print(a,b,c,d)  # 1 2 3 4\n",
    "```\n",
    "\n",
    "**Q20:** Can tuples be **concatenated with lists**?\n",
    "\n",
    "* ❌ Cannot directly concatenate tuple + list → must convert.\n",
    "\n",
    "---\n",
    "\n",
    "✅ **Concepts tested by these tricky questions:**\n",
    "\n",
    "* Immutability vs mutability of elements inside tuple\n",
    "* Hashability and dictionary keys\n",
    "* Packing, unpacking, nested tuples\n",
    "* Indexing, slicing, and negative indexing\n",
    "* Tuple comparison and sorting\n",
    "* Performance & memory advantages\n",
    "* Edge cases like modifying inner mutable objects\n",
    "\n",
    "---\n",
    "\n",
    "If you want, I can make a **PDF cheat sheet with all these tricky tuple questions + answers + runnable examples**, similar to the **sets and strings cheat sheets**, so you can **practice for interviews and deep concept understanding**.\n",
    "\n",
    "Do you want me to make that PDF next?\n"
   ]
  },
  {
   "cell_type": "markdown",
   "metadata": {},
   "source": [
    "Absolutely! Here’s a **complete reference for Python `tuple` methods** including **input/arguments, action, return type, and examples**. Since tuples are immutable, there are fewer methods than lists, but I’ll cover everything.\n",
    "\n",
    "---\n",
    "\n",
    "# 🟢 Python Tuple Methods – Complete Guide\n",
    "\n",
    "| Method                         | Input / Arguments                     | Action                                                                 | Returns  | Example                                                  |\n",
    "| ------------------------------ | ------------------------------------- | ---------------------------------------------------------------------- | -------- | -------------------------------------------------------- |\n",
    "| `count(value)`                 | value                                 | Counts how many times `value` appears in the tuple                     | `int`    | `python t=(1,2,2,3); print(t.count(2)) # 2 `             |\n",
    "| `index(value[, start[, end]])` | value, optional start and end indices | Returns the **first index** of value; raises `ValueError` if not found | `int`    | `python t=(1,2,3); print(t.index(2)) # 1 `               |\n",
    "| `len(tuple)`                   | None                                  | Returns the number of elements                                         | `int`    | `python t=(1,2,3); print(len(t)) # 3 `                   |\n",
    "| `tuple(seq)`                   | sequence (list, string, etc.)         | Converts a sequence to a tuple                                         | `tuple`  | `python lst=[1,2]; print(tuple(lst)) # (1,2) `           |\n",
    "| `max(tuple)`                   | None                                  | Returns maximum element                                                | element  | `python t=(1,3,2); print(max(t)) # 3 `                   |\n",
    "| `min(tuple)`                   | None                                  | Returns minimum element                                                | element  | `python t=(1,3,2); print(min(t)) # 1 `                   |\n",
    "| `sum(tuple)`                   | None                                  | Returns sum of numeric elements                                        | number   | `python t=(1,2,3); print(sum(t)) # 6 `                   |\n",
    "| `sorted(tuple)`                | None                                  | Returns **sorted list** from tuple (does not change tuple)             | list     | `python t=(3,1,2); print(sorted(t)) # [1,2,3] `          |\n",
    "| `tuple concatenation`          | `t1 + t2`                             | Joins two tuples                                                       | tuple    | `python t1=(1,2); t2=(3,4); print(t1+t2) # (1,2,3,4) `   |\n",
    "| `tuple repetition`             | `t * n`                               | Repeats the tuple n times                                              | tuple    | `python t=(1,2); print(t*2) # (1,2,1,2) `                |\n",
    "| `membership`                   | `x in tuple`                          | Checks if element exists in tuple                                      | `bool`   | `python t=(1,2); print(2 in t) # True `                  |\n",
    "| `tuple unpacking`              | `a,b = tuple`                         | Assigns values to variables                                            | n/a      | `python t=(1,2); a,b = t; print(a,b) # 1 2 `             |\n",
    "| `slicing`                      | `tuple[start:end:step]`               | Returns a sliced tuple                                                 | tuple    | `python t=(1,2,3,4); print(t[1:3]) # (2,3) `             |\n",
    "| `reversed(tuple)`              | None                                  | Returns **reversed iterator**                                          | iterator | `python t=(1,2,3); print(tuple(reversed(t))) # (3,2,1) ` |\n",
    "\n",
    "---\n",
    "\n",
    "## ✅ Notes on Tuples\n",
    "\n",
    "1. **Immutable**: Tuples cannot be changed after creation. No `append`, `remove`, or `pop`.\n",
    "2. **Iteration**: Tuples support `for` loops and membership checks.\n",
    "3. **Performance**: Tuples are slightly faster than lists for iteration and occupy less memory.\n",
    "4. **Nested Tuples**: Tuples can contain mutable elements (like lists), which can still be modified.\n",
    "5. **Concatenation & repetition**: Returns a **new tuple**, original tuple remains unchanged.\n",
    "6. **Unpacking**: Useful for swapping variables or returning multiple values from functions.\n",
    "\n",
    "---\n",
    "\n",
    "If you want, I can also create a **PDF cheat sheet for tuples** including:\n",
    "\n",
    "* All methods\n",
    "* Input, action, return type\n",
    "* Examples\n",
    "* Tricky interview-level tuple questions\n",
    "\n",
    "Do you want me to make that PDF next?\n"
   ]
  },
  {
   "cell_type": "markdown",
   "metadata": {},
   "source": [
    "\n",
    "##### Introduction to Tuples\n",
    "Explanation:\n",
    "\n",
    "Tuples are ordered collections of items that are immutable.\n",
    "They are similar to lists, but their immutability makes them different.\n"
   ]
  },
  {
   "cell_type": "code",
   "execution_count": 1,
   "metadata": {},
   "outputs": [
    {
     "name": "stdout",
     "output_type": "stream",
     "text": [
      "()\n",
      "<class 'tuple'>\n"
     ]
    }
   ],
   "source": [
    "## creating a tuple\n",
    "empty_tuple=()\n",
    "print(empty_tuple)\n",
    "print(type(empty_tuple))"
   ]
  },
  {
   "cell_type": "code",
   "execution_count": 2,
   "metadata": {},
   "outputs": [
    {
     "name": "stdout",
     "output_type": "stream",
     "text": [
      "<class 'list'>\n",
      "<class 'tuple'>\n"
     ]
    }
   ],
   "source": [
    "lst=list()\n",
    "print(type(lst))\n",
    "tpl=tuple()\n",
    "print(type(tpl))"
   ]
  },
  {
   "cell_type": "code",
   "execution_count": 2,
   "metadata": {},
   "outputs": [
    {
     "data": {
      "text/plain": [
       "(1, 2, 3, 4, 5, 6)"
      ]
     },
     "execution_count": 2,
     "metadata": {},
     "output_type": "execute_result"
    }
   ],
   "source": [
    "numbers=tuple([1,2,3,4,5,6])\n",
    "numbers"
   ]
  },
  {
   "cell_type": "code",
   "execution_count": 4,
   "metadata": {},
   "outputs": [
    {
     "data": {
      "text/plain": [
       "[1, 2, 3, 4, 5, 6]"
      ]
     },
     "execution_count": 4,
     "metadata": {},
     "output_type": "execute_result"
    }
   ],
   "source": [
    "list((1,2,3,4,5,6))"
   ]
  },
  {
   "cell_type": "code",
   "execution_count": 8,
   "metadata": {},
   "outputs": [
    {
     "name": "stdout",
     "output_type": "stream",
     "text": [
      "(1, 'Hello World', 3.14, True)\n"
     ]
    }
   ],
   "source": [
    "mixed_tuple=(1,\"Hello World\",3.14, True)\n",
    "print(mixed_tuple)"
   ]
  },
  {
   "cell_type": "code",
   "execution_count": 7,
   "metadata": {},
   "outputs": [
    {
     "data": {
      "text/plain": [
       "(1, 2, 3, 4, 5, 6)"
      ]
     },
     "execution_count": 7,
     "metadata": {},
     "output_type": "execute_result"
    }
   ],
   "source": [
    "## Accessing Tuple Elements\n",
    "\n",
    "numbers"
   ]
  },
  {
   "cell_type": "code",
   "execution_count": 4,
   "metadata": {},
   "outputs": [
    {
     "name": "stdout",
     "output_type": "stream",
     "text": [
      "3\n",
      "6\n"
     ]
    }
   ],
   "source": [
    "print(numbers[2])\n",
    "print(numbers[-1])"
   ]
  },
  {
   "cell_type": "code",
   "execution_count": 10,
   "metadata": {},
   "outputs": [
    {
     "data": {
      "text/plain": [
       "(1, 2, 3, 4)"
      ]
     },
     "execution_count": 10,
     "metadata": {},
     "output_type": "execute_result"
    }
   ],
   "source": [
    "numbers[0:4]"
   ]
  },
  {
   "cell_type": "code",
   "execution_count": 5,
   "metadata": {},
   "outputs": [
    {
     "data": {
      "text/plain": [
       "(6, 5, 4, 3, 2, 1)"
      ]
     },
     "execution_count": 5,
     "metadata": {},
     "output_type": "execute_result"
    }
   ],
   "source": [
    "numbers[::-1]"
   ]
  },
  {
   "cell_type": "code",
   "execution_count": 9,
   "metadata": {},
   "outputs": [
    {
     "name": "stdout",
     "output_type": "stream",
     "text": [
      "(1, 2, 3, 4, 5, 6, 1, 'Hello World', 3.14, True)\n"
     ]
    }
   ],
   "source": [
    "## Tuple Operations\n",
    "\n",
    "concatenation_tuple=numbers + mixed_tuple\n",
    "print(concatenation_tuple)"
   ]
  },
  {
   "cell_type": "code",
   "execution_count": null,
   "metadata": {},
   "outputs": [
    {
     "data": {
      "text/plain": [
       "(1,\n",
       " 'Hello World',\n",
       " 3.14,\n",
       " True,\n",
       " 1,\n",
       " 'Hello World',\n",
       " 3.14,\n",
       " True,\n",
       " 1,\n",
       " 'Hello World',\n",
       " 3.14,\n",
       " True)"
      ]
     },
     "execution_count": 12,
     "metadata": {},
     "output_type": "execute_result"
    }
   ],
   "source": [
    "mixed_tuple * 3\n",
    "# u can do this in list to \n",
    "mixed_list = [1, 'a', True]\n",
    "result = mixed_list * 3\n",
    "print(result)\n"
   ]
  },
  {
   "cell_type": "code",
   "execution_count": 13,
   "metadata": {},
   "outputs": [
    {
     "data": {
      "text/plain": [
       "(1, 2, 3, 4, 5, 6, 1, 2, 3, 4, 5, 6, 1, 2, 3, 4, 5, 6)"
      ]
     },
     "execution_count": 13,
     "metadata": {},
     "output_type": "execute_result"
    }
   ],
   "source": [
    "numbers *3"
   ]
  },
  {
   "cell_type": "code",
   "execution_count": 14,
   "metadata": {},
   "outputs": [
    {
     "name": "stdout",
     "output_type": "stream",
     "text": [
      "[1, 2, 3, 4, 5]\n",
      "[1, 'Krish', 3, 4, 5]\n"
     ]
    }
   ],
   "source": [
    "## Immutable Nature Of Tuples\n",
    "## Tuples are immutable, meaning their elements cannot be changed once assigned.\n",
    "\n",
    "lst=[1,2,3,4,5]\n",
    "print(lst)\n",
    "\n",
    "lst[1]=\"Krish\"\n",
    "print(lst)\n"
   ]
  },
  {
   "cell_type": "code",
   "execution_count": null,
   "metadata": {},
   "outputs": [
    {
     "ename": "TypeError",
     "evalue": "'tuple' object does not support item assignment",
     "output_type": "error",
     "traceback": [
      "\u001b[1;31m---------------------------------------------------------------------------\u001b[0m",
      "\u001b[1;31mTypeError\u001b[0m                                 Traceback (most recent call last)",
      "Cell \u001b[1;32mIn[15], line 1\u001b[0m\n\u001b[1;32m----> 1\u001b[0m \u001b[43mnumbers\u001b[49m\u001b[43m[\u001b[49m\u001b[38;5;241;43m1\u001b[39;49m\u001b[43m]\u001b[49m\u001b[38;5;241m=\u001b[39m\u001b[38;5;124m\"\u001b[39m\u001b[38;5;124mKrish\u001b[39m\u001b[38;5;124m\"\u001b[39m\n",
      "\u001b[1;31mTypeError\u001b[0m: 'tuple' object does not support item assignment"
     ]
    }
   ],
   "source": [
    "numbers[1]=\"Krish\"  #tuples are immutable"
   ]
  },
  {
   "cell_type": "code",
   "execution_count": 16,
   "metadata": {},
   "outputs": [
    {
     "data": {
      "text/plain": [
       "(1, 2, 3, 4, 5, 6)"
      ]
     },
     "execution_count": 16,
     "metadata": {},
     "output_type": "execute_result"
    }
   ],
   "source": [
    "numbers"
   ]
  },
  {
   "cell_type": "code",
   "execution_count": 17,
   "metadata": {},
   "outputs": [
    {
     "name": "stdout",
     "output_type": "stream",
     "text": [
      "1\n",
      "2\n"
     ]
    }
   ],
   "source": [
    "## Tuple Methods\n",
    "print(numbers.count(1))\n",
    "print(numbers.index(3))"
   ]
  },
  {
   "cell_type": "code",
   "execution_count": 1,
   "metadata": {},
   "outputs": [
    {
     "data": {
      "text/plain": [
       "[(1, 2), (1, 3), (2, 1)]"
      ]
     },
     "execution_count": 1,
     "metadata": {},
     "output_type": "execute_result"
    }
   ],
   "source": [
    "t_list = [(1,3), (1,2), (2,1)]\n",
    "sorted(t_list)  # [(1,2), (1,3), (2,1)] → sorted element-wise\n"
   ]
  },
  {
   "cell_type": "code",
   "execution_count": 2,
   "metadata": {},
   "outputs": [
    {
     "data": {
      "text/plain": [
       "True"
      ]
     },
     "execution_count": 2,
     "metadata": {},
     "output_type": "execute_result"
    }
   ],
   "source": [
    "# Element-wise comparison\n",
    "(1, 2, 3) < (1, 2, 4)    # True → first two elements equal, 3 < 4\n",
    "(1, 2, 3) > (1, 2)       # True → longer tuple is greater if first part equal\n",
    "(1, 2) == (1, 2)         # True\n",
    "(1, 3) != (1, 2)         # True\n"
   ]
  },
  {
   "cell_type": "code",
   "execution_count": 18,
   "metadata": {},
   "outputs": [
    {
     "name": "stdout",
     "output_type": "stream",
     "text": [
      "(1, 'Hello', 3.14)\n"
     ]
    }
   ],
   "source": [
    "## Packing and Unpacking tuple\n",
    "## packing\n",
    "packed_tuple=1,\"Hello\",3.14\n",
    "print(packed_tuple)"
   ]
  },
  {
   "cell_type": "code",
   "execution_count": 29,
   "metadata": {},
   "outputs": [
    {
     "name": "stdout",
     "output_type": "stream",
     "text": [
      "1\n",
      "Hello\n",
      "3.14\n"
     ]
    }
   ],
   "source": [
    "##unpacking a tuple\n",
    "a,b,c=packed_tuple\n",
    "\n",
    "print(a)\n",
    "print(b)\n",
    "print(c)"
   ]
  },
  {
   "cell_type": "code",
   "execution_count": 30,
   "metadata": {},
   "outputs": [
    {
     "name": "stdout",
     "output_type": "stream",
     "text": [
      "1\n",
      "[2, 3, 4, 5]\n",
      "6\n"
     ]
    }
   ],
   "source": [
    "## Unpacking with *\n",
    "numbers=(1,2,3,4,5,6)\n",
    "first,*middle,last=numbers\n",
    "print(first)\n",
    "print(middle)\n",
    "print(last)"
   ]
  },
  {
   "cell_type": "code",
   "execution_count": 19,
   "metadata": {},
   "outputs": [
    {
     "data": {
      "text/plain": [
       "[1, 2, 3]"
      ]
     },
     "execution_count": 19,
     "metadata": {},
     "output_type": "execute_result"
    }
   ],
   "source": [
    "## Nested Tuple\n",
    "## Nested List\n",
    "lst=[[1,2,3,4],[6,7,8,9],[1,\"Hello\",3.14,\"c\"]]\n",
    "lst[0][0:3]"
   ]
  },
  {
   "cell_type": "code",
   "execution_count": 34,
   "metadata": {},
   "outputs": [
    {
     "data": {
      "text/plain": [
       "(1, 'Hello', 3.14)"
      ]
     },
     "execution_count": 34,
     "metadata": {},
     "output_type": "execute_result"
    }
   ],
   "source": [
    "lst=[[1,2,3,4],[6,7,8,9],(1,\"Hello\",3.14,\"c\")]\n",
    "lst[2][0:3]"
   ]
  },
  {
   "cell_type": "code",
   "execution_count": 20,
   "metadata": {},
   "outputs": [
    {
     "name": "stdout",
     "output_type": "stream",
     "text": [
      "(1, 2, 3)\n",
      "c\n"
     ]
    }
   ],
   "source": [
    "nested_tuple = ((1, 2, 3), (\"a\", \"b\", \"c\"), (True, False))\n",
    "\n",
    "## access the elements inside a tuple\n",
    "print(nested_tuple[0])\n",
    "print(nested_tuple[1][2])"
   ]
  },
  {
   "cell_type": "code",
   "execution_count": 21,
   "metadata": {},
   "outputs": [
    {
     "name": "stdout",
     "output_type": "stream",
     "text": [
      "1 2 3 \n",
      "a b c \n",
      "True False \n"
     ]
    }
   ],
   "source": [
    "## iterating over nested tuples\n",
    "for sub_tuple in nested_tuple:\n",
    "    for item in sub_tuple:\n",
    "        print(item,end=\" \")\n",
    "    print()"
   ]
  },
  {
   "cell_type": "markdown",
   "metadata": {},
   "source": [
    "Absolutely! Let’s make a **comprehensive “everything you need to know” guide for Python tuples** — not just methods, but **concepts, behavior, memory, operations, best practices, examples, interview tips, and advanced tricks**, all in one place. Here’s the full breakdown:\n",
    "\n",
    "---\n",
    "\n",
    "# 🟢 PYTHON TUPLES – COMPLETE GUIDE\n",
    "\n",
    "---\n",
    "\n",
    "## 1️⃣ What is a Tuple?\n",
    "\n",
    "* **Ordered, immutable collection** of elements.\n",
    "* Can contain **mixed data types**: int, float, string, other tuples, lists.\n",
    "* Defined using **parentheses `()`** or simply commas `,`.\n",
    "* Example:\n",
    "\n",
    "```python\n",
    "t1 = (1, 2, 3)\n",
    "t2 = 1, 2, 3           # parentheses optional\n",
    "t3 = (1, \"hello\", 3.5) # mixed types\n",
    "```\n",
    "\n",
    "* Immutable → cannot change individual elements after creation.\n",
    "\n",
    "---\n",
    "\n",
    "## 2️⃣ Creating Tuples\n",
    "\n",
    "| Type              | Example          | Result                      |\n",
    "| ----------------- | ---------------- | --------------------------- |\n",
    "| Empty tuple       | `()`             | `()`                        |\n",
    "| Single element    | `(5,)`           | `(5,)` – must include comma |\n",
    "| Multiple elements | `(1,2,3)`        | `(1,2,3)`                   |\n",
    "| From list         | `tuple([1,2,3])` | `(1,2,3)`                   |\n",
    "| Nested            | `(1, (2,3), 4)`  | `(1,(2,3),4)`               |\n",
    "\n",
    "---\n",
    "\n",
    "## 3️⃣ Accessing & Slicing\n",
    "\n",
    "| Operation      | Example   | Result                       |\n",
    "| -------------- | --------- | ---------------------------- |\n",
    "| Index          | `t[1]`    | Element at index 1           |\n",
    "| Negative index | `t[-1]`   | Last element                 |\n",
    "| Slice          | `t[1:3]`  | Elements from index 1 to 2   |\n",
    "| Step           | `t[::2]`  | Every 2nd element            |\n",
    "| Nested access  | `t[1][0]` | First element of inner tuple |\n",
    "\n",
    "---\n",
    "\n",
    "## 4️⃣ Tuple Methods\n",
    "\n",
    "> Tuples have **very few methods** because they are immutable.\n",
    "\n",
    "| Method                     | Input | Action                  | Return  | Example                    |\n",
    "| -------------------------- | ----- | ----------------------- | ------- | -------------------------- |\n",
    "| `count(x)`                 | Value | Counts occurrences of x | Integer | `(1,2,2,3).count(2)` → `2` |\n",
    "| `index(x[, start[, end]])` | Value | Finds first index of x  | Integer | `(1,2,3).index(2)` → `1`   |\n",
    "\n",
    "> **Note:** Tuples do **not** have `append`, `remove`, `pop`, `sort`, etc., because they are immutable.\n",
    "\n",
    "---\n",
    "\n",
    "## 5️⃣ Operations on Tuples\n",
    "\n",
    "| Operation     | Example                                        | Result          |\n",
    "| ------------- | ---------------------------------------------- | --------------- |\n",
    "| Concatenation | `(1,2)+(3,4)`                                  | `(1,2,3,4)`     |\n",
    "| Repetition    | `(1,2)*3`                                      | `(1,2,1,2,1,2)` |\n",
    "| Membership    | `2 in (1,2,3)`                                 | `True`          |\n",
    "| Iteration     | `for x in (1,2,3): print(x)`                   | Prints 1,2,3    |\n",
    "| Length        | `len((1,2,3))`                                 | 3               |\n",
    "| Min/Max       | `min((1,5,2))` → `1` <br> `max((1,5,2))` → `5` |                 |\n",
    "| Sum           | `sum((1,2,3))` → `6`                           |                 |\n",
    "\n",
    "---\n",
    "\n",
    "## 6️⃣ Tuple Unpacking\n",
    "\n",
    "```python\n",
    "t = (1,2,3)\n",
    "a, b, c = t\n",
    "print(a,b,c)  # 1 2 3\n",
    "\n",
    "# Using starred expression\n",
    "a, *b = (1,2,3,4)\n",
    "print(a,b)  # 1 [2,3,4]\n",
    "```\n",
    "\n",
    "---\n",
    "\n",
    "## 7️⃣ Nested Tuples\n",
    "\n",
    "```python\n",
    "t = ((1,2),(3,4))\n",
    "print(t[1][1])  # 4\n",
    "\n",
    "# Flatten\n",
    "flat = [x for tup in t for x in tup]  # [1,2,3,4]\n",
    "```\n",
    "\n",
    "---\n",
    "\n",
    "## 8️⃣ Conversion Between Types\n",
    "\n",
    "| Conversion     | Example                  | Result          |\n",
    "| -------------- | ------------------------ | --------------- |\n",
    "| List → Tuple   | `tuple([1,2,3])`         | `(1,2,3)`       |\n",
    "| Tuple → List   | `list((1,2,3))`          | `[1,2,3]`       |\n",
    "| String → Tuple | `tuple(\"abc\")`           | `('a','b','c')` |\n",
    "| Tuple → String | `''.join(('a','b','c'))` | `'abc'`         |\n",
    "\n",
    "---\n",
    "\n",
    "## 9️⃣ Memory & Performance Notes\n",
    "\n",
    "* Tuples are **lighter and faster** than lists.\n",
    "* Ideal for **fixed data** or **constants**.\n",
    "* Tuples are **hashable** if all elements are immutable → can be used as **dict keys** or in **sets**.\n",
    "\n",
    "---\n",
    "\n",
    "## 🔟 Interview / Practical Notes\n",
    "\n",
    "| Topic          | Note                                                                   |\n",
    "| -------------- | ---------------------------------------------------------------------- |\n",
    "| Immutability   | Cannot modify elements; use concatenation or repetition for changes    |\n",
    "| Nested Tuples  | Inner tuples can be accessed but not changed                           |\n",
    "| Single Element | `(x,)` is tuple, `(x)` is int                                          |\n",
    "| Hashable       | Tuples with immutable items can be dictionary keys                     |\n",
    "| Tuple vs List  | Tuple → immutable, lightweight, hashable <br> List → mutable, flexible |\n",
    "\n",
    "---\n",
    "\n",
    "## 1️⃣1️⃣ Advanced Tricks\n",
    "\n",
    "* **Unpacking in loops:**\n",
    "\n",
    "```python\n",
    "points = [(1,2),(3,4)]\n",
    "for x, y in points:\n",
    "    print(x+y)\n",
    "```\n",
    "\n",
    "* **Swapping variables:**\n",
    "\n",
    "```python\n",
    "a, b = 5, 10\n",
    "a, b = b, a\n",
    "```\n",
    "\n",
    "* **Multiple return values from function:**\n",
    "\n",
    "```python\n",
    "def f(): return 1,2,3\n",
    "x, y, z = f()\n",
    "```\n",
    "\n",
    "* **Use as dictionary keys:**\n",
    "\n",
    "```python\n",
    "d = {(1,2): \"value\"}\n",
    "print(d[(1,2)])  # 'value'\n",
    "```\n",
    "\n",
    "* **Packing / Nested unpacking:**\n",
    "\n",
    "```python\n",
    "t = (1, (2,3), 4)\n",
    "a, (b,c), d = t\n",
    "print(a,b,c,d)  # 1 2 3 4\n",
    "```\n",
    "\n",
    "---\n",
    "\n",
    "✅ **Summary**\n",
    "\n",
    "* **Immutable, ordered, hashable, lightweight**\n",
    "* Methods: only `count()` and `index()`\n",
    "* Use **tuple unpacking, nested tuples, and concatenation** effectively\n",
    "* Ideal for **fixed datasets, constants, dictionary keys**\n",
    "\n",
    "---\n",
    "\n",
    "I can also create a **fully formatted PDF cheat sheet for tuples** — just like we did for **lists** and **strings**, including:\n",
    "\n",
    "* Concepts\n",
    "* Methods table (input, action, return, example)\n",
    "* Operations & tricks\n",
    "* Nested examples & interview notes\n",
    "\n",
    "Do you want me to generate the **tuple PDF cheat sheet** next?\n"
   ]
  },
  {
   "cell_type": "markdown",
   "metadata": {},
   "source": [
    "#### Conclusion\n",
    "Tuples are versatile and useful in many real-world scenarios where an immutable and ordered collection of items is required. They are commonly used in data structures, function arguments and return values, and as dictionary keys. Understanding how to leverage tuples effectively can improve the efficiency and readability of your Python code."
   ]
  },
  {
   "cell_type": "code",
   "execution_count": null,
   "metadata": {},
   "outputs": [],
   "source": []
  },
  {
   "cell_type": "code",
   "execution_count": null,
   "metadata": {},
   "outputs": [],
   "source": []
  },
  {
   "cell_type": "code",
   "execution_count": null,
   "metadata": {},
   "outputs": [],
   "source": []
  },
  {
   "cell_type": "code",
   "execution_count": null,
   "metadata": {},
   "outputs": [],
   "source": []
  },
  {
   "cell_type": "code",
   "execution_count": null,
   "metadata": {},
   "outputs": [],
   "source": []
  },
  {
   "cell_type": "code",
   "execution_count": null,
   "metadata": {},
   "outputs": [],
   "source": []
  }
 ],
 "metadata": {
  "kernelspec": {
   "display_name": "base",
   "language": "python",
   "name": "python3"
  },
  "language_info": {
   "codemirror_mode": {
    "name": "ipython",
    "version": 3
   },
   "file_extension": ".py",
   "mimetype": "text/x-python",
   "name": "python",
   "nbconvert_exporter": "python",
   "pygments_lexer": "ipython3",
   "version": "3.12.7"
  }
 },
 "nbformat": 4,
 "nbformat_minor": 2
}
