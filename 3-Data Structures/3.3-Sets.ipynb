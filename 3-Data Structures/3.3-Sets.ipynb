{
 "cells": [
  {
   "cell_type": "markdown",
   "metadata": {},
   "source": [
    "#### Sets\n",
    "Sets are a built-in data type in Python used to store collections of unique items. They are unordered, meaning that the elements do not follow a specific order, and they do not allow duplicate elements. Sets are useful for membership tests, eliminating duplicate entries, and performing mathematical set operations like union, intersection, difference, and symmetric difference."
   ]
  },
  {
   "cell_type": "markdown",
   "metadata": {},
   "source": [
    "Absolutely! Here’s a **list of tricky and advanced Python `set` questions with examples and explanations** — so you can **test your concepts in depth**.\n",
    "\n",
    "---\n",
    "\n",
    "# 🟢 Python Sets – Tricky & Advanced Questions with Examples\n",
    "\n",
    "---\n",
    "\n",
    "## 1️⃣ Set Immutability / Hashability\n",
    "\n",
    "**Q1:** Can a set contain another set?\n",
    "\n",
    "```python\n",
    "s = {1, 2, {3,4}}  # ❌ TypeError\n",
    "```\n",
    "\n",
    "* ❌ Sets require **hashable elements**.\n",
    "* ✅ Use `frozenset`:\n",
    "\n",
    "```python\n",
    "s = {1, 2, frozenset([3,4])}\n",
    "print(s)  # {1, 2, frozenset({3, 4})}\n",
    "```\n",
    "\n",
    "**Q2:** Can a tuple inside a set contain a list?\n",
    "\n",
    "```python\n",
    "s = {(1, 2, [3,4])}  # ❌ TypeError\n",
    "```\n",
    "\n",
    "* Tuples must contain **hashable elements** to be added to a set.\n",
    "\n",
    "---\n",
    "\n",
    "## 2️⃣ Adding / Removing Elements\n",
    "\n",
    "**Q3:** Difference between `discard()` and `remove()`\n",
    "\n",
    "```python\n",
    "s = {1,2,3}\n",
    "s.discard(4)  # ✅ Does nothing\n",
    "s.remove(4)   # ❌ Raises KeyError\n",
    "```\n",
    "\n",
    "**Q4:** `pop()` removes an arbitrary element\n",
    "\n",
    "```python\n",
    "s = {1,2,3}\n",
    "x = s.pop()\n",
    "print(x, s)  # Element removed may vary\n",
    "```\n",
    "\n",
    "---\n",
    "\n",
    "## 3️⃣ Set Operations\n",
    "\n",
    "**Q5:** Symmetric difference vs difference\n",
    "\n",
    "```python\n",
    "s1 = {1,2,3}\n",
    "s2 = {2,3,4}\n",
    "print(s1 ^ s2)  # {1,4} -> either but not both\n",
    "print(s1 - s2)  # {1}   -> only in s1\n",
    "```\n",
    "\n",
    "**Q6:** Chaining operations\n",
    "\n",
    "```python\n",
    "s1 = {1,2,3,4}\n",
    "s2 = {3,4,5,6}\n",
    "s3 = {4,5,6,7}\n",
    "print(s1 & s2 | s3)  # {3,4,5,6,7} -> & has higher precedence than |\n",
    "```\n",
    "\n",
    "---\n",
    "\n",
    "## 4️⃣ Set Comprehension\n",
    "\n",
    "**Q7:** Even squares using set comprehension\n",
    "\n",
    "```python\n",
    "s = {x**2 for x in range(1,11) if x%2==0}\n",
    "print(s)  # {4, 16, 36, 64, 100}\n",
    "```\n",
    "\n",
    "**Q8:** Cartesian product using nested comprehension\n",
    "\n",
    "```python\n",
    "s = {x*y for x in {1,2,3} for y in {4,5}}\n",
    "print(s)  # {4,5,8,10,12,15}\n",
    "```\n",
    "\n",
    "---\n",
    "\n",
    "## 5️⃣ Membership & Performance\n",
    "\n",
    "**Q9:** Membership test performance\n",
    "\n",
    "```python\n",
    "lst = list(range(10000))\n",
    "s = set(range(10000))\n",
    "\n",
    "# list membership O(n)\n",
    "print(9999 in lst)  \n",
    "\n",
    "# set membership O(1)\n",
    "print(9999 in s)\n",
    "```\n",
    "\n",
    "* ✅ Concept: Sets are **hash table-based**, so membership tests are fast.\n",
    "\n",
    "---\n",
    "\n",
    "## 6️⃣ Frozenset (Immutable Set)\n",
    "\n",
    "**Q10:** Using frozensets as dictionary keys\n",
    "\n",
    "```python\n",
    "fs = frozenset([1,2,3])\n",
    "d = {fs: \"value\"}\n",
    "print(d[frozenset([2,1,3])])  # 'value' -> frozensets are unordered & hashable\n",
    "```\n",
    "\n",
    "**Q11:** Set operations with frozensets\n",
    "\n",
    "```python\n",
    "fs1 = frozenset([1,2,3])\n",
    "fs2 = frozenset([3,4,5])\n",
    "print(fs1 & fs2)  # frozenset({3})\n",
    "```\n",
    "\n",
    "---\n",
    "\n",
    "## 7️⃣ Iteration & Modification\n",
    "\n",
    "**Q12:** Modifying a set while iterating\n",
    "\n",
    "```python\n",
    "s = {1,2,3}\n",
    "for x in s:\n",
    "    s.add(4)  # ❌ RuntimeError: Set changed size during iteration\n",
    "```\n",
    "\n",
    "* ✅ Fix: Iterate over a copy:\n",
    "\n",
    "```python\n",
    "for x in s.copy():\n",
    "    s.add(4)\n",
    "```\n",
    "\n",
    "---\n",
    "\n",
    "## 8️⃣ Intersection Update / Difference Update\n",
    "\n",
    "**Q13:** In-place intersection\n",
    "\n",
    "```python\n",
    "s1 = {1,2,3}\n",
    "s2 = {2,3,4}\n",
    "s1 &= s2\n",
    "print(s1)  # {2,3} -> modifies s1 in-place\n",
    "```\n",
    "\n",
    "**Q14:** Difference update\n",
    "\n",
    "```python\n",
    "s1 = {1,2,3,4}\n",
    "s2 = {3,4}\n",
    "s1.difference_update(s2)\n",
    "print(s1)  # {1,2}\n",
    "```\n",
    "\n",
    "---\n",
    "\n",
    "## 9️⃣ Order & Sorting\n",
    "\n",
    "**Q15:** Can sets be sorted?\n",
    "\n",
    "```python\n",
    "s = {3,1,2}\n",
    "sorted_s = sorted(s)\n",
    "print(sorted_s)  # [1,2,3] -> returns a list, original set unchanged\n",
    "```\n",
    "\n",
    "**Q16:** Remove duplicates from list while preserving order\n",
    "\n",
    "```python\n",
    "lst = [1,2,2,3,3,1]\n",
    "lst_unique = list(dict.fromkeys(lst))\n",
    "print(lst_unique)  # [1,2,3]\n",
    "```\n",
    "\n",
    "---\n",
    "\n",
    "## 10️⃣ Tricky Real-Life Examples\n",
    "\n",
    "**Q17:** Find common elements in multiple lists\n",
    "\n",
    "```python\n",
    "l1 = [1,2,3]\n",
    "l2 = [2,3,4]\n",
    "l3 = [3,4,5]\n",
    "common = set(l1) & set(l2) & set(l3)\n",
    "print(common)  # {3}\n",
    "```\n",
    "\n",
    "**Q18:** Unique words in a paragraph\n",
    "\n",
    "```python\n",
    "text = \"hello world hello python\"\n",
    "unique_words = set(text.split())\n",
    "print(unique_words)  # {'hello','world','python'}\n",
    "```\n",
    "\n",
    "**Q19:** Check if two strings are anagrams\n",
    "\n",
    "```python\n",
    "s1 = \"listen\"\n",
    "s2 = \"silent\"\n",
    "print(set(s1) == set(s2))  # True -> checks characters, but does not check count\n",
    "```\n",
    "\n",
    "> ✅ Concept: For exact anagram check including counts, use `Counter` from `collections`.\n",
    "\n",
    "---\n",
    "\n",
    "These **19 tricky questions** cover:\n",
    "\n",
    "* **Hashability & immutability**\n",
    "* **Set operations & precedence**\n",
    "* **Comprehension & nested comprehension**\n",
    "* **Membership & performance**\n",
    "* **Frozensets**\n",
    "* **Iteration edge cases**\n",
    "* **In-place vs normal operations**\n",
    "* **Sorting & real-world problems**\n",
    "\n",
    "---\n",
    "\n",
    "If you want, I can make a **PDF cheat sheet** with all these **questions + answers + runnable examples** — so you can **practice and revise sets deeply for interviews**.\n",
    "\n",
    "Do you want me to do that next?\n"
   ]
  },
  {
   "cell_type": "markdown",
   "metadata": {},
   "source": [
    "Absolutely! Here’s a **complete reference for all Python `set` methods** with **input/arguments, action, return type, and examples**.\n",
    "\n",
    "---\n",
    "\n",
    "# 🟢 Python Set Methods – Complete Guide\n",
    "\n",
    "| Method                               | Input / Arguments | Action                                                           | Returns | Example                                                                        |\n",
    "| ------------------------------------ | ----------------- | ---------------------------------------------------------------- | ------- | ------------------------------------------------------------------------------ |\n",
    "| `add(elem)`                          | single element    | Adds `elem` to set                                               | `None`  | `python s = {1,2}; s.add(3); print(s) # {1,2,3} `                              |\n",
    "| `clear()`                            | None              | Removes all elements                                             | `None`  | `python s = {1,2}; s.clear(); print(s) # set() `                               |\n",
    "| `copy()`                             | None              | Returns a **shallow copy**                                       | `set`   | `python s = {1,2}; c = s.copy(); print(c) # {1,2} `                            |\n",
    "| `difference(*others)`                | one or more sets  | Returns a new set with elements **in the set but not in others** | `set`   | `python a={1,2,3}; b={2,3}; print(a.difference(b)) # {1} `                     |\n",
    "| `difference_update(*others)`         | one or more sets  | Removes elements **found in others** from set                    | `None`  | `python a={1,2,3}; b={2,3}; a.difference_update(b); print(a) # {1} `           |\n",
    "| `discard(elem)`                      | single element    | Removes element if present; **no error if absent**               | `None`  | `python s={1,2}; s.discard(3); print(s) # {1,2} `                              |\n",
    "| `intersection(*others)`              | one or more sets  | Returns a new set with elements **common to all sets**           | `set`   | `python a={1,2,3}; b={2,3,4}; print(a.intersection(b)) # {2,3} `               |\n",
    "| `intersection_update(*others)`       | one or more sets  | Keeps only elements **common to all sets**                       | `None`  | `python a={1,2,3}; b={2,3,4}; a.intersection_update(b); print(a) # {2,3} `     |\n",
    "| `isdisjoint(other)`                  | set               | Returns `True` if sets have **no elements in common**            | `bool`  | `python a={1}; b={2}; print(a.isdisjoint(b)) # True `                          |\n",
    "| `issubset(other)`                    | set               | Returns `True` if set is **subset of other**                     | `bool`  | `python {1,2}.issubset({1,2,3}) # True `                                       |\n",
    "| `issuperset(other)`                  | set               | Returns `True` if set is **superset of other**                   | `bool`  | `python {1,2,3}.issuperset({1,2}) # True `                                     |\n",
    "| `pop()`                              | None              | Removes and returns **arbitrary element**                        | element | `python s={1,2}; e=s.pop(); print(e, s) # 1 or 2, remaining set `              |\n",
    "| `remove(elem)`                       | element           | Removes element; **raises KeyError if absent**                   | `None`  | `python s={1,2}; s.remove(2); print(s) # {1} `                                 |\n",
    "| `symmetric_difference(other)`        | set               | Returns **elements in either set but not both**                  | `set`   | `python a={1,2}; b={2,3}; print(a.symmetric_difference(b)) # {1,3} `           |\n",
    "| `symmetric_difference_update(other)` | set               | Updates set with **symmetric difference**                        | `None`  | `python a={1,2}; b={2,3}; a.symmetric_difference_update(b); print(a) # {1,3} ` |\n",
    "| `union(*others)`                     | one or more sets  | Returns **all elements from set and others**                     | `set`   | `python {1,2}.union({2,3}) # {1,2,3} `                                         |\n",
    "| `update(*others)`                    | one or more sets  | Adds elements from all others to set                             | `None`  | `python a={1,2}; a.update({2,3}); print(a) # {1,2,3} `                         |\n",
    "\n",
    "---\n",
    "\n",
    "## ✅ Notes on Set Methods\n",
    "\n",
    "1. **Mutable vs Immutable**: `set` is mutable, `frozenset` is immutable (no add/remove).\n",
    "2. **Order**: Sets are **unordered**, so `pop()` removes an **arbitrary element**.\n",
    "3. **In-place vs returns**:\n",
    "\n",
    "   * `difference_update`, `intersection_update`, `symmetric_difference_update`, `update`, `discard`, `remove` → **modify original set**, return `None`.\n",
    "   * `difference`, `intersection`, `union`, `symmetric_difference` → **return new set**.\n",
    "4. **Membership**: `in` is **O(1)** on average.\n",
    "5. **Set operations** support mathematical **union, intersection, difference, symmetric difference**.\n",
    "\n",
    "---\n",
    "\n",
    "If you want, I can also make a **PDF cheat sheet for sets** including:\n",
    "\n",
    "* All methods\n",
    "* Input, return, action\n",
    "* Tricky examples\n",
    "* Advanced edge cases for interviews\n",
    "\n",
    "Do you want me to create that PDF next?\n"
   ]
  },
  {
   "cell_type": "code",
   "execution_count": 2,
   "metadata": {},
   "outputs": [
    {
     "name": "stdout",
     "output_type": "stream",
     "text": [
      "{1, 2, 3, 4, 5}\n",
      "<class 'set'>\n"
     ]
    }
   ],
   "source": [
    "##create a set\n",
    "my_set={1,2,3,4,5}\n",
    "print(my_set)\n",
    "print(type(my_set))"
   ]
  },
  {
   "cell_type": "code",
   "execution_count": 3,
   "metadata": {},
   "outputs": [
    {
     "name": "stdout",
     "output_type": "stream",
     "text": [
      "<class 'set'>\n"
     ]
    }
   ],
   "source": [
    "my_empty_set=set()\n",
    "print(type(my_empty_set))"
   ]
  },
  {
   "cell_type": "code",
   "execution_count": 4,
   "metadata": {},
   "outputs": [
    {
     "name": "stdout",
     "output_type": "stream",
     "text": [
      "{1, 2, 3, 4, 5, 6}\n"
     ]
    }
   ],
   "source": [
    "my_set=set([1,2,3,4,5,6])\n",
    "print(my_set)"
   ]
  },
  {
   "cell_type": "code",
   "execution_count": 16,
   "metadata": {},
   "outputs": [
    {
     "name": "stdout",
     "output_type": "stream",
     "text": [
      "{1, 2, 3, 4, 5, 6}\n"
     ]
    }
   ],
   "source": [
    "my_empty_set=set([1,2,3,6,5,4,5,6])\n",
    "print(my_empty_set)"
   ]
  },
  {
   "cell_type": "code",
   "execution_count": 17,
   "metadata": {},
   "outputs": [
    {
     "name": "stdout",
     "output_type": "stream",
     "text": [
      "{1, 2, 4, 5, 6, 7}\n",
      "{1, 2, 4, 5, 6, 7}\n"
     ]
    }
   ],
   "source": [
    "## Basics Sets Operation\n",
    "## Adiing and Removing Elements\n",
    "my_set.add(7)\n",
    "print(my_set)\n",
    "my_set.add(7)\n",
    "print(my_set)"
   ]
  },
  {
   "cell_type": "code",
   "execution_count": 18,
   "metadata": {},
   "outputs": [
    {
     "ename": "KeyError",
     "evalue": "3",
     "output_type": "error",
     "traceback": [
      "\u001b[1;31m---------------------------------------------------------------------------\u001b[0m",
      "\u001b[1;31mKeyError\u001b[0m                                  Traceback (most recent call last)",
      "Cell \u001b[1;32mIn[18], line 2\u001b[0m\n\u001b[0;32m      1\u001b[0m \u001b[38;5;66;03m## Remove the elements from a set\u001b[39;00m\n\u001b[1;32m----> 2\u001b[0m \u001b[43mmy_set\u001b[49m\u001b[38;5;241;43m.\u001b[39;49m\u001b[43mremove\u001b[49m\u001b[43m(\u001b[49m\u001b[38;5;241;43m3\u001b[39;49m\u001b[43m)\u001b[49m\n\u001b[0;32m      3\u001b[0m \u001b[38;5;28mprint\u001b[39m(my_set)\n",
      "\u001b[1;31mKeyError\u001b[0m: 3"
     ]
    }
   ],
   "source": [
    "## Remove the elements from a set\n",
    "my_set.remove(3)\n",
    "print(my_set)"
   ]
  },
  {
   "cell_type": "code",
   "execution_count": 7,
   "metadata": {},
   "outputs": [
    {
     "ename": "KeyError",
     "evalue": "10",
     "output_type": "error",
     "traceback": [
      "\u001b[1;31m---------------------------------------------------------------------------\u001b[0m",
      "\u001b[1;31mKeyError\u001b[0m                                  Traceback (most recent call last)",
      "Cell \u001b[1;32mIn[7], line 1\u001b[0m\n\u001b[1;32m----> 1\u001b[0m \u001b[43mmy_set\u001b[49m\u001b[38;5;241;43m.\u001b[39;49m\u001b[43mremove\u001b[49m\u001b[43m(\u001b[49m\u001b[38;5;241;43m10\u001b[39;49m\u001b[43m)\u001b[49m\n",
      "\u001b[1;31mKeyError\u001b[0m: 10"
     ]
    }
   ],
   "source": [
    "my_set.remove(10)"
   ]
  },
  {
   "cell_type": "code",
   "execution_count": 22,
   "metadata": {},
   "outputs": [
    {
     "name": "stdout",
     "output_type": "stream",
     "text": [
      "set()\n"
     ]
    }
   ],
   "source": [
    "my_set.discard(11)\n",
    "print(my_set)"
   ]
  },
  {
   "cell_type": "code",
   "execution_count": null,
   "metadata": {},
   "outputs": [
    {
     "name": "stdout",
     "output_type": "stream",
     "text": [
      "2\n",
      "{4, 5, 6, 7}\n"
     ]
    }
   ],
   "source": [
    "## pop method\n",
    "# Removes and returns an arbitrary element from the set.\n",
    "# It removes a random element, not based on position.  \n",
    "# If the set is empty, it raises a KeyError.\n",
    "# Since sets are unordered, it doesn’t remove the “last” or “first” element like in a list.\n",
    "#  it romove frist in frist out .. \n",
    "\n",
    "removed_element=my_set.pop()\n",
    "print(removed_element)\n",
    "print(my_set)"
   ]
  },
  {
   "cell_type": "code",
   "execution_count": 21,
   "metadata": {},
   "outputs": [
    {
     "name": "stdout",
     "output_type": "stream",
     "text": [
      "set()\n"
     ]
    }
   ],
   "source": [
    "## clear all the elements\n",
    "my_set.clear()\n",
    "print(my_set)"
   ]
  },
  {
   "cell_type": "code",
   "execution_count": null,
   "metadata": {},
   "outputs": [
    {
     "name": "stdout",
     "output_type": "stream",
     "text": [
      "True\n",
      "False\n"
     ]
    }
   ],
   "source": [
    "## Set Memebership test\n",
    "my_set={1,2,3,4,5}\n",
    "print(3 in my_set)\n",
    "print(10 in my_set)\n",
    "\n",
    "# set lookup with in: ⚡ Fast (O(1) on average)\n",
    "\n",
    "# list lookup with in: 🐢 Slower (O(n), goes item by item)"
   ]
  },
  {
   "cell_type": "code",
   "execution_count": null,
   "metadata": {},
   "outputs": [
    {
     "name": "stdout",
     "output_type": "stream",
     "text": [
      "{1, 2, 3, 4, 5, 6, 7, 8, 9}\n",
      "{4, 5, 6}\n",
      "{4, 5, 6}\n"
     ]
    }
   ],
   "source": [
    "## MAthematical Operation\n",
    "set1={1,2,3,4,5,6}\n",
    "set2={4,5,6,7,8,9}\n",
    "\n",
    "### Union\n",
    "union_set=set1.union(set2)\n",
    "print(union_set)\n",
    "\n",
    "## Intersection\n",
    "intersection_set=set1.intersection(set2)  ## This creates a NEW set\n",
    "print(intersection_set)\n",
    "\n",
    "set1.intersection_update(set2)    # This MODIFIES set1 directly\n",
    "print(set1)"
   ]
  },
  {
   "cell_type": "code",
   "execution_count": null,
   "metadata": {},
   "outputs": [
    {
     "name": "stdout",
     "output_type": "stream",
     "text": [
      "{1, 2, 3}\n"
     ]
    }
   ],
   "source": [
    "set1={1,2,3,4,5,6}\n",
    "set2={4,5,6,7,8,9}\n",
    "\n",
    "## Difference \n",
    "print(set1.difference(set2))  # This creates a NEW set"
   ]
  },
  {
   "cell_type": "code",
   "execution_count": 2,
   "metadata": {},
   "outputs": [
    {
     "data": {
      "text/plain": [
       "{1, 2, 3, 4, 5, 6}"
      ]
     },
     "execution_count": 2,
     "metadata": {},
     "output_type": "execute_result"
    }
   ],
   "source": [
    "set1"
   ]
  },
  {
   "cell_type": "code",
   "execution_count": 6,
   "metadata": {},
   "outputs": [
    {
     "name": "stdout",
     "output_type": "stream",
     "text": [
      "{8, 9, 7}\n",
      "{4, 5, 6, 7, 8, 9}\n"
     ]
    }
   ],
   "source": [
    "print(set2.difference(set1))\n",
    "print(set2)"
   ]
  },
  {
   "cell_type": "code",
   "execution_count": null,
   "metadata": {},
   "outputs": [
    {
     "data": {
      "text/plain": [
       "{1, 2, 3, 7, 8, 9}"
      ]
     },
     "execution_count": 25,
     "metadata": {},
     "output_type": "execute_result"
    }
   ],
   "source": [
    "## Symmetric Difference\n",
    "set1.symmetric_difference(set2) # (set1 - set2) ∪ (set2 - set1)\n"
   ]
  },
  {
   "cell_type": "code",
   "execution_count": 7,
   "metadata": {},
   "outputs": [
    {
     "name": "stdout",
     "output_type": "stream",
     "text": [
      "False\n",
      "True\n"
     ]
    }
   ],
   "source": [
    "## Sets Methods\n",
    "set1={1,2,3,4,5}\n",
    "set2={3,4,5}\n",
    "\n",
    "## is subset\n",
    "print(set1.issubset(set2))\n",
    "\n",
    "print(set1.issuperset(set2))"
   ]
  },
  {
   "cell_type": "code",
   "execution_count": 31,
   "metadata": {},
   "outputs": [
    {
     "data": {
      "text/plain": [
       "{1, 2, 3, 4, 5}"
      ]
     },
     "execution_count": 31,
     "metadata": {},
     "output_type": "execute_result"
    }
   ],
   "source": [
    "lst=[1,2,2,3,4,4,5]\n",
    "\n",
    "set(lst)"
   ]
  },
  {
   "cell_type": "code",
   "execution_count": null,
   "metadata": {},
   "outputs": [
    {
     "name": "stdout",
     "output_type": "stream",
     "text": [
      "{'tutorial', 'we', 'discussing', 'this', 'In', 'about', 'sets', 'are'}\n",
      "8\n"
     ]
    }
   ],
   "source": [
    "### Counting Unique words in text\n",
    "\n",
    "text=\"In this tutorial we are discussing about sets\"\n",
    "words=text.split()\n",
    "#In Python, text.split() does return a list.\n",
    "\n",
    "## convert list of words to set to get unique words\n",
    "\n",
    "unique_words=set(words)\n",
    "print(unique_words)\n",
    "print(len(unique_words))"
   ]
  },
  {
   "cell_type": "markdown",
   "metadata": {},
   "source": [
    "Absolutely! Let’s create a **full, detailed, ultimate Python `set` guide** — adding **all possible details, examples, best practices, hidden tricks, memory notes, and interview insights**. This will be a **complete reference you can use for study or interviews**.\n",
    "\n",
    "---\n",
    "\n",
    "# 🟢 PYTHON SETS – COMPLETE GUIDE\n",
    "\n",
    "---\n",
    "\n",
    "## 1️⃣ What is a Set?\n",
    "\n",
    "* A **set** is an **unordered**, **mutable**, **unique collection** of elements.\n",
    "* **Characteristics:**\n",
    "\n",
    "  * No duplicate elements.\n",
    "  * Elements must be **hashable** (immutable types: int, float, string, tuple, frozenset).\n",
    "  * **Unordered** → elements do not have a fixed position.\n",
    "  * **Mutable** → elements can be added/removed.\n",
    "* **Use cases:**\n",
    "\n",
    "  * Remove duplicates from lists\n",
    "  * Fast membership testing\n",
    "  * Mathematical set operations (union, intersection, difference)\n",
    "\n",
    "```python\n",
    "s1 = {1, 2, 3}\n",
    "s2 = set([1,2,3])\n",
    "s3 = {1, 2, 2, 3}  # duplicates removed → {1, 2, 3}\n",
    "```\n",
    "\n",
    "> Note: `{}` creates a dictionary, not a set. Use `set()` for empty set.\n",
    "\n",
    "---\n",
    "\n",
    "## 2️⃣ Creating Sets\n",
    "\n",
    "| Method          | Example          | Result              | Notes                   |\n",
    "| --------------- | ---------------- | ------------------- | ----------------------- |\n",
    "| Using braces    | `{1,2,3}`        | `{1,2,3}`           | Simple literal          |\n",
    "| Using `set()`   | `set([1,2,3])`   | `{1,2,3}`           | Convert iterable to set |\n",
    "| From string     | `set(\"hello\")`   | `{'h','e','l','o'}` | Only unique characters  |\n",
    "| From tuple/list | `set((1,2,2,3))` | `{1,2,3}`           | Duplicates removed      |\n",
    "| Empty set       | `set()`          | `set()`             | `{}` creates dict       |\n",
    "\n",
    "---\n",
    "\n",
    "## 3️⃣ Set Properties & Behavior\n",
    "\n",
    "* **Unordered:** Cannot access elements by index.\n",
    "* **Mutable:** Add, remove, or clear elements.\n",
    "* **No duplicates:** Automatically removes duplicates.\n",
    "* **Hashable elements only:** Cannot store mutable elements like lists or dicts.\n",
    "* **Dynamic memory:** Python sets use **hash tables**, fast lookup.\n",
    "\n",
    "```python\n",
    "s = {1,2,3}\n",
    "s.add(4)\n",
    "s.remove(2)\n",
    "print(s)  # {1,3,4}\n",
    "```\n",
    "\n",
    "---\n",
    "\n",
    "## 4️⃣ Set Operations\n",
    "\n",
    "| Operation            | Example                 | Result                              | Notes                         |                |\n",
    "| -------------------- | ----------------------- | ----------------------------------- | ----------------------------- | -------------- |\n",
    "| Union                | `s1                     | s2`                                 | Elements in s1 or s2          | `s1.union(s2)` |\n",
    "| Intersection         | `s1 & s2`               | Elements in both                    | `s1.intersection(s2)`         |                |\n",
    "| Difference           | `s1 - s2`               | Elements in s1 not in s2            | `s1.difference(s2)`           |                |\n",
    "| Symmetric Difference | `s1 ^ s2`               | Elements in either set but not both | `s1.symmetric_difference(s2)` |                |\n",
    "| Membership           | `2 in s1`               | True / False                        | Fast lookup O(1)              |                |\n",
    "| Length               | `len(s1)`               | Number of elements                  |                               |                |\n",
    "| Iteration            | `for x in s1: print(x)` | Prints elements                     | Order unpredictable           |                |\n",
    "\n",
    "---\n",
    "\n",
    "\n",
    "---\n",
    "\n",
    "## 6️⃣ Memory & Performance\n",
    "\n",
    "* Implemented as **hash tables** → fast membership (`O(1)` average).\n",
    "* More memory-intensive than lists due to hashing.\n",
    "* Ideal for **removing duplicates** and **set operations** efficiently.\n",
    "\n",
    "---\n",
    "\n",
    "## 7️⃣ Advanced / Hidden Tricks\n",
    "\n",
    "* **Set comprehension:**\n",
    "\n",
    "```python\n",
    "s = {x*x for x in range(5)}\n",
    "print(s)  # {0,1,4,9,16}\n",
    "```\n",
    "\n",
    "* **Remove duplicates from list:**\n",
    "\n",
    "```python\n",
    "lst = [1,2,2,3,3,3]\n",
    "lst_unique = list(set(lst))  # [1,2,3]\n",
    "```\n",
    "\n",
    "* **Frozenset:** Immutable set, hashable → can be dict keys.\n",
    "\n",
    "```python\n",
    "fs = frozenset([1,2,3])\n",
    "d = {fs: \"value\"}\n",
    "print(d[fs])  # 'value'\n",
    "```\n",
    "\n",
    "* **Set operations with multiple sets:**\n",
    "\n",
    "```python\n",
    "s1 = {1,2,3}\n",
    "s2 = {2,3,4}\n",
    "s3 = {3,4,5}\n",
    "s1.union(s2, s3)  # {1,2,3,4,5}\n",
    "```\n",
    "\n",
    "* **Iterate unique items from a list:**\n",
    "\n",
    "```python\n",
    "for x in set([1,2,2,3]):\n",
    "    print(x)\n",
    "```\n",
    "\n",
    "---\n",
    "\n",
    "## 8️⃣ Best Practices\n",
    "\n",
    "* Use **sets** for **unique collections** and **membership testing**.\n",
    "* Use **frozensets** when you need **immutable sets** (like dict keys).\n",
    "* Prefer **set operations** over loops for efficiency.\n",
    "* Avoid storing **mutable elements** in sets (like lists or dicts).\n",
    "\n",
    "---\n",
    "\n",
    "## 9️⃣ Interview Notes\n",
    "\n",
    "* Sets are **unordered**, **mutable**, and store **unique elements**.\n",
    "* **Membership testing** is faster than lists (`O(1)` vs `O(n)`).\n",
    "* **Mathematical operations** like union, intersection, difference are **very efficient**.\n",
    "* **Hashable elements only** → cannot store lists/dicts.\n",
    "* **Frozensets** → immutable, hashable, usable as dictionary keys.\n",
    "* **Set comprehension** → concise and efficient.\n",
    "\n",
    "---\n",
    "\n",
    "## 🔟 Summary\n",
    "\n",
    "* **Definition:** Unordered, mutable, unique collection.\n",
    "* **Key features:** No duplicates, fast membership, set operations.\n",
    "* **Important methods:** `add`, `update`, `remove`, `discard`, `pop`, `union`, `intersection`, `difference`, `symmetric_difference`, `issubset`, `issuperset`, `copy`.\n",
    "* **Advanced:** Set comprehension, frozenset, multiple set operations.\n",
    "* **Use cases:** Removing duplicates, fast lookup, mathematical set operations, constants (frozenset).\n",
    "\n",
    "---\n",
    "\n",
    "I can also make a **fully formatted PDF cheat sheet for Python sets** — including:\n",
    "\n",
    "* Methods with **input, action, return, examples**\n",
    "* Set operations\n",
    "* Tricks & best practices\n",
    "* Interview notes\n",
    "\n",
    "This would match your **tuples and strings cheat sheets**, making it a **complete Python reference**.\n",
    "\n",
    "Do you want me to create the **set PDF cheat sheet** next?\n"
   ]
  },
  {
   "cell_type": "markdown",
   "metadata": {},
   "source": [
    "#### Conclusion\n",
    "Sets are a powerful and flexible data type in Python that provide a way to store collections of unique elements. They support various operations such as union, intersection, difference, and symmetric difference, which are useful for mathematical computations. Understanding how to use sets and their associated methods can help you write more efficient and clean Python code, especially when dealing with unique collections and membership tests."
   ]
  },
  {
   "cell_type": "code",
   "execution_count": null,
   "metadata": {},
   "outputs": [],
   "source": []
  },
  {
   "cell_type": "code",
   "execution_count": null,
   "metadata": {},
   "outputs": [],
   "source": []
  },
  {
   "cell_type": "code",
   "execution_count": null,
   "metadata": {},
   "outputs": [],
   "source": []
  },
  {
   "cell_type": "code",
   "execution_count": null,
   "metadata": {},
   "outputs": [],
   "source": []
  },
  {
   "cell_type": "code",
   "execution_count": null,
   "metadata": {},
   "outputs": [],
   "source": []
  },
  {
   "cell_type": "code",
   "execution_count": null,
   "metadata": {},
   "outputs": [],
   "source": []
  },
  {
   "cell_type": "code",
   "execution_count": null,
   "metadata": {},
   "outputs": [],
   "source": []
  },
  {
   "cell_type": "code",
   "execution_count": null,
   "metadata": {},
   "outputs": [],
   "source": []
  }
 ],
 "metadata": {
  "kernelspec": {
   "display_name": "Python 3",
   "language": "python",
   "name": "python3"
  },
  "language_info": {
   "codemirror_mode": {
    "name": "ipython",
    "version": 3
   },
   "file_extension": ".py",
   "mimetype": "text/x-python",
   "name": "python",
   "nbconvert_exporter": "python",
   "pygments_lexer": "ipython3",
   "version": "3.10.11"
  }
 },
 "nbformat": 4,
 "nbformat_minor": 2
}
