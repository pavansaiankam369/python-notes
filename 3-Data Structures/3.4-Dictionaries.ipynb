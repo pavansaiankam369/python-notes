{
 "cells": [
  {
   "cell_type": "markdown",
   "metadata": {},
   "source": [
    "#### Dictionaries\n",
    "Video Outline:\n",
    "1. Introduction to Dictionaries\n",
    "2. Creating Dictionaries\n",
    "3. Accessing Dictionary Elements\n",
    "4. Modifying Dictionary Elements\n",
    "5. Dictionary Methods\n",
    "6. Iterating Over Dictionaries\n",
    "7. Nested Dictionaries\n",
    "8. Dictionary Comprehensions\n",
    "9. Practical Examples and Common Errors"
   ]
  },
  {
   "cell_type": "markdown",
   "metadata": {},
   "source": [
    "##### Introduction to Dictionaries\n",
    "\n",
    "Dictionaries are unordered collections of items. They store data in key-value pairs.\n",
    "Keys must be unique and immutable (e.g., strings, numbers, or tuples), while values can be of any type."
   ]
  },
  {
   "cell_type": "markdown",
   "metadata": {},
   "source": [
    "Got it 👍 — here’s a **compact list of the most important & tricky points about Python dictionaries** that you should keep in mind:\n",
    "\n",
    "---\n",
    "\n",
    "## 🔑 Key Points about Dictionaries\n",
    "\n",
    "1. **Unordered but insertion-ordered (Python 3.7+)**\n",
    "\n",
    "   * In older versions (<3.7), dicts were unordered.\n",
    "   * Now, dictionaries **preserve insertion order** (the order you add keys).\n",
    "\n",
    "2. **Keys must be immutable (hashable)**\n",
    "\n",
    "   * Valid keys: strings, numbers, tuples (if elements are immutable).\n",
    "   * Invalid keys: lists, sets, dicts (because they are mutable).\n",
    "\n",
    "3. **Values can be any type (mutable or immutable)**\n",
    "\n",
    "   * A dict can hold lists, sets, or even another dictionary as values.\n",
    "\n",
    "4. **Duplicate keys overwrite values**\n",
    "\n",
    "   ```python\n",
    "   d = {\"a\": 1, \"a\": 2}\n",
    "   print(d)  # {'a': 2}\n",
    "   ```\n",
    "\n",
    "5. **Fast lookup (Hash Table implementation)**\n",
    "\n",
    "   * `dict` operations (insert, lookup, delete) are **average O(1)**.\n",
    "\n",
    "6. **Accessing missing keys → KeyError**\n",
    "\n",
    "   * Use `.get(key, default)` to avoid error.\n",
    "\n",
    "   ```python\n",
    "   d = {\"a\": 1}\n",
    "   print(d.get(\"b\", \"not found\"))  # not found\n",
    "   ```\n",
    "\n",
    "7. **Mutable values are tricky**\n",
    "\n",
    "   * If you use a list/set as a value and modify it, all references see the change.\n",
    "\n",
    "   ```python\n",
    "   d = {\"x\": []}\n",
    "   d[\"x\"].append(10)\n",
    "   print(d)  # {'x': [10]}\n",
    "   ```\n",
    "\n",
    "8. **Dictionary views are dynamic**\n",
    "\n",
    "   * `.keys()`, `.values()`, `.items()` reflect changes live.\n",
    "\n",
    "   ```python\n",
    "   d = {\"a\": 1}\n",
    "   k = d.keys()\n",
    "   d[\"b\"] = 2\n",
    "   print(k)  # dict_keys(['a', 'b'])\n",
    "   ```\n",
    "\n",
    "9. **Merging dictionaries (Python 3.9+)**\n",
    "\n",
    "   ```python\n",
    "   d1 = {\"a\": 1}\n",
    "   d2 = {\"b\": 2}\n",
    "   d3 = d1 | d2\n",
    "   print(d3)  # {'a': 1, 'b': 2}\n",
    "   ```\n",
    "\n",
    "10. **Dictionary comprehension**\n",
    "\n",
    "    ```python\n",
    "    squares = {x: x*x for x in range(5)}\n",
    "    print(squares)  # {0: 0, 1: 1, 2: 4, 3: 9, 4: 16}\n",
    "    ```\n",
    "\n",
    "---\n",
    "\n",
    "⚡ **Super-Tricky Edge Case:**\n",
    "\n",
    "```python\n",
    "d = {}\n",
    "d[True] = \"yes\"\n",
    "d[1] = \"no\"\n",
    "print(d)   # {True: 'no'}\n",
    "```\n",
    "\n",
    "👉 Because `True == 1` in Python, they collide as the same key!\n",
    "\n",
    "---\n",
    "\n",
    "Do you want me to also make a **“dictionary cheatsheet” table** with methods (`get`, `setdefault`, `update`, `pop`, `fromkeys`, etc.) and their tricky behaviors?\n"
   ]
  },
  {
   "cell_type": "code",
   "execution_count": 1,
   "metadata": {},
   "outputs": [
    {
     "name": "stdout",
     "output_type": "stream",
     "text": [
      "<class 'dict'>\n"
     ]
    }
   ],
   "source": [
    "## Creating Dictionaries\n",
    "empty_dict={}\n",
    "print(type(empty_dict))"
   ]
  },
  {
   "cell_type": "code",
   "execution_count": 2,
   "metadata": {},
   "outputs": [
    {
     "data": {
      "text/plain": [
       "{}"
      ]
     },
     "execution_count": 2,
     "metadata": {},
     "output_type": "execute_result"
    }
   ],
   "source": [
    "empty_dict=dict()\n",
    "empty_dict"
   ]
  },
  {
   "cell_type": "code",
   "execution_count": 4,
   "metadata": {},
   "outputs": [
    {
     "name": "stdout",
     "output_type": "stream",
     "text": [
      "{'name': 'Krish', 'age': 32, 'grade': 24}\n",
      "<class 'dict'>\n"
     ]
    }
   ],
   "source": [
    "student={\"name\":\"Krish\",\"age\":32,\"grade\":24}\n",
    "print(student)\n",
    "print(type(student))"
   ]
  },
  {
   "cell_type": "code",
   "execution_count": 1,
   "metadata": {},
   "outputs": [
    {
     "name": "stdout",
     "output_type": "stream",
     "text": [
      "{'name': 24, 'age': 32}\n"
     ]
    }
   ],
   "source": [
    "# Single key is slways used\n",
    "# key must be unique and immutable\n",
    "\n",
    "\n",
    "student={\"name\":\"Krish\",\"age\":32,\"name\":24}\n",
    "print(student)"
   ]
  },
  {
   "cell_type": "code",
   "execution_count": 7,
   "metadata": {},
   "outputs": [
    {
     "name": "stdout",
     "output_type": "stream",
     "text": [
      "{'name': 'Krish', 'age': 32, 'grade': 'A'}\n"
     ]
    }
   ],
   "source": [
    "## accessing Dictionary Elements\n",
    "student={\"name\":\"Krish\",\"age\":32,\"grade\":'A'}\n",
    "print(student)"
   ]
  },
  {
   "cell_type": "code",
   "execution_count": 1,
   "metadata": {},
   "outputs": [
    {
     "ename": "NameError",
     "evalue": "name 'student' is not defined",
     "output_type": "error",
     "traceback": [
      "\u001b[1;31m---------------------------------------------------------------------------\u001b[0m",
      "\u001b[1;31mNameError\u001b[0m                                 Traceback (most recent call last)",
      "Cell \u001b[1;32mIn[1], line 2\u001b[0m\n\u001b[0;32m      1\u001b[0m \u001b[38;5;66;03m## Accessing Dictionary elements\u001b[39;00m\n\u001b[1;32m----> 2\u001b[0m \u001b[38;5;28mprint\u001b[39m(\u001b[43mstudent\u001b[49m[\u001b[38;5;124m\"\u001b[39m\u001b[38;5;124mgrade\u001b[39m\u001b[38;5;124m\"\u001b[39m])\n\u001b[0;32m      3\u001b[0m \u001b[38;5;28mprint\u001b[39m(student[\u001b[38;5;124m'\u001b[39m\u001b[38;5;124mage\u001b[39m\u001b[38;5;124m'\u001b[39m])\n\u001b[0;32m      5\u001b[0m \u001b[38;5;66;03m## Accessing using get() method\u001b[39;00m\n",
      "\u001b[1;31mNameError\u001b[0m: name 'student' is not defined"
     ]
    }
   ],
   "source": [
    "## Accessing Dictionary elements\n",
    "print(student[\"grade\"])\n",
    "print(student['age'])\n",
    "\n",
    "## Accessing using get() method\n",
    "print(student.get(\"grade\"))\n",
    "print(student.get('last_name'))\n",
    "print(student.get('last_name',\"Not Available\")) #giving default  value if u donot find a key\n"
   ]
  },
  {
   "cell_type": "code",
   "execution_count": 8,
   "metadata": {},
   "outputs": [
    {
     "name": "stdout",
     "output_type": "stream",
     "text": [
      "{'name': 'Krish', 'age': 32, 'grade': 'A'}\n"
     ]
    }
   ],
   "source": [
    "## Modifying Dicitonary Elements\n",
    "## Dictionary are mutable,so you can add, update or delete elements\n",
    "print(student)"
   ]
  },
  {
   "cell_type": "code",
   "execution_count": 9,
   "metadata": {},
   "outputs": [
    {
     "name": "stdout",
     "output_type": "stream",
     "text": [
      "{'name': 'Krish', 'age': 33, 'grade': 'A'}\n",
      "{'name': 'Krish', 'age': 33, 'grade': 'A', 'address': 'India'}\n"
     ]
    }
   ],
   "source": [
    "student[\"age\"]=33  ##update value for the key\n",
    "print(student)\n",
    "student[\"address\"]=\"India\" ## added a new key and value\n",
    "print(student)"
   ]
  },
  {
   "cell_type": "code",
   "execution_count": 13,
   "metadata": {},
   "outputs": [
    {
     "name": "stdout",
     "output_type": "stream",
     "text": [
      "{'name': 'Krish', 'age': 33, 'address': 'India'}\n"
     ]
    }
   ],
   "source": [
    "del student['grade'] ## delete key and value pair\n",
    "\n",
    "print(student)"
   ]
  },
  {
   "cell_type": "code",
   "execution_count": 10,
   "metadata": {},
   "outputs": [
    {
     "name": "stdout",
     "output_type": "stream",
     "text": [
      "dict_keys(['name', 'age', 'grade', 'address'])\n",
      "dict_values(['Krish', 33, 'A', 'India'])\n",
      "dict_items([('name', 'Krish'), ('age', 33), ('grade', 'A'), ('address', 'India')])\n"
     ]
    }
   ],
   "source": [
    "## Dictionary methods\n",
    "\n",
    "keys=student.keys() ##get all the keys\n",
    "print(keys)\n",
    "values=student.values() ##get all values\n",
    "print(values)\n",
    "\n",
    "items=student.items() ##get all key value pairs\n",
    "print(items)"
   ]
  },
  {
   "cell_type": "code",
   "execution_count": null,
   "metadata": {},
   "outputs": [
    {
     "name": "stdout",
     "output_type": "stream",
     "text": [
      "{'name': 'Krish2', 'age': 33, 'grade': 'A', 'address': 'India'}\n",
      "{'name': 'Krish2', 'age': 33, 'grade': 'A', 'address': 'India'}\n"
     ]
    }
   ],
   "source": [
    "## it's a reference copy\n",
    "student_copy=student\n",
    "print(student)\n",
    "print(student_copy)"
   ]
  },
  {
   "cell_type": "code",
   "execution_count": 13,
   "metadata": {},
   "outputs": [
    {
     "name": "stdout",
     "output_type": "stream",
     "text": [
      "{'name': 'Krish2', 'age': 33, 'grade': 'A', 'address': 'India'}\n",
      "{'name': 'Krish2', 'age': 33, 'grade': 'A', 'address': 'India'}\n"
     ]
    }
   ],
   "source": [
    "student[\"name\"]=\"Krish2\"\n",
    "print(student)\n",
    "print(student_copy)\n"
   ]
  },
  {
   "cell_type": "code",
   "execution_count": 14,
   "metadata": {},
   "outputs": [
    {
     "name": "stdout",
     "output_type": "stream",
     "text": [
      "{'name': 'Krish2', 'age': 33, 'grade': 'A', 'address': 'India'}\n",
      "{'name': 'Krish2', 'age': 33, 'grade': 'A', 'address': 'India'}\n"
     ]
    }
   ],
   "source": [
    "student_copy1=student.copy() ## shallow copy\n",
    "print(student_copy1)\n",
    "print(student)"
   ]
  },
  {
   "cell_type": "code",
   "execution_count": 15,
   "metadata": {},
   "outputs": [
    {
     "name": "stdout",
     "output_type": "stream",
     "text": [
      "{'name': 'Krish2', 'age': 33, 'grade': 'A', 'address': 'India'}\n",
      "{'name': 'KRish3', 'age': 33, 'grade': 'A', 'address': 'India'}\n"
     ]
    }
   ],
   "source": [
    "student[\"name\"]=\"KRish3\"\n",
    "print(student_copy1)\n",
    "print(student)"
   ]
  },
  {
   "cell_type": "code",
   "execution_count": 27,
   "metadata": {},
   "outputs": [
    {
     "name": "stdout",
     "output_type": "stream",
     "text": [
      "name\n",
      "age\n",
      "address\n"
     ]
    }
   ],
   "source": [
    "### Iterating Over Dictionaries\n",
    "## You can use loops to iterate over dictionatries, keys,values,or items\n",
    "\n",
    "## Iterating over keys\n",
    "for keys in student.keys():\n",
    "    print(keys)\n"
   ]
  },
  {
   "cell_type": "code",
   "execution_count": 28,
   "metadata": {},
   "outputs": [
    {
     "name": "stdout",
     "output_type": "stream",
     "text": [
      "KRish3\n",
      "33\n",
      "India\n"
     ]
    }
   ],
   "source": [
    "## Iterate over values\n",
    "for value in student.values():\n",
    "    print(value)"
   ]
  },
  {
   "cell_type": "code",
   "execution_count": 29,
   "metadata": {},
   "outputs": [
    {
     "name": "stdout",
     "output_type": "stream",
     "text": [
      "name:KRish3\n",
      "age:33\n",
      "address:India\n"
     ]
    }
   ],
   "source": [
    "## Iterate over key value pairs\n",
    "for key,value in student.items():\n",
    "    print(f\"{key}:{value}\")"
   ]
  },
  {
   "cell_type": "code",
   "execution_count": 16,
   "metadata": {},
   "outputs": [
    {
     "name": "stdout",
     "output_type": "stream",
     "text": [
      "{'student1': {'name': 'Krish', 'age': 32}, 'student2': {'name': 'Peter', 'age': 35}}\n"
     ]
    }
   ],
   "source": [
    "## Nested Disctionaries\n",
    "students={\n",
    "    \"student1\":{\"name\":\"Krish\",\"age\":32},\n",
    "    \"student2\":{\"name\":\"Peter\",\"age\":35}\n",
    "}\n",
    "print(students)"
   ]
  },
  {
   "cell_type": "code",
   "execution_count": null,
   "metadata": {},
   "outputs": [
    {
     "name": "stdout",
     "output_type": "stream",
     "text": [
      "Peter\n",
      "35\n"
     ]
    },
    {
     "ename": "",
     "evalue": "",
     "output_type": "error",
     "traceback": [
      "\u001b[1;31mThe Kernel crashed while executing code in the current cell or a previous cell. \n",
      "\u001b[1;31mPlease review the code in the cell(s) to identify a possible cause of the failure. \n",
      "\u001b[1;31mClick <a href='https://aka.ms/vscodeJupyterKernelCrash'>here</a> for more info. \n",
      "\u001b[1;31mView Jupyter <a href='command:jupyter.viewOutput'>log</a> for further details."
     ]
    }
   ],
   "source": [
    "## Access nested dictionaries elementss\n",
    "print(students[\"student2\"][\"name\"])\n",
    "print(students[\"student2\"][\"age\"])"
   ]
  },
  {
   "cell_type": "code",
   "execution_count": 32,
   "metadata": {},
   "outputs": [
    {
     "data": {
      "text/plain": [
       "dict_items([('student1', {'name': 'Krish', 'age': 32}), ('student2', {'name': 'Peter', 'age': 35})])"
      ]
     },
     "execution_count": 32,
     "metadata": {},
     "output_type": "execute_result"
    }
   ],
   "source": [
    "students.items()"
   ]
  },
  {
   "cell_type": "code",
   "execution_count": 34,
   "metadata": {},
   "outputs": [
    {
     "name": "stdout",
     "output_type": "stream",
     "text": [
      "student1:{'name': 'Krish', 'age': 32}\n",
      "name:Krish\n",
      "age:32\n",
      "student2:{'name': 'Peter', 'age': 35}\n",
      "name:Peter\n",
      "age:35\n"
     ]
    }
   ],
   "source": [
    "## Iterating over nested dictionaries\n",
    "for student_id,student_info in students.items():\n",
    "    print(f\"{student_id}:{student_info}\")\n",
    "    for key,value in student_info.items():\n",
    "        print(f\"{key}:{value}\")\n"
   ]
  },
  {
   "cell_type": "code",
   "execution_count": 35,
   "metadata": {},
   "outputs": [
    {
     "name": "stdout",
     "output_type": "stream",
     "text": [
      "{0: 0, 1: 1, 2: 4, 3: 9, 4: 16}\n"
     ]
    }
   ],
   "source": [
    "## Dictionary Comphrehension\n",
    "squares={x:x**2 for x in range(5)}\n",
    "print(squares)"
   ]
  },
  {
   "cell_type": "code",
   "execution_count": 36,
   "metadata": {},
   "outputs": [
    {
     "name": "stdout",
     "output_type": "stream",
     "text": [
      "{0: 0, 2: 4, 4: 16, 6: 36, 8: 64}\n"
     ]
    }
   ],
   "source": [
    "## Condition dictionary comprehension\n",
    "evens={x:x**2 for x in range(10) if x%2==0}\n",
    "print(evens)"
   ]
  },
  {
   "cell_type": "code",
   "execution_count": 37,
   "metadata": {},
   "outputs": [
    {
     "name": "stdout",
     "output_type": "stream",
     "text": [
      "{1: 1, 2: 2, 3: 3, 4: 4}\n"
     ]
    }
   ],
   "source": [
    "## Practical Examples\n",
    "\n",
    "## USe a dictionary to count he frequency of elements in list\n",
    "\n",
    "numbers=[1,2,2,3,3,3,4,4,4,4]\n",
    "frequency={}\n",
    "\n",
    "for number in numbers:\n",
    "    if number in frequency:\n",
    "        frequency[number]+=1\n",
    "    else:\n",
    "        frequency[number]=1\n",
    "print(frequency)\n"
   ]
  },
  {
   "cell_type": "code",
   "execution_count": null,
   "metadata": {},
   "outputs": [
    {
     "name": "stdout",
     "output_type": "stream",
     "text": [
      "{'a': 1, 'b': 3, 'c': 4}\n"
     ]
    }
   ],
   "source": [
    "## Merge 2 dictionaries into one\n",
    "\n",
    "dict1={\"a\":1,\"b\":2}\n",
    "dict2={\"b\":3,\"c\":4}\n",
    "merged_dict={**dict1,**dict2}\n",
    "print(merged_dict)\n",
    "\n",
    "\n",
    "#  another method using pipe operator\n",
    "dict1 = {'a': 1, 'b': 2}\n",
    "dict2 = {'b': 3, 'c': 4}\n",
    "\n",
    "merged = dict1 | dict2\n",
    "print(merged)\n",
    "\n",
    "\n",
    "#  modify the first dictionary\n",
    "dict1.update(dict2)\n",
    "print(dict1)\n",
    "\n",
    "#===========  note=========\n",
    "# u cant  use + operator to merge dictionaries\n",
    "#  u get TypeError: unsupported operand type(s) for +: 'dict' and 'dict'\n",
    "\n"
   ]
  },
  {
   "cell_type": "markdown",
   "metadata": {},
   "source": [
    "Perfect — let’s go **deep into the trickiest parts of Python dictionaries** 🚀.\n",
    "I’ll break it into **tricky questions/pitfalls** + **important methods** you must know.\n",
    "\n",
    "---\n",
    "\n",
    "# 🌀 Tricky Questions on Dictionaries\n",
    "\n",
    "1. **Boolean keys collide with integers**\n",
    "\n",
    "```python\n",
    "d = {}\n",
    "d[True] = \"yes\"\n",
    "d[1] = \"no\"\n",
    "print(d)  # {True: 'no'}\n",
    "```\n",
    "\n",
    "👉 Because `True == 1`. Similarly, `False == 0`.\n",
    "\n",
    "---\n",
    "\n",
    "2. **Mutable default trap with `fromkeys()`**\n",
    "\n",
    "```python\n",
    "d = dict.fromkeys([\"a\", \"b\"], [])\n",
    "d[\"a\"].append(10)\n",
    "print(d)  # {'a': [10], 'b': [10]}\n",
    "```\n",
    "\n",
    "👉 All keys share the same list reference. Use `{k: [] for k in keys}` instead.\n",
    "\n",
    "---\n",
    "\n",
    "3. **Deleting while iterating**\n",
    "\n",
    "```python\n",
    "d = {\"a\":1, \"b\":2}\n",
    "for k in d:\n",
    "    d.pop(k)   # RuntimeError: dictionary changed size\n",
    "```\n",
    "\n",
    "👉 Never modify dict while looping over it. Use `list(d.keys())`.\n",
    "\n",
    "---\n",
    "\n",
    "4. **KeyError vs get() vs setdefault()**\n",
    "\n",
    "```python\n",
    "d = {\"x\": 1}\n",
    "print(d.get(\"y\"))          # None\n",
    "print(d.setdefault(\"y\",0)) # 0 (also inserts y:0)\n",
    "print(d)                   # {'x': 1, 'y': 0}\n",
    "```\n",
    "\n",
    "---\n",
    "\n",
    "5. **Dictionary comprehension overwrites**\n",
    "\n",
    "```python\n",
    "d = {x%2: x for x in range(5)}\n",
    "print(d)  # {1: 3, 0: 4}\n",
    "```\n",
    "\n",
    "👉 Last values for duplicate keys stay.\n",
    "\n",
    "---\n",
    "\n",
    "6. **Immutable keys inside tuples**\n",
    "\n",
    "```python\n",
    "d = { (1,2): \"ok\", (1,[2,3]): \"bad\"}  # ❌ TypeError (list is unhashable)\n",
    "```\n",
    "\n",
    "👉 Tuples as keys are fine **only if all elements are immutable**.\n",
    "\n",
    "---\n",
    "\n",
    "7. **Dynamic dictionary views**\n",
    "\n",
    "```python\n",
    "d = {\"a\":1}\n",
    "v = d.values()\n",
    "d[\"b\"] = 2\n",
    "print(list(v))  # [1, 2]\n",
    "```\n",
    "\n",
    "👉 Views auto-update with dict changes.\n",
    "\n",
    "---\n",
    "\n",
    "8. **Key ordering in Python ≥ 3.7**\n",
    "\n",
    "```python\n",
    "d = {\"x\": 1, \"y\": 2}\n",
    "d[\"z\"] = 3\n",
    "print(d)  # preserves insertion order\n",
    "```\n",
    "\n",
    "---\n",
    "\n",
    "9. **Merging with overlapping keys**\n",
    "\n",
    "```python\n",
    "d1 = {\"a\":1, \"b\":2}\n",
    "d2 = {\"b\":3, \"c\":4}\n",
    "print(d1 | d2)   # {'a':1, 'b':3, 'c':4}\n",
    "```\n",
    "\n",
    "👉 Right dict (`d2`) wins on conflicts.\n",
    "\n",
    "---\n",
    "\n",
    "10. **Dictionary as default argument trap**\n",
    "\n",
    "```python\n",
    "def add(k,v,d={}):\n",
    "    d[k] = v\n",
    "    return d\n",
    "\n",
    "print(add(\"a\",1))   # {'a':1}\n",
    "print(add(\"b\",2))   # {'a':1, 'b':2}  (same dict reused!)\n",
    "```\n",
    "\n",
    "👉 Use `None` default and initialize inside function.\n",
    "\n",
    "---\n",
    "\n",
    "# ⚒️ Important Dictionary Methods (with gotchas)\n",
    "\n",
    "| Method                      | Usage                      | Tricky Point                              |\n",
    "| --------------------------- | -------------------------- | ----------------------------------------- |\n",
    "| `get(key, default)`         | Safe lookup                | Returns `None` if not found               |\n",
    "| `setdefault(key, default)`  | Insert if missing          | Mutates dict                              |\n",
    "| `update(dict2)`             | Merge dicts                | Overwrites existing keys                  |\n",
    "| `pop(key, default)`         | Remove & return            | Raises `KeyError` if missing & no default |\n",
    "| `popitem()`                 | Removes last inserted pair | Random in <3.7, ordered in ≥3.7           |\n",
    "| `keys(), values(), items()` | Views (live, not copies)   | Update dynamically                        |\n",
    "| `clear()`                   | Remove all items           | Dict becomes empty                        |\n",
    "| `copy()`                    | Shallow copy only          | Nested structures still shared            |\n",
    "| `fromkeys(seq, value)`      | Creates dict               | All keys share same value reference       |\n",
    "| `dict comprehension`        | `{k:v for ...}`            | Overwrites duplicate keys                 |\n",
    "\n",
    "---\n",
    "\n",
    "🔥 **Mini Challenge Questions for You**\n",
    "\n",
    "1. What happens?\n",
    "\n",
    "```python\n",
    "d = {}\n",
    "d[10] = \"int\"\n",
    "d[10.0] = \"float\"\n",
    "print(d)\n",
    "```\n",
    "\n",
    "2. Predict output:\n",
    "\n",
    "```python\n",
    "d = {\"a\": 1}\n",
    "print(d.pop(\"b\", 99))\n",
    "print(d)\n",
    "```\n",
    "\n",
    "3. Why is this dangerous?\n",
    "\n",
    "```python\n",
    "x = {1: [10,20]}\n",
    "y = x.copy()\n",
    "y[1].append(30)\n",
    "print(x)\n",
    "```\n",
    "\n",
    "---\n",
    "\n",
    "Do you want me to also prepare a **one-page \"dictionary cheatsheet\" with examples of each method + tricky outputs** (good for revision before exams/interviews)?\n"
   ]
  },
  {
   "cell_type": "code",
   "execution_count": null,
   "metadata": {},
   "outputs": [],
   "source": []
  },
  {
   "cell_type": "markdown",
   "metadata": {},
   "source": [
    "#### Conclusion\n",
    "Dictionaries are powerful tools in Python for managing key-value pairs. They are used in a variety of real-world scenarios, such as counting word frequency, grouping data, storing configuration settings, managing phonebooks, tracking inventory, and caching results. Understanding how to leverage dictionaries effectively can greatly enhance the efficiency and readability of your code."
   ]
  },
  {
   "cell_type": "code",
   "execution_count": null,
   "metadata": {},
   "outputs": [],
   "source": []
  }
 ],
 "metadata": {
  "kernelspec": {
   "display_name": "Python 3",
   "language": "python",
   "name": "python3"
  },
  "language_info": {
   "codemirror_mode": {
    "name": "ipython",
    "version": 3
   },
   "file_extension": ".py",
   "mimetype": "text/x-python",
   "name": "python",
   "nbconvert_exporter": "python",
   "pygments_lexer": "ipython3",
   "version": "3.10.11"
  }
 },
 "nbformat": 4,
 "nbformat_minor": 2
}
