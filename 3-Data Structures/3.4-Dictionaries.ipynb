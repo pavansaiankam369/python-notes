{
 "cells": [
  {
   "cell_type": "markdown",
   "metadata": {},
   "source": [
    "#### Dictionaries\n",
    "Video Outline:\n",
    "1. Introduction to Dictionaries\n",
    "2. Creating Dictionaries\n",
    "3. Accessing Dictionary Elements\n",
    "4. Modifying Dictionary Elements\n",
    "5. Dictionary Methods\n",
    "6. Iterating Over Dictionaries\n",
    "7. Nested Dictionaries\n",
    "8. Dictionary Comprehensions\n",
    "9. Practical Examples and Common Errors"
   ]
  },
  {
   "cell_type": "markdown",
   "metadata": {},
   "source": [
    "##### Introduction to Dictionaries\n",
    "\n",
    "Dictionaries are unordered collections of items. They store data in key-value pairs.\n",
    "Keys must be unique and immutable (e.g., strings, numbers, or tuples), while values can be of any type."
   ]
  },
  {
   "cell_type": "markdown",
   "metadata": {},
   "source": [
    "Absolutely! Let’s make a **comprehensive list of tricky and advanced Python `dict` questions with examples** — covering **concepts, methods, edge cases, performance, and interview-level tricks**.\n",
    "\n",
    "---\n",
    "\n",
    "# 🟢 Python Dictionaries – Tricky & Advanced Questions with Examples\n",
    "\n",
    "---\n",
    "\n",
    "## 1️⃣ Dictionary Creation & Keys\n",
    "\n",
    "**Q1:** Can a dictionary key be mutable?\n",
    "\n",
    "```python\n",
    "d = {[1,2]: \"value\"}  # ❌ TypeError\n",
    "```\n",
    "\n",
    "* ✅ Only **hashable/immutable** objects (int, float, string, tuple of immutables, frozenset) can be keys.\n",
    "\n",
    "```python\n",
    "d = {(1,2): \"value\"}  # ✅ works\n",
    "```\n",
    "\n",
    "**Q2:** Using `fromkeys`\n",
    "\n",
    "```python\n",
    "keys = ['a','b','c']\n",
    "d = dict.fromkeys(keys, [])\n",
    "d['a'].append(1)\n",
    "print(d)  # {'a':[1], 'b':[1], 'c':[1]} -> same list shared!\n",
    "```\n",
    "\n",
    "* ✅ Concept: `fromkeys` **shares the same mutable object**. Use list comprehension for separate lists:\n",
    "\n",
    "```python\n",
    "d = {k: [] for k in keys}\n",
    "d['a'].append(1)\n",
    "print(d)  # {'a':[1], 'b':[], 'c':[]}\n",
    "```\n",
    "\n",
    "---\n",
    "\n",
    "## 2️⃣ Access & Membership\n",
    "\n",
    "**Q3:** `get()` vs `[]`\n",
    "\n",
    "```python\n",
    "d = {'a':1}\n",
    "print(d.get('b'))   # None\n",
    "print(d['b'])       # ❌ KeyError\n",
    "```\n",
    "\n",
    "**Q4:** `in` operator\n",
    "\n",
    "```python\n",
    "d = {'a':1, 'b':2}\n",
    "print('a' in d)    # True -> checks keys, not values\n",
    "```\n",
    "\n",
    "---\n",
    "\n",
    "## 3️⃣ Updating & Merging\n",
    "\n",
    "**Q5:** `update()` vs assignment\n",
    "\n",
    "```python\n",
    "d1 = {'a':1, 'b':2}\n",
    "d2 = {'b':3, 'c':4}\n",
    "d1.update(d2)\n",
    "print(d1)  # {'a':1,'b':3,'c':4} -> updates existing keys\n",
    "```\n",
    "\n",
    "**Q6:** Python 3.9+ merge operator\n",
    "\n",
    "```python\n",
    "d1 = {'a':1}\n",
    "d2 = {'b':2}\n",
    "d3 = d1 | d2\n",
    "print(d3)  # {'a':1,'b':2}\n",
    "```\n",
    "\n",
    "---\n",
    "\n",
    "## 4️⃣ Dictionary Methods & Edge Cases\n",
    "\n",
    "| Method                      | Input         | Action                           | Return      | Example                                     |\n",
    "| --------------------------- | ------------- | -------------------------------- | ----------- | ------------------------------------------- |\n",
    "| `keys()`                    | None          | Returns view of keys             | dict_keys   | `d.keys()` → dict_keys(['a','b'])           |\n",
    "| `values()`                  | None          | Returns view of values           | dict_values | `d.values()` → dict_values([1,2])           |\n",
    "| `items()`                   | None          | Returns view of key-value pairs  | dict_items  | `d.items()` → dict_items([('a',1),('b',2)]) |\n",
    "| `pop(key[,default])`        | key           | Removes and returns value        | value       | `d.pop('a')` → 1                            |\n",
    "| `popitem()`                 | None          | Removes last inserted key-value  | tuple       | `d.popitem()` → ('b',2)                     |\n",
    "| `setdefault(key[,default])` | key, optional | Returns value or inserts default | value       | `d.setdefault('c',0)` → 0                   |\n",
    "| `clear()`                   | None          | Removes all items                | None        | `d.clear()` → {}                            |\n",
    "\n",
    "---\n",
    "\n",
    "## 5️⃣ Nested Dictionaries\n",
    "\n",
    "**Q7:** Access nested values\n",
    "\n",
    "```python\n",
    "d = {'a': {'b': {'c': 1}}}\n",
    "print(d['a']['b']['c'])  # 1\n",
    "```\n",
    "\n",
    "**Q8:** Using `get` with nested dict\n",
    "\n",
    "```python\n",
    "print(d.get('a', {}).get('b', {}).get('c'))  # 1\n",
    "print(d.get('x', {}).get('y', {}).get('z'))  # None -> avoids KeyError\n",
    "```\n",
    "\n",
    "---\n",
    "\n",
    "## 6️⃣ Dictionary Comprehension\n",
    "\n",
    "**Q9:** Simple comprehension\n",
    "\n",
    "```python\n",
    "d = {x: x**2 for x in range(5)}\n",
    "print(d)  # {0:0,1:1,2:4,3:9,4:16}\n",
    "```\n",
    "\n",
    "**Q10:** Conditional comprehension\n",
    "\n",
    "```python\n",
    "d = {x: x**2 for x in range(5) if x%2==0}\n",
    "print(d)  # {0:0,2:4,4:16}\n",
    "```\n",
    "\n",
    "**Q11:** Nested comprehension\n",
    "\n",
    "```python\n",
    "d = {i: {j:j*i for j in range(3)} for i in range(3)}\n",
    "print(d)  \n",
    "# {0:{0:0,1:0,2:0},1:{0:0,1:1,2:2},2:{0:0,1:2,2:4}}\n",
    "```\n",
    "\n",
    "---\n",
    "\n",
    "## 7️⃣ Iterating Over Dictionaries\n",
    "\n",
    "**Q12:** Iterating keys, values, items\n",
    "\n",
    "```python\n",
    "d = {'a':1,'b':2}\n",
    "for k in d:\n",
    "    print(k)  # keys by default\n",
    "\n",
    "for k,v in d.items():\n",
    "    print(k,v)  # a 1, b 2\n",
    "```\n",
    "\n",
    "---\n",
    "\n",
    "## 8️⃣ Sorting Dictionaries\n",
    "\n",
    "**Q13:** Sort by keys\n",
    "\n",
    "```python\n",
    "d = {'b':2,'a':1,'c':3}\n",
    "print(dict(sorted(d.items())))  # {'a':1,'b':2,'c':3}\n",
    "```\n",
    "\n",
    "**Q14:** Sort by values\n",
    "\n",
    "```python\n",
    "d = {'b':2,'a':1,'c':3}\n",
    "print(dict(sorted(d.items(), key=lambda x: x[1])))  # {'a':1,'b':2,'c':3}\n",
    "```\n",
    "\n",
    "---\n",
    "\n",
    "## 9️⃣ Advanced / Tricky Edge Cases\n",
    "\n",
    "**Q15:** Using mutable default with `setdefault`\n",
    "\n",
    "```python\n",
    "d = {}\n",
    "d.setdefault('a', []).append(1)\n",
    "print(d)  # {'a':[1]} ✅ safe\n",
    "```\n",
    "\n",
    "**Q16:** `dict.fromkeys` with mutable values\n",
    "\n",
    "```python\n",
    "keys = ['a','b','c']\n",
    "d = dict.fromkeys(keys, [])\n",
    "d['a'].append(1)\n",
    "print(d)  # {'a':[1],'b':[1],'c':[1]} -> shared object trap\n",
    "```\n",
    "\n",
    "---\n",
    "\n",
    "## 🔟 Performance & Memory\n",
    "\n",
    "**Q17:** Dictionary lookup time\n",
    "\n",
    "```python\n",
    "d = {i:i*2 for i in range(1000)}\n",
    "print(d[999])  # ✅ O(1) average case\n",
    "```\n",
    "\n",
    "**Q18:** Memory advantage over list of tuples for key-value storage\n",
    "\n",
    "* ✅ Dict uses **hash table**, provides **fast lookups**, vs linear search in list of tuples.\n",
    "\n",
    "---\n",
    "\n",
    "## 11️⃣ Interview-Level / Conceptual Questions\n",
    "\n",
    "1. Explain **hashable vs unhashable** objects for dict keys.\n",
    "2. Difference between `get()` and `[]`.\n",
    "3. How does Python 3.7+ maintain **insertion order** in dictionaries?\n",
    "4. Explain `dict.items()`, `keys()`, `values()` views.\n",
    "5. How to **merge dictionaries** before Python 3.9 and after?\n",
    "6. Explain **shallow vs deep copy** of nested dictionaries.\n",
    "7. How to **invert a dictionary** (swap keys and values) safely?\n",
    "8. How to **remove duplicates from a list using dict**?\n",
    "\n",
    "```python\n",
    "lst = [1,2,2,3]\n",
    "lst_unique = list(dict.fromkeys(lst))\n",
    "print(lst_unique)  # [1,2,3]\n",
    "```\n",
    "\n",
    "---\n",
    "\n",
    "Absolutely! Let’s **expand the tricky and advanced Python `dict` questions** with **more edge cases, hidden tricks, and interview-level scenarios** — all with examples. This will make your dict knowledge **really deep and interview-proof**.\n",
    "\n",
    "---\n",
    "\n",
    "# 🟢 Advanced & Tricky Python Dictionary Questions (Expanded)\n",
    "\n",
    "---\n",
    "\n",
    "## 12️⃣ Dictionary Key Tricks\n",
    "\n",
    "**Q19:** Tuple vs list as key\n",
    "\n",
    "```python\n",
    "d = {(1,2): \"ok\"}   # ✅ works\n",
    "# d = {[1,2]: \"ok\"} # ❌ TypeError: unhashable\n",
    "```\n",
    "\n",
    "* ✅ Concept: Keys must be **immutable/hashable**.\n",
    "\n",
    "**Q20:** Frozenset as key\n",
    "\n",
    "```python\n",
    "d = {frozenset([1,2]): \"value\"}\n",
    "print(d[frozenset([2,1])])  # 'value' -> order-independent key\n",
    "```\n",
    "\n",
    "---\n",
    "\n",
    "## 13️⃣ Dictionary Views & Set Operations\n",
    "\n",
    "**Q21:** Dict views act like sets\n",
    "\n",
    "```python\n",
    "d1 = {'a':1,'b':2}\n",
    "d2 = {'b':2,'c':3}\n",
    "\n",
    "print(d1.items() & d2.items())  # {('b',2)} -> intersection\n",
    "print(d1.keys() | d2.keys())    # {'a','b','c'} -> union\n",
    "```\n",
    "\n",
    "* ✅ Concept: `dict_items` supports **set operations**.\n",
    "\n",
    "---\n",
    "\n",
    "## 14️⃣ Nested Dictionary Manipulation\n",
    "\n",
    "**Q22:** Updating nested dictionary safely\n",
    "\n",
    "```python\n",
    "d = {'a': {'b': 2}}\n",
    "d.setdefault('a', {}).setdefault('c', 3)\n",
    "print(d)  # {'a': {'b': 2, 'c': 3}}\n",
    "```\n",
    "\n",
    "**Q23:** Merge nested dictionaries recursively\n",
    "\n",
    "```python\n",
    "from collections import ChainMap\n",
    "\n",
    "d1 = {'a': {'x':1}}\n",
    "d2 = {'a': {'y':2}}\n",
    "merged = {k: {**d1.get(k, {}), **d2.get(k, {})} for k in set(d1)|set(d2)}\n",
    "print(merged)  # {'a': {'x':1,'y':2}}\n",
    "```\n",
    "\n",
    "---\n",
    "\n",
    "## 15️⃣ Dictionary Comprehension Tricks\n",
    "\n",
    "**Q24:** Swap keys and values\n",
    "\n",
    "```python\n",
    "d = {'a':1,'b':2}\n",
    "inv = {v:k for k,v in d.items()}\n",
    "print(inv)  # {1:'a', 2:'b'}\n",
    "```\n",
    "\n",
    "**Q25:** Filter dictionary\n",
    "\n",
    "```python\n",
    "d = {'a':1,'b':2,'c':3}\n",
    "filtered = {k:v for k,v in d.items() if v%2==1}\n",
    "print(filtered)  # {'a':1,'c':3}\n",
    "```\n",
    "\n",
    "**Q26:** Flatten nested dict\n",
    "\n",
    "```python\n",
    "d = {'a':{'x':1,'y':2}, 'b':{'z':3}}\n",
    "flat = {(k1,k2):v2 for k1,v1 in d.items() for k2,v2 in v1.items()}\n",
    "print(flat)  # {('a','x'):1, ('a','y'):2, ('b','z'):3}\n",
    "```\n",
    "\n",
    "---\n",
    "\n",
    "## 16️⃣ Iteration Tricks\n",
    "\n",
    "**Q27:** Iterating over keys and values simultaneously\n",
    "\n",
    "```python\n",
    "d = {'a':1,'b':2}\n",
    "for k,v in zip(d.keys(), d.values()):\n",
    "    print(k,v)\n",
    "```\n",
    "\n",
    "**Q28:** Modify dict while iterating\n",
    "\n",
    "```python\n",
    "d = {'a':1,'b':2}\n",
    "for k in list(d.keys()):  # ✅ iterate over copy\n",
    "    d[k+'!'] = d[k]+1\n",
    "print(d)  # {'a':1,'b':2,'a!':2,'b!':3}\n",
    "```\n",
    "\n",
    "---\n",
    "\n",
    "## 17️⃣ Defaultdict & Counter\n",
    "\n",
    "**Q29:** Counting with defaultdict\n",
    "\n",
    "```python\n",
    "from collections import defaultdict\n",
    "words = ['apple','banana','apple']\n",
    "d = defaultdict(int)\n",
    "for w in words:\n",
    "    d[w] += 1\n",
    "print(d)  # {'apple':2,'banana':1}\n",
    "```\n",
    "\n",
    "**Q30:** Counter for advanced frequency\n",
    "\n",
    "```python\n",
    "from collections import Counter\n",
    "words = ['a','b','a','c','b','a']\n",
    "c = Counter(words)\n",
    "print(c.most_common(2))  # [('a',3),('b',2)]\n",
    "```\n",
    "\n",
    "---\n",
    "\n",
    "## 18️⃣ Edge Cases & Hidden Traps\n",
    "\n",
    "**Q31:** Mutable objects as values\n",
    "\n",
    "```python\n",
    "d = {'a':[]}\n",
    "d['b'] = d['a']\n",
    "d['b'].append(1)\n",
    "print(d)  # {'a':[1],'b':[1]} -> shared reference\n",
    "```\n",
    "\n",
    "**Q32:** Merging with unpacking operator (Python 3.5+)\n",
    "\n",
    "```python\n",
    "d1 = {'a':1}\n",
    "d2 = {'b':2}\n",
    "d3 = {**d1, **d2}\n",
    "print(d3)  # {'a':1,'b':2}\n",
    "```\n",
    "\n",
    "**Q33:** Check if dict is empty\n",
    "\n",
    "```python\n",
    "d = {}\n",
    "if not d:\n",
    "    print(\"Empty\")  # ✅ True if dict has no keys\n",
    "```\n",
    "\n",
    "---\n",
    "\n",
    "## 19️⃣ Performance Tricks\n",
    "\n",
    "**Q34:** Lookup time\n",
    "\n",
    "```python\n",
    "d = {i:i*2 for i in range(10000)}\n",
    "%timeit d[9999]  # ✅ O(1)\n",
    "```\n",
    "\n",
    "**Q35:** Avoid repeated `get()` in loops\n",
    "\n",
    "```python\n",
    "# Less efficient\n",
    "for k in keys:\n",
    "    if d.get(k) is not None:\n",
    "        process(d[k])\n",
    "\n",
    "# More efficient\n",
    "for k,v in d.items():\n",
    "    if v is not None:\n",
    "        process(v)\n",
    "```\n",
    "\n",
    "---\n",
    "\n",
    "## 20️⃣ Interview-Level Questions\n",
    "\n",
    "1. Explain **hash collisions** and how Python handles them in dicts.\n",
    "2. How insertion order is preserved in Python 3.7+.\n",
    "3. Difference between `dict.update()` and `{**d1, **d2}`.\n",
    "4. How to **invert a dictionary with non-unique values**.\n",
    "5. Using dict to **remove duplicates from a list while preserving order**.\n",
    "6. Explain **shallow vs deep copy** for nested dictionaries.\n",
    "7. Difference between `dict.items()` and `dict.iteritems()` (Python 2 vs 3).\n",
    "8. How to **merge nested dictionaries recursively**.\n",
    "\n",
    "---\n",
    "\n",
    "✅ \n",
    "\n"
   ]
  },
  {
   "cell_type": "markdown",
   "metadata": {},
   "source": [
    "Absolutely! Here’s a **comprehensive list of all Python `dict` methods** with **input/arguments, action, return type, and examples**. This is a complete reference for quick study and practice.\n",
    "\n",
    "---\n",
    "\n",
    "# 🟢 Python Dictionary Methods – Complete Guide\n",
    "\n",
    "| Method                            | Input / Arguments                                 | Action                                                                                      | Returns              | Example                                                                          |\n",
    "| --------------------------------- | ------------------------------------------------- | ------------------------------------------------------------------------------------------- | -------------------- | -------------------------------------------------------------------------------- |\n",
    "| `dict.clear()`                    | None                                              | Removes all items from dictionary                                                           | `None`               | `python d = {'a':1}; d.clear(); print(d) # {} `                                  |\n",
    "| `dict.copy()`                     | None                                              | Returns a shallow copy of the dictionary                                                    | `dict`               | `python d = {'a':1}; c = d.copy(); print(c) # {'a':1} `                          |\n",
    "| `dict.fromkeys(seq[, value])`     | sequence of keys, optional default value          | Creates a new dictionary with keys from sequence and values set to `value` (default `None`) | `dict`               | `python keys = ['a','b']; d = dict.fromkeys(keys, 0); print(d) # {'a':0,'b':0} ` |\n",
    "| `dict.get(key[, default])`        | key, optional default value                       | Returns value for key if key exists, else returns default (default `None`)                  | value                | `python d = {'a':1}; print(d.get('b', 0)) # 0 `                                  |\n",
    "| `dict.items()`                    | None                                              | Returns view object of key-value pairs                                                      | `dict_items`         | `python d = {'a':1}; print(d.items()) # dict_items([('a',1)]) `                  |\n",
    "| `dict.keys()`                     | None                                              | Returns view object of keys                                                                 | `dict_keys`          | `python d = {'a':1}; print(d.keys()) # dict_keys(['a']) `                        |\n",
    "| `dict.values()`                   | None                                              | Returns view object of values                                                               | `dict_values`        | `python d = {'a':1}; print(d.values()) # dict_values([1]) `                      |\n",
    "| `dict.pop(key[, default])`        | key, optional default value                       | Removes key and returns value. If key not found and default not provided, raises `KeyError` | value                | `python d = {'a':1}; v = d.pop('a'); print(v, d) # 1, {} `                       |\n",
    "| `dict.popitem()`                  | None                                              | Removes and returns last inserted key-value as tuple (Python 3.7+)                          | `(key, value)` tuple | `python d = {'a':1,'b':2}; print(d.popitem()) # ('b',2) `                        |\n",
    "| `dict.setdefault(key[, default])` | key, optional default value                       | Returns value if key exists, else inserts key with default and returns it                   | value                | `python d = {'a':1}; print(d.setdefault('b',0)) # 0, d = {'a':1,'b':0} `         |\n",
    "| `dict.update([other])`            | another dictionary or iterable of key-value pairs | Updates dictionary with key-value pairs from other                                          | `None`               | `python d = {'a':1}; d.update({'b':2}); print(d) # {'a':1,'b':2} `               |\n",
    "| `dict.popitem()`                  | None                                              | Removes and returns last inserted key-value pair                                            | `(key,value)`        | `python d = {'x':1,'y':2}; k,v = d.popitem(); print(k,v,d) # y 2 {'x':1} `       |\n",
    "| `dict.__contains__(key)`          | key                                               | Checks if key exists                                                                        | `bool`               | `python d = {'a':1}; print('a' in d) # True `                                    |\n",
    "| `dict.__eq__(other)`              | another dictionary                                | Compares equality                                                                           | `bool`               | `python d1 = {'a':1}; d2 = {'a':1}; print(d1==d2) # True `                       |\n",
    "| `dict.__len__()`                  | None                                              | Returns number of items                                                                     | `int`                | `python d = {'a':1,'b':2}; print(len(d)) # 2 `                                   |\n",
    "| `dict.__getitem__(key)`           | key                                               | Returns value for key                                                                       | value                | `python d = {'a':1}; print(d['a']) # 1 `                                         |\n",
    "| `dict.__setitem__(key,value)`     | key, value                                        | Sets key to value                                                                           | `None`               | `python d = {}; d['a']=1; print(d) # {'a':1} `                                   |\n",
    "| `dict.__delitem__(key)`           | key                                               | Deletes key-value pair                                                                      | `None`               | `python d = {'a':1}; del d['a']; print(d) # {} `                                 |\n",
    "\n",
    "---\n",
    "\n",
    "## ✅ Notes on Dictionary Methods\n",
    "\n",
    "1. **Shallow copy**: `copy()` creates a new dictionary, but nested objects remain references.\n",
    "2. **Mutable default trap**: Using a mutable default with `fromkeys()` or `setdefault()` can lead to shared objects.\n",
    "3. **Views**: `keys()`, `values()`, `items()` return **dynamic view objects**, not lists.\n",
    "4. **Python 3.7+ insertion order** is preserved; `popitem()` removes the **last inserted item**.\n",
    "5. `update()` merges another dictionary in place; `{**d1, **d2}` creates a **new dict**.\n",
    "\n",
    "---\n",
    "\n",
    "If you want, I can make a **PDF cheat sheet for dictionaries** including **all these methods, examples, tricky edge cases, and interview questions**, just like the lists, tuples, and sets cheat sheets.\n",
    "\n",
    "Do you want me to do that next?\n"
   ]
  },
  {
   "cell_type": "code",
   "execution_count": 1,
   "metadata": {},
   "outputs": [
    {
     "name": "stdout",
     "output_type": "stream",
     "text": [
      "<class 'dict'>\n"
     ]
    }
   ],
   "source": [
    "## Creating Dictionaries\n",
    "empty_dict={}\n",
    "print(type(empty_dict))"
   ]
  },
  {
   "cell_type": "code",
   "execution_count": 2,
   "metadata": {},
   "outputs": [
    {
     "data": {
      "text/plain": [
       "{}"
      ]
     },
     "execution_count": 2,
     "metadata": {},
     "output_type": "execute_result"
    }
   ],
   "source": [
    "empty_dict=dict()\n",
    "empty_dict"
   ]
  },
  {
   "cell_type": "code",
   "execution_count": 4,
   "metadata": {},
   "outputs": [
    {
     "name": "stdout",
     "output_type": "stream",
     "text": [
      "{'name': 'Krish', 'age': 32, 'grade': 24}\n",
      "<class 'dict'>\n"
     ]
    }
   ],
   "source": [
    "student={\"name\":\"Krish\",\"age\":32,\"grade\":24}\n",
    "print(student)\n",
    "print(type(student))"
   ]
  },
  {
   "cell_type": "code",
   "execution_count": 1,
   "metadata": {},
   "outputs": [
    {
     "name": "stdout",
     "output_type": "stream",
     "text": [
      "{'name': 24, 'age': 32}\n"
     ]
    }
   ],
   "source": [
    "# Single key is slways used\n",
    "# key must be unique and immutable\n",
    "\n",
    "\n",
    "student={\"name\":\"Krish\",\"age\":32,\"name\":24}\n",
    "print(student)"
   ]
  },
  {
   "cell_type": "code",
   "execution_count": 7,
   "metadata": {},
   "outputs": [
    {
     "name": "stdout",
     "output_type": "stream",
     "text": [
      "{'name': 'Krish', 'age': 32, 'grade': 'A'}\n"
     ]
    }
   ],
   "source": [
    "## accessing Dictionary Elements\n",
    "student={\"name\":\"Krish\",\"age\":32,\"grade\":'A'}\n",
    "print(student)"
   ]
  },
  {
   "cell_type": "code",
   "execution_count": 1,
   "metadata": {},
   "outputs": [
    {
     "ename": "NameError",
     "evalue": "name 'student' is not defined",
     "output_type": "error",
     "traceback": [
      "\u001b[1;31m---------------------------------------------------------------------------\u001b[0m",
      "\u001b[1;31mNameError\u001b[0m                                 Traceback (most recent call last)",
      "Cell \u001b[1;32mIn[1], line 2\u001b[0m\n\u001b[0;32m      1\u001b[0m \u001b[38;5;66;03m## Accessing Dictionary elements\u001b[39;00m\n\u001b[1;32m----> 2\u001b[0m \u001b[38;5;28mprint\u001b[39m(\u001b[43mstudent\u001b[49m[\u001b[38;5;124m\"\u001b[39m\u001b[38;5;124mgrade\u001b[39m\u001b[38;5;124m\"\u001b[39m])\n\u001b[0;32m      3\u001b[0m \u001b[38;5;28mprint\u001b[39m(student[\u001b[38;5;124m'\u001b[39m\u001b[38;5;124mage\u001b[39m\u001b[38;5;124m'\u001b[39m])\n\u001b[0;32m      5\u001b[0m \u001b[38;5;66;03m## Accessing using get() method\u001b[39;00m\n",
      "\u001b[1;31mNameError\u001b[0m: name 'student' is not defined"
     ]
    }
   ],
   "source": [
    "## Accessing Dictionary elements\n",
    "print(student[\"grade\"])\n",
    "print(student['age'])\n",
    "\n",
    "## Accessing using get() method\n",
    "print(student.get(\"grade\"))\n",
    "print(student.get('last_name'))\n",
    "print(student.get('last_name',\"Not Available\")) #giving default  value if u donot find a key\n"
   ]
  },
  {
   "cell_type": "code",
   "execution_count": 8,
   "metadata": {},
   "outputs": [
    {
     "name": "stdout",
     "output_type": "stream",
     "text": [
      "{'name': 'Krish', 'age': 32, 'grade': 'A'}\n"
     ]
    }
   ],
   "source": [
    "## Modifying Dicitonary Elements\n",
    "## Dictionary are mutable,so you can add, update or delete elements\n",
    "print(student)"
   ]
  },
  {
   "cell_type": "code",
   "execution_count": 9,
   "metadata": {},
   "outputs": [
    {
     "name": "stdout",
     "output_type": "stream",
     "text": [
      "{'name': 'Krish', 'age': 33, 'grade': 'A'}\n",
      "{'name': 'Krish', 'age': 33, 'grade': 'A', 'address': 'India'}\n"
     ]
    }
   ],
   "source": [
    "student[\"age\"]=33  ##update value for the key\n",
    "print(student)\n",
    "student[\"address\"]=\"India\" ## added a new key and value\n",
    "print(student)"
   ]
  },
  {
   "cell_type": "code",
   "execution_count": 13,
   "metadata": {},
   "outputs": [
    {
     "name": "stdout",
     "output_type": "stream",
     "text": [
      "{'name': 'Krish', 'age': 33, 'address': 'India'}\n"
     ]
    }
   ],
   "source": [
    "del student['grade'] ## delete key and value pair\n",
    "\n",
    "print(student)"
   ]
  },
  {
   "cell_type": "code",
   "execution_count": 10,
   "metadata": {},
   "outputs": [
    {
     "name": "stdout",
     "output_type": "stream",
     "text": [
      "dict_keys(['name', 'age', 'grade', 'address'])\n",
      "dict_values(['Krish', 33, 'A', 'India'])\n",
      "dict_items([('name', 'Krish'), ('age', 33), ('grade', 'A'), ('address', 'India')])\n"
     ]
    }
   ],
   "source": [
    "## Dictionary methods\n",
    "\n",
    "keys=student.keys() ##get all the keys\n",
    "print(keys)\n",
    "values=student.values() ##get all values\n",
    "print(values)\n",
    "\n",
    "items=student.items() ##get all key value pairs\n",
    "print(items)"
   ]
  },
  {
   "cell_type": "code",
   "execution_count": null,
   "metadata": {},
   "outputs": [
    {
     "name": "stdout",
     "output_type": "stream",
     "text": [
      "{'name': 'Krish2', 'age': 33, 'grade': 'A', 'address': 'India'}\n",
      "{'name': 'Krish2', 'age': 33, 'grade': 'A', 'address': 'India'}\n"
     ]
    }
   ],
   "source": [
    "## it's a reference copy\n",
    "student_copy=student\n",
    "print(student)\n",
    "print(student_copy)"
   ]
  },
  {
   "cell_type": "code",
   "execution_count": 13,
   "metadata": {},
   "outputs": [
    {
     "name": "stdout",
     "output_type": "stream",
     "text": [
      "{'name': 'Krish2', 'age': 33, 'grade': 'A', 'address': 'India'}\n",
      "{'name': 'Krish2', 'age': 33, 'grade': 'A', 'address': 'India'}\n"
     ]
    }
   ],
   "source": [
    "student[\"name\"]=\"Krish2\"\n",
    "print(student)\n",
    "print(student_copy)\n"
   ]
  },
  {
   "cell_type": "code",
   "execution_count": 14,
   "metadata": {},
   "outputs": [
    {
     "name": "stdout",
     "output_type": "stream",
     "text": [
      "{'name': 'Krish2', 'age': 33, 'grade': 'A', 'address': 'India'}\n",
      "{'name': 'Krish2', 'age': 33, 'grade': 'A', 'address': 'India'}\n"
     ]
    }
   ],
   "source": [
    "student_copy1=student.copy() ## shallow copy\n",
    "print(student_copy1)\n",
    "print(student)"
   ]
  },
  {
   "cell_type": "code",
   "execution_count": 15,
   "metadata": {},
   "outputs": [
    {
     "name": "stdout",
     "output_type": "stream",
     "text": [
      "{'name': 'Krish2', 'age': 33, 'grade': 'A', 'address': 'India'}\n",
      "{'name': 'KRish3', 'age': 33, 'grade': 'A', 'address': 'India'}\n"
     ]
    }
   ],
   "source": [
    "student[\"name\"]=\"KRish3\"\n",
    "print(student_copy1)\n",
    "print(student)"
   ]
  },
  {
   "cell_type": "code",
   "execution_count": 27,
   "metadata": {},
   "outputs": [
    {
     "name": "stdout",
     "output_type": "stream",
     "text": [
      "name\n",
      "age\n",
      "address\n"
     ]
    }
   ],
   "source": [
    "### Iterating Over Dictionaries\n",
    "## You can use loops to iterate over dictionatries, keys,values,or items\n",
    "\n",
    "## Iterating over keys\n",
    "for keys in student.keys():\n",
    "    print(keys)\n"
   ]
  },
  {
   "cell_type": "code",
   "execution_count": 28,
   "metadata": {},
   "outputs": [
    {
     "name": "stdout",
     "output_type": "stream",
     "text": [
      "KRish3\n",
      "33\n",
      "India\n"
     ]
    }
   ],
   "source": [
    "## Iterate over values\n",
    "for value in student.values():\n",
    "    print(value)"
   ]
  },
  {
   "cell_type": "code",
   "execution_count": 29,
   "metadata": {},
   "outputs": [
    {
     "name": "stdout",
     "output_type": "stream",
     "text": [
      "name:KRish3\n",
      "age:33\n",
      "address:India\n"
     ]
    }
   ],
   "source": [
    "## Iterate over key value pairs\n",
    "for key,value in student.items():\n",
    "    print(f\"{key}:{value}\")"
   ]
  },
  {
   "cell_type": "code",
   "execution_count": 16,
   "metadata": {},
   "outputs": [
    {
     "name": "stdout",
     "output_type": "stream",
     "text": [
      "{'student1': {'name': 'Krish', 'age': 32}, 'student2': {'name': 'Peter', 'age': 35}}\n"
     ]
    }
   ],
   "source": [
    "## Nested Disctionaries\n",
    "students={\n",
    "    \"student1\":{\"name\":\"Krish\",\"age\":32},\n",
    "    \"student2\":{\"name\":\"Peter\",\"age\":35}\n",
    "}\n",
    "print(students)"
   ]
  },
  {
   "cell_type": "code",
   "execution_count": null,
   "metadata": {},
   "outputs": [
    {
     "name": "stdout",
     "output_type": "stream",
     "text": [
      "Peter\n",
      "35\n"
     ]
    },
    {
     "ename": "",
     "evalue": "",
     "output_type": "error",
     "traceback": [
      "\u001b[1;31mThe Kernel crashed while executing code in the current cell or a previous cell. \n",
      "\u001b[1;31mPlease review the code in the cell(s) to identify a possible cause of the failure. \n",
      "\u001b[1;31mClick <a href='https://aka.ms/vscodeJupyterKernelCrash'>here</a> for more info. \n",
      "\u001b[1;31mView Jupyter <a href='command:jupyter.viewOutput'>log</a> for further details."
     ]
    }
   ],
   "source": [
    "## Access nested dictionaries elementss\n",
    "print(students[\"student2\"][\"name\"])\n",
    "print(students[\"student2\"][\"age\"])"
   ]
  },
  {
   "cell_type": "code",
   "execution_count": 32,
   "metadata": {},
   "outputs": [
    {
     "data": {
      "text/plain": [
       "dict_items([('student1', {'name': 'Krish', 'age': 32}), ('student2', {'name': 'Peter', 'age': 35})])"
      ]
     },
     "execution_count": 32,
     "metadata": {},
     "output_type": "execute_result"
    }
   ],
   "source": [
    "students.items()"
   ]
  },
  {
   "cell_type": "code",
   "execution_count": 34,
   "metadata": {},
   "outputs": [
    {
     "name": "stdout",
     "output_type": "stream",
     "text": [
      "student1:{'name': 'Krish', 'age': 32}\n",
      "name:Krish\n",
      "age:32\n",
      "student2:{'name': 'Peter', 'age': 35}\n",
      "name:Peter\n",
      "age:35\n"
     ]
    }
   ],
   "source": [
    "## Iterating over nested dictionaries\n",
    "for student_id,student_info in students.items():\n",
    "    print(f\"{student_id}:{student_info}\")\n",
    "    for key,value in student_info.items():\n",
    "        print(f\"{key}:{value}\")\n"
   ]
  },
  {
   "cell_type": "code",
   "execution_count": 35,
   "metadata": {},
   "outputs": [
    {
     "name": "stdout",
     "output_type": "stream",
     "text": [
      "{0: 0, 1: 1, 2: 4, 3: 9, 4: 16}\n"
     ]
    }
   ],
   "source": [
    "## Dictionary Comphrehension\n",
    "squares={x:x**2 for x in range(5)}\n",
    "print(squares)"
   ]
  },
  {
   "cell_type": "code",
   "execution_count": 36,
   "metadata": {},
   "outputs": [
    {
     "name": "stdout",
     "output_type": "stream",
     "text": [
      "{0: 0, 2: 4, 4: 16, 6: 36, 8: 64}\n"
     ]
    }
   ],
   "source": [
    "## Condition dictionary comprehension\n",
    "evens={x:x**2 for x in range(10) if x%2==0}\n",
    "print(evens)"
   ]
  },
  {
   "cell_type": "code",
   "execution_count": 37,
   "metadata": {},
   "outputs": [
    {
     "name": "stdout",
     "output_type": "stream",
     "text": [
      "{1: 1, 2: 2, 3: 3, 4: 4}\n"
     ]
    }
   ],
   "source": [
    "## Practical Examples\n",
    "\n",
    "## USe a dictionary to count he frequency of elements in list\n",
    "\n",
    "numbers=[1,2,2,3,3,3,4,4,4,4]\n",
    "frequency={}\n",
    "\n",
    "for number in numbers:\n",
    "    if number in frequency:\n",
    "        frequency[number]+=1\n",
    "    else:\n",
    "        frequency[number]=1\n",
    "print(frequency)\n"
   ]
  },
  {
   "cell_type": "code",
   "execution_count": null,
   "metadata": {},
   "outputs": [
    {
     "name": "stdout",
     "output_type": "stream",
     "text": [
      "{'a': 1, 'b': 3, 'c': 4}\n"
     ]
    }
   ],
   "source": [
    "## Merge 2 dictionaries into one\n",
    "\n",
    "dict1={\"a\":1,\"b\":2}\n",
    "dict2={\"b\":3,\"c\":4}\n",
    "merged_dict={**dict1,**dict2}\n",
    "print(merged_dict)\n",
    "\n",
    "\n",
    "#  another method using pipe operator\n",
    "dict1 = {'a': 1, 'b': 2}\n",
    "dict2 = {'b': 3, 'c': 4}\n",
    "\n",
    "merged = dict1 | dict2\n",
    "print(merged)\n",
    "\n",
    "\n",
    "#  modify the first dictionary\n",
    "dict1.update(dict2)\n",
    "print(dict1)\n",
    "\n",
    "#===========  note=========\n",
    "# u cant  use + operator to merge dictionaries\n",
    "#  u get TypeError: unsupported operand type(s) for +: 'dict' and 'dict'\n",
    "\n"
   ]
  },
  {
   "cell_type": "markdown",
   "metadata": {},
   "source": [
    "Perfect — let’s go **deep into the trickiest parts of Python dictionaries** 🚀.\n",
    "I’ll break it into **tricky questions/pitfalls** + **important methods** you must know.\n",
    "\n",
    "---\n",
    "\n",
    "# 🌀 Tricky Questions on Dictionaries\n",
    "\n",
    "1. **Boolean keys collide with integers**\n",
    "\n",
    "```python\n",
    "d = {}\n",
    "d[True] = \"yes\"\n",
    "d[1] = \"no\"\n",
    "print(d)  # {True: 'no'}\n",
    "```\n",
    "\n",
    "👉 Because `True == 1`. Similarly, `False == 0`.\n",
    "\n",
    "---\n",
    "\n",
    "2. **Mutable default trap with `fromkeys()`**\n",
    "\n",
    "```python\n",
    "d = dict.fromkeys([\"a\", \"b\"], [])\n",
    "d[\"a\"].append(10)\n",
    "print(d)  # {'a': [10], 'b': [10]}\n",
    "```\n",
    "\n",
    "👉 All keys share the same list reference. Use `{k: [] for k in keys}` instead.\n",
    "\n",
    "---\n",
    "\n",
    "3. **Deleting while iterating**\n",
    "\n",
    "```python\n",
    "d = {\"a\":1, \"b\":2}\n",
    "for k in d:\n",
    "    d.pop(k)   # RuntimeError: dictionary changed size\n",
    "```\n",
    "\n",
    "👉 Never modify dict while looping over it. Use `list(d.keys())`.\n",
    "\n",
    "---\n",
    "\n",
    "4. **KeyError vs get() vs setdefault()**\n",
    "\n",
    "```python\n",
    "d = {\"x\": 1}\n",
    "print(d.get(\"y\"))          # None\n",
    "print(d.setdefault(\"y\",0)) # 0 (also inserts y:0)\n",
    "print(d)                   # {'x': 1, 'y': 0}\n",
    "```\n",
    "\n",
    "---\n",
    "\n",
    "5. **Dictionary comprehension overwrites**\n",
    "\n",
    "```python\n",
    "d = {x%2: x for x in range(5)}\n",
    "print(d)  # {1: 3, 0: 4}\n",
    "```\n",
    "\n",
    "👉 Last values for duplicate keys stay.\n",
    "\n",
    "---\n",
    "\n",
    "6. **Immutable keys inside tuples**\n",
    "\n",
    "```python\n",
    "d = { (1,2): \"ok\", (1,[2,3]): \"bad\"}  # ❌ TypeError (list is unhashable)\n",
    "```\n",
    "\n",
    "👉 Tuples as keys are fine **only if all elements are immutable**.\n",
    "\n",
    "---\n",
    "\n",
    "7. **Dynamic dictionary views**\n",
    "\n",
    "```python\n",
    "d = {\"a\":1}\n",
    "v = d.values()\n",
    "d[\"b\"] = 2\n",
    "print(list(v))  # [1, 2]\n",
    "```\n",
    "\n",
    "👉 Views auto-update with dict changes.\n",
    "\n",
    "---\n",
    "\n",
    "8. **Key ordering in Python ≥ 3.7**\n",
    "\n",
    "```python\n",
    "d = {\"x\": 1, \"y\": 2}\n",
    "d[\"z\"] = 3\n",
    "print(d)  # preserves insertion order\n",
    "```\n",
    "\n",
    "---\n",
    "\n",
    "9. **Merging with overlapping keys**\n",
    "\n",
    "```python\n",
    "d1 = {\"a\":1, \"b\":2}\n",
    "d2 = {\"b\":3, \"c\":4}\n",
    "print(d1 | d2)   # {'a':1, 'b':3, 'c':4}\n",
    "```\n",
    "\n",
    "👉 Right dict (`d2`) wins on conflicts.\n",
    "\n",
    "---\n",
    "\n",
    "10. **Dictionary as default argument trap**\n",
    "\n",
    "```python\n",
    "def add(k,v,d={}):\n",
    "    d[k] = v\n",
    "    return d\n",
    "\n",
    "print(add(\"a\",1))   # {'a':1}\n",
    "print(add(\"b\",2))   # {'a':1, 'b':2}  (same dict reused!)\n",
    "```\n",
    "\n",
    "👉 Use `None` default and initialize inside function.\n",
    "\n",
    "---\n",
    "\n",
    "\n",
    "\n",
    "🔥 **Mini Challenge Questions for You**\n",
    "\n",
    "1. What happens?\n",
    "\n",
    "```python\n",
    "d = {}\n",
    "d[10] = \"int\"\n",
    "d[10.0] = \"float\"\n",
    "print(d)\n",
    "```\n",
    "\n",
    "2. Predict output:\n",
    "\n",
    "```python\n",
    "d = {\"a\": 1}\n",
    "print(d.pop(\"b\", 99))\n",
    "print(d)\n",
    "```\n",
    "\n",
    "3. Why is this dangerous?\n",
    "\n",
    "```python\n",
    "x = {1: [10,20]}\n",
    "y = x.copy()\n",
    "y[1].append(30)\n",
    "print(x)\n",
    "```\n",
    "\n",
    "---\n",
    "\n",
    "Do you want me to also prepare a **one-page \"dictionary cheatsheet\" with examples of each method + tricky outputs** (good for revision before exams/interviews)?\n"
   ]
  },
  {
   "cell_type": "code",
   "execution_count": null,
   "metadata": {},
   "outputs": [],
   "source": []
  },
  {
   "cell_type": "markdown",
   "metadata": {},
   "source": [
    "#### Conclusion\n",
    "Dictionaries are powerful tools in Python for managing key-value pairs. They are used in a variety of real-world scenarios, such as counting word frequency, grouping data, storing configuration settings, managing phonebooks, tracking inventory, and caching results. Understanding how to leverage dictionaries effectively can greatly enhance the efficiency and readability of your code."
   ]
  },
  {
   "cell_type": "code",
   "execution_count": null,
   "metadata": {},
   "outputs": [],
   "source": []
  }
 ],
 "metadata": {
  "kernelspec": {
   "display_name": "Python 3",
   "language": "python",
   "name": "python3"
  },
  "language_info": {
   "codemirror_mode": {
    "name": "ipython",
    "version": 3
   },
   "file_extension": ".py",
   "mimetype": "text/x-python",
   "name": "python",
   "nbconvert_exporter": "python",
   "pygments_lexer": "ipython3",
   "version": "3.10.11"
  }
 },
 "nbformat": 4,
 "nbformat_minor": 2
}
