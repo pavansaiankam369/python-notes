{
 "cells": [
  {
   "cell_type": "markdown",
   "metadata": {},
   "source": [
    "#### Functions in Python\n",
    "Video Outline:\n",
    "1. Introduction to Functions\n",
    "2. Defining Functions\n",
    "3. Calling Functions\n",
    "4. Function Parameters\n",
    "5. Default Parameters\n",
    "6. Variable-Length Arguments\n",
    "7. Return Statement"
   ]
  },
  {
   "cell_type": "markdown",
   "metadata": {},
   "source": [
    "Sure! Let’s go step by step. In Python, **functions** are blocks of code that perform a task and can be **called multiple times**. Functions can be categorized in multiple ways.\n",
    "\n",
    "---\n",
    "\n",
    "# 🔹 Types of Functions in Python\n",
    "\n",
    "## 1. **Built-in Functions**\n",
    "\n",
    "* Already defined in Python. You just call them.\n",
    "* Examples:\n",
    "\n",
    "  ```python\n",
    "  print(\"Hello\")      # output\n",
    "  len([1, 2, 3])      # 3\n",
    "  sum([1, 2, 3])      # 6\n",
    "  type(10)            # <class 'int'>\n",
    "  ```\n",
    "* ✅ No need to define them.\n",
    "\n",
    "---\n",
    "\n",
    "## 2. **User-defined Functions**\n",
    "\n",
    "* Created by the programmer using `def` or `lambda`.\n",
    "* Example:\n",
    "\n",
    "  ```python\n",
    "  def greet(name):\n",
    "      return f\"Hello {name}\"\n",
    "\n",
    "  print(greet(\"Alice\"))\n",
    "  ```\n",
    "\n",
    "---\n",
    "\n",
    "## 3. **Anonymous Functions (`lambda`)**\n",
    "\n",
    "* Functions without a name, used for **short operations**.\n",
    "* Syntax:\n",
    "\n",
    "  ```python\n",
    "  lambda arguments: expression\n",
    "  ```\n",
    "* Example:\n",
    "\n",
    "  ```python\n",
    "  square = lambda x: x**2\n",
    "  print(square(5))  # 25\n",
    "  ```\n",
    "\n",
    "---\n",
    "\n",
    "## 4. **Recursive Functions**\n",
    "\n",
    "* A function that **calls itself**.\n",
    "* Example:\n",
    "\n",
    "  ```python\n",
    "  def factorial(n):\n",
    "      if n == 0:\n",
    "          return 1\n",
    "      return n * factorial(n-1)\n",
    "\n",
    "  print(factorial(5))  # 120\n",
    "  ```\n",
    "\n",
    "---\n",
    "\n",
    "## 5. **Functions by Arguments**\n",
    "\n",
    "### a) **Required Arguments**\n",
    "\n",
    "```python\n",
    "def add(a, b):\n",
    "    return a + b\n",
    "\n",
    "print(add(2, 3))  # 5\n",
    "```\n",
    "\n",
    "### b) **Default Arguments**\n",
    "\n",
    "```python\n",
    "def greet(name=\"Guest\"):\n",
    "    print(f\"Hello {name}\")\n",
    "\n",
    "greet()           # Hello Guest\n",
    "greet(\"Alice\")    # Hello Alice\n",
    "```\n",
    "\n",
    "### c) **Keyword Arguments**\n",
    "\n",
    "```python\n",
    "def person(name, age):\n",
    "    print(name, age)\n",
    "\n",
    "person(age=25, name=\"Bob\")  # order doesn’t matter\n",
    "```\n",
    "\n",
    "### d) **Variable-length Arguments**\n",
    "\n",
    "* `*args` → tuple of positional arguments\n",
    "* `**kwargs` → dictionary of keyword arguments\n",
    "\n",
    "```python\n",
    "def add(*numbers):\n",
    "    return sum(numbers)\n",
    "\n",
    "print(add(1,2,3,4))  # 10\n",
    "\n",
    "def info(**data):\n",
    "    print(data)\n",
    "\n",
    "info(name=\"Alice\", age=25)  # {'name': 'Alice', 'age': 25}\n",
    "```\n",
    "\n",
    "---\n",
    "\n",
    "## 6. **Higher-order Functions**\n",
    "\n",
    "* Functions that **take other functions as arguments** or **return functions**.\n",
    "* Examples:\n",
    "\n",
    "  ```python\n",
    "  def square(x):\n",
    "      return x**2\n",
    "\n",
    "  def apply(func, value):\n",
    "      return func(value)\n",
    "\n",
    "  print(apply(square, 5))  # 25\n",
    "  ```\n",
    "\n",
    "---\n",
    "\n",
    "## 7. **Generator Functions**\n",
    "\n",
    "* Use `yield` instead of `return`\n",
    "* Returns **iterator**, produces values lazily.\n",
    "\n",
    "```python\n",
    "def numbers(n):\n",
    "    for i in range(n):\n",
    "        yield i\n",
    "\n",
    "for num in numbers(5):\n",
    "    print(num)\n",
    "```\n",
    "\n",
    "---\n",
    "\n",
    "## 8. **Nested / Inner Functions**\n",
    "\n",
    "* Functions defined **inside another function**.\n",
    "\n",
    "```python\n",
    "def outer():\n",
    "    def inner():\n",
    "        print(\"Hello from inner\")\n",
    "    inner()\n",
    "\n",
    "outer()\n",
    "```\n",
    "\n",
    "---\n",
    "\n",
    "### ✅ Summary Table\n",
    "\n",
    "| Type                 | Example / Feature                               |\n",
    "| -------------------- | ----------------------------------------------- |\n",
    "| Built-in             | `len()`, `print()`                              |\n",
    "| User-defined         | `def greet(): ...`                              |\n",
    "| Anonymous (`lambda`) | `lambda x: x**2`                                |\n",
    "| Recursive            | `factorial()` calling itself                    |\n",
    "| Arguments-based      | Required, Default, Keyword, `*args`, `**kwargs` |\n",
    "| Higher-order         | Functions that accept/return functions          |\n",
    "| Generator            | Uses `yield` to produce values lazily           |\n",
    "| Nested/Inner         | Function defined inside another                 |\n",
    "\n",
    "---\n",
    "\n",
    "If you want, I can make a **very simple diagram showing all types of Python functions** for easier memorization.\n",
    "\n",
    "Do you want me to do that?\n"
   ]
  },
  {
   "cell_type": "markdown",
   "metadata": {},
   "source": [
    "##### Introduction to Functions\n",
    "Definition:\n",
    "\n",
    "A function is a block of code that performs a specific task.\n",
    "Functions help in organizing code, reusing code, and improving readability.\n",
    "\n"
   ]
  },
  {
   "cell_type": "code",
   "execution_count": 1,
   "metadata": {},
   "outputs": [],
   "source": [
    "## syntax\n",
    "def function_name(parameters):\n",
    "    \"\"\"Docstring\"\"\"\n",
    "    # Function body\n",
    "    return expression\n"
   ]
  },
  {
   "cell_type": "code",
   "execution_count": 2,
   "metadata": {},
   "outputs": [
    {
     "name": "stdout",
     "output_type": "stream",
     "text": [
      "the number is even\n"
     ]
    }
   ],
   "source": [
    "## why functions?\n",
    "num=24\n",
    "if num%2==0:\n",
    "    print(\"the number is even\")\n",
    "else:\n",
    "    print(\"the number is odd\")"
   ]
  },
  {
   "cell_type": "code",
   "execution_count": 1,
   "metadata": {},
   "outputs": [],
   "source": [
    "def even_or_odd(num):\n",
    "    \"\"\"This function finds even or odd\"\"\"\n",
    "    if num%2==0:\n",
    "        print(\"the number is even\")\n",
    "    else:\n",
    "        print(\"the number is odd\")\n"
   ]
  },
  {
   "cell_type": "code",
   "execution_count": 3,
   "metadata": {},
   "outputs": [
    {
     "name": "stdout",
     "output_type": "stream",
     "text": [
      "the number is odd\n"
     ]
    }
   ],
   "source": [
    "## Call this function\n",
    "even_or_odd(23)"
   ]
  },
  {
   "cell_type": "code",
   "execution_count": 7,
   "metadata": {},
   "outputs": [
    {
     "name": "stdout",
     "output_type": "stream",
     "text": [
      "6\n"
     ]
    }
   ],
   "source": [
    "## function with multiple parameters\n",
    "\n",
    "def add(a,b):\n",
    "    return a+b\n",
    "\n",
    "result=add(2,4)\n",
    "print(result)\n",
    "    "
   ]
  },
  {
   "cell_type": "code",
   "execution_count": null,
   "metadata": {},
   "outputs": [
    {
     "name": "stdout",
     "output_type": "stream",
     "text": [
      "Hello Krish Welcome To the paradise\n"
     ]
    }
   ],
   "source": [
    "## Default Parameters\n",
    "#  here name is poistional argument \n",
    "def greet(name):\n",
    "    print(f\"Hello {name} Welcome To the paradise\")\n",
    "\n",
    "greet(\"Krish\")\n"
   ]
  },
  {
   "cell_type": "code",
   "execution_count": 6,
   "metadata": {},
   "outputs": [
    {
     "name": "stdout",
     "output_type": "stream",
     "text": [
      "Hello Guest Welcome To the paradise\n"
     ]
    }
   ],
   "source": [
    "def greet(name=\"Guest\"):\n",
    "    print(f\"Hello {name} Welcome To the paradise\")\n",
    "\n",
    "greet()"
   ]
  },
  {
   "cell_type": "code",
   "execution_count": 13,
   "metadata": {},
   "outputs": [],
   "source": [
    "### Variable Length Arguments\n",
    "## Positional And Keywords arguments\n",
    "\n",
    "def print_numbers(*krish):\n",
    "    for number in krish:\n",
    "        print(number)"
   ]
  },
  {
   "cell_type": "code",
   "execution_count": 14,
   "metadata": {},
   "outputs": [
    {
     "name": "stdout",
     "output_type": "stream",
     "text": [
      "1\n",
      "2\n",
      "3\n",
      "4\n",
      "5\n",
      "6\n",
      "7\n",
      "8\n",
      "Krish\n"
     ]
    }
   ],
   "source": [
    "print_numbers(1,2,3,4,5,6,7,8,\"Krish\")"
   ]
  },
  {
   "cell_type": "code",
   "execution_count": null,
   "metadata": {},
   "outputs": [],
   "source": [
    "## Positional arguments\n",
    "# Use *args when you want to allow a function to take any number of positional arguments.\n",
    "\n",
    "def print_numbers(*args):\n",
    "    for number in args:\n",
    "        print(number)"
   ]
  },
  {
   "cell_type": "code",
   "execution_count": null,
   "metadata": {},
   "outputs": [
    {
     "name": "stdout",
     "output_type": "stream",
     "text": [
      "1\n",
      "2\n",
      "3\n",
      "4\n",
      "5\n",
      "6\n",
      "7\n",
      "8\n",
      "Krish\n"
     ]
    },
    {
     "ename": "",
     "evalue": "",
     "output_type": "error",
     "traceback": [
      "\u001b[1;31mThe Kernel crashed while executing code in the current cell or a previous cell. \n",
      "\u001b[1;31mPlease review the code in the cell(s) to identify a possible cause of the failure. \n",
      "\u001b[1;31mClick <a href='https://aka.ms/vscodeJupyterKernelCrash'>here</a> for more info. \n",
      "\u001b[1;31mView Jupyter <a href='command:jupyter.viewOutput'>log</a> for further details."
     ]
    }
   ],
   "source": [
    "print_numbers(1,2,3,4,5,6,7,8,\"Krish\")"
   ]
  },
  {
   "cell_type": "code",
   "execution_count": null,
   "metadata": {},
   "outputs": [],
   "source": [
    "### Keywords Arguments\n",
    "#  Use **kwargs when you want your function to accept any number of keyword arguments.\n",
    "def print_details(**kwargs):\n",
    "    for key,value in kwargs.items():\n",
    "        print(f\"{key}:{value}\")"
   ]
  },
  {
   "cell_type": "code",
   "execution_count": 18,
   "metadata": {},
   "outputs": [
    {
     "name": "stdout",
     "output_type": "stream",
     "text": [
      "name:Krish\n",
      "age:32\n",
      "country:India\n"
     ]
    }
   ],
   "source": [
    "print_details(name=\"Krish\",age=\"32\",country=\"India\")"
   ]
  },
  {
   "cell_type": "code",
   "execution_count": 19,
   "metadata": {},
   "outputs": [],
   "source": [
    "def print_details(*args,**kwargs):\n",
    "    for val in args:\n",
    "        print(f\" Positional arument :{val}\")\n",
    "    \n",
    "    for key,value in kwargs.items():\n",
    "        print(f\"{key}:{value}\")"
   ]
  },
  {
   "cell_type": "code",
   "execution_count": 20,
   "metadata": {},
   "outputs": [
    {
     "name": "stdout",
     "output_type": "stream",
     "text": [
      " Positional arument :1\n",
      " Positional arument :2\n",
      " Positional arument :3\n",
      " Positional arument :4\n",
      " Positional arument :Krish\n",
      "name:Krish\n",
      "age:32\n",
      "country:India\n"
     ]
    }
   ],
   "source": [
    "print_details(1,2,3,4,\"Krish\",name=\"Krish\",age=\"32\",country=\"India\")"
   ]
  },
  {
   "cell_type": "code",
   "execution_count": 21,
   "metadata": {},
   "outputs": [
    {
     "data": {
      "text/plain": [
       "6"
      ]
     },
     "execution_count": 21,
     "metadata": {},
     "output_type": "execute_result"
    }
   ],
   "source": [
    "### Return statements\n",
    "def multiply(a,b):\n",
    "    return a*b\n",
    "\n",
    "multiply(2,3)"
   ]
  },
  {
   "cell_type": "code",
   "execution_count": 22,
   "metadata": {},
   "outputs": [
    {
     "data": {
      "text/plain": [
       "(6, 2)"
      ]
     },
     "execution_count": 22,
     "metadata": {},
     "output_type": "execute_result"
    }
   ],
   "source": [
    "### Return multiple parameters\n",
    "def multiply(a,b):\n",
    "    return a*b,a\n",
    "\n",
    "multiply(2,3)"
   ]
  },
  {
   "cell_type": "code",
   "execution_count": null,
   "metadata": {},
   "outputs": [],
   "source": []
  }
 ],
 "metadata": {
  "kernelspec": {
   "display_name": "Python 3",
   "language": "python",
   "name": "python3"
  },
  "language_info": {
   "codemirror_mode": {
    "name": "ipython",
    "version": 3
   },
   "file_extension": ".py",
   "mimetype": "text/x-python",
   "name": "python",
   "nbconvert_exporter": "python",
   "pygments_lexer": "ipython3",
   "version": "3.10.11"
  }
 },
 "nbformat": 4,
 "nbformat_minor": 2
}
