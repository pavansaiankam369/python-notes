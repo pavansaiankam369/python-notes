{
 "cells": [
  {
   "cell_type": "markdown",
   "metadata": {},
   "source": [
    "#### Understanding Exceptions\n",
    "\n",
    "Exception handling in Python allows you to handle errors gracefully and take corrective actions without stopping the execution of the program. This lesson will cover the basics of exceptions, including how to use try, except, else, and finally blocks."
   ]
  },
  {
   "cell_type": "markdown",
   "metadata": {},
   "source": [
    "##### What Are Exceptions?\n",
    "Exceptions are events that disrupt the normal flow of a program. They occur when an error is encountered during program execution. Common exceptions include:\n",
    "\n",
    "- ZeroDivisionError: Dividing by zero.\n",
    "- FileNotFoundError: File not found.\n",
    "- ValueError: Invalid value.\n",
    "- TypeError: Invalid type."
   ]
  },
  {
   "cell_type": "code",
   "execution_count": 3,
   "metadata": {},
   "outputs": [
    {
     "name": "stdout",
     "output_type": "stream",
     "text": [
      "The variable has not been assigned\n"
     ]
    }
   ],
   "source": [
    "## Exception try ,except block\n",
    "\n",
    "try:\n",
    "    a=b\n",
    "except:\n",
    "    print(\"The variable has not been assigned\")"
   ]
  },
  {
   "cell_type": "code",
   "execution_count": 4,
   "metadata": {},
   "outputs": [
    {
     "ename": "NameError",
     "evalue": "name 'b' is not defined",
     "output_type": "error",
     "traceback": [
      "\u001b[1;31m---------------------------------------------------------------------------\u001b[0m",
      "\u001b[1;31mNameError\u001b[0m                                 Traceback (most recent call last)",
      "Cell \u001b[1;32mIn[4], line 1\u001b[0m\n\u001b[1;32m----> 1\u001b[0m a\u001b[38;5;241m=\u001b[39m\u001b[43mb\u001b[49m\n",
      "\u001b[1;31mNameError\u001b[0m: name 'b' is not defined"
     ]
    }
   ],
   "source": [
    "a=b"
   ]
  },
  {
   "cell_type": "code",
   "execution_count": null,
   "metadata": {},
   "outputs": [
    {
     "name": "stdout",
     "output_type": "stream",
     "text": [
      "name 'b' is not defined\n"
     ]
    }
   ],
   "source": [
    "try:\n",
    "    a=b\n",
    "except NameError as ex:\n",
    "    print(ex)\n",
    "    "
   ]
  },
  {
   "cell_type": "markdown",
   "metadata": {},
   "source": [
    "| Code                              | Output                    |\n",
    "| --------------------------------- | ------------------------- |\n",
    "| `print(NameError)`                | `<class 'NameError'>`     |\n",
    "| `except NameError as e: print(e)` | `name 'x' is not defined` |\n"
   ]
  },
  {
   "cell_type": "code",
   "execution_count": 6,
   "metadata": {},
   "outputs": [
    {
     "name": "stdout",
     "output_type": "stream",
     "text": [
      "division by zero\n",
      "Please enter the denominator greater than 0\n"
     ]
    }
   ],
   "source": [
    "try:\n",
    "    result=1/0\n",
    "except ZeroDivisionError as ex:\n",
    "    print(ex)\n",
    "    print(\"Please enter the denominator greater than 0\")"
   ]
  },
  {
   "cell_type": "code",
   "execution_count": 11,
   "metadata": {},
   "outputs": [
    {
     "name": "stdout",
     "output_type": "stream",
     "text": [
      "name 'b' is not defined\n",
      "Main exception got caught here\n"
     ]
    }
   ],
   "source": [
    "try:\n",
    "    result=1/2\n",
    "    a=b\n",
    "except ZeroDivisionError as ex:\n",
    "    print(ex)\n",
    "    print(\"Please enter the denominator greater than 0\")\n",
    "except Exception as ex1:\n",
    "    print(ex1)\n",
    "    print('Main exception got caught here')"
   ]
  },
  {
   "cell_type": "markdown",
   "metadata": {},
   "source": [
    "Great question! 🧠\n",
    "\n",
    "---\n",
    "\n",
    "## 🏛️ The Single Parent Class for All Exceptions in Python is:\n",
    "\n",
    "### 👉 `BaseException`\n",
    "\n",
    "---\n",
    "\n",
    "### 📚 Exception Class Hierarchy (Simplified):\n",
    "\n",
    "```\n",
    "BaseException\n",
    "│\n",
    "├── SystemExit\n",
    "├── KeyboardInterrupt\n",
    "├── GeneratorExit\n",
    "└── Exception  ← Most user-defined errors inherit from here\n",
    "     ├── ArithmeticError\n",
    "     │    └── ZeroDivisionError\n",
    "     ├── LookupError\n",
    "     │    └── IndexError, KeyError\n",
    "     ├── NameError\n",
    "     ├── TypeError\n",
    "     └── ... (many more)\n",
    "```\n",
    "\n",
    "---\n",
    "\n",
    "### ✅ So, in short:\n",
    "\n",
    "* `BaseException` → **Top-most** class for all exceptions\n",
    "* `Exception` → Most built-in and custom exceptions inherit from this\n",
    "\n",
    "---\n",
    "\n",
    "### 💡 When to use which?\n",
    "\n",
    "| Class           | Use When                                                          |\n",
    "| --------------- | ----------------------------------------------------------------- |\n",
    "| `Exception`     | Catching **common, user-related errors**                          |\n",
    "| `BaseException` | Rare — used to also catch `KeyboardInterrupt`, `SystemExit`, etc. |\n",
    "\n",
    "---\n",
    "\n",
    "### ⚠️ Example: Catching All Errors\n",
    "\n",
    "```python\n",
    "try:\n",
    "    print(x)\n",
    "except BaseException as e:\n",
    "    print(\"Caught:\", e)\n",
    "```\n",
    "\n",
    "✅ This even catches system-level interruptions (not recommended for most cases).\n",
    "\n",
    "---\n",
    "\n",
    "Let me know if you want a diagram of the most common exception types or a small quiz to reinforce this!\n"
   ]
  },
  {
   "cell_type": "code",
   "execution_count": 9,
   "metadata": {},
   "outputs": [
    {
     "name": "stdout",
     "output_type": "stream",
     "text": [
      "This is not a valid number\n"
     ]
    }
   ],
   "source": [
    "try:\n",
    "    num=int(input(\"Enter a number\"))\n",
    "    result=10/num\n",
    "except ValueError:\n",
    "    print(\"This is not a valid number\")\n",
    "except ZeroDivisionError:\n",
    "    print(\"enter denominator greater than 0\")\n",
    "except Exception as ex:\n",
    "    print(ex)"
   ]
  },
  {
   "cell_type": "code",
   "execution_count": 10,
   "metadata": {},
   "outputs": [
    {
     "name": "stdout",
     "output_type": "stream",
     "text": [
      "the result is 2.0\n"
     ]
    }
   ],
   "source": [
    "## try,except,else block\n",
    "try:\n",
    "    num=int(input(\"Enter a number:\"))\n",
    "    result=10/num\n",
    "except ValueError:\n",
    "    print(\"That's not a valid number!\")\n",
    "except ZeroDivisionError:\n",
    "    print(\"You can't divide by zero!\")\n",
    "except Exception as ex:\n",
    "    print(ex)\n",
    "else:\n",
    "    print(f\"the result is {result}\")\n",
    "\n",
    "    \n",
    "\n"
   ]
  },
  {
   "cell_type": "code",
   "execution_count": 12,
   "metadata": {},
   "outputs": [
    {
     "name": "stdout",
     "output_type": "stream",
     "text": [
      "The result is 2.0\n",
      "Execution complete.\n"
     ]
    }
   ],
   "source": [
    "## try,except,else and finally\n",
    "try:\n",
    "    num = int(input(\"Enter a number: \"))\n",
    "    result = 10 / num\n",
    "except ValueError:\n",
    "    print(\"That's not a valid number!\")\n",
    "except ZeroDivisionError:\n",
    "    print(\"You can't divide by zero!\")\n",
    "except Exception as ex:\n",
    "    print(ex)\n",
    "else:\n",
    "    print(f\"The result is {result}\")\n",
    "finally:\n",
    "    print(\"Execution complete.\")\n",
    "\n"
   ]
  },
  {
   "cell_type": "markdown",
   "metadata": {},
   "source": [
    "Absolutely! Let's break down the `finally` block in Python in a clear and simple way:\n",
    "\n",
    "---\n",
    "\n",
    "## 🔐 What is `finally` in Python?\n",
    "\n",
    "The `finally` block **always executes**, whether an exception occurs or not.\n",
    "\n",
    "It is typically used for **cleanup actions** — like closing a file, releasing a resource, or disconnecting from a database.\n",
    "\n",
    "---\n",
    "\n",
    "### ✅ Syntax:\n",
    "\n",
    "```python\n",
    "try:\n",
    "    # Code that might raise an exception\n",
    "except SomeError:\n",
    "    # Handle the error\n",
    "finally:\n",
    "    # Always runs, no matter what\n",
    "```\n",
    "\n",
    "---\n",
    "\n",
    "### 🧪 Example 1: With no exception\n",
    "\n",
    "```python\n",
    "try:\n",
    "    print(\"Trying...\")\n",
    "except ZeroDivisionError:\n",
    "    print(\"This won't run\")\n",
    "finally:\n",
    "    print(\"Finally block runs!\")\n",
    "```\n",
    "\n",
    "**Output:**\n",
    "\n",
    "```\n",
    "Trying...\n",
    "Finally block runs!\n",
    "```\n",
    "\n",
    "---\n",
    "\n",
    "### 🧪 Example 2: With exception\n",
    "\n",
    "```python\n",
    "try:\n",
    "    x = 10 / 0\n",
    "except ZeroDivisionError:\n",
    "    print(\"Caught a ZeroDivisionError\")\n",
    "finally:\n",
    "    print(\"Cleaning up in finally block\")\n",
    "```\n",
    "\n",
    "**Output:**\n",
    "\n",
    "```\n",
    "Caught a ZeroDivisionError\n",
    "Cleaning up in finally block\n",
    "```\n",
    "\n",
    "---\n",
    "\n",
    "### 🧪 Example 3: With file handling\n",
    "\n",
    "```python\n",
    "try:\n",
    "    file = open(\"example.txt\", \"r\")\n",
    "    content = file.read()\n",
    "except FileNotFoundError:\n",
    "    print(\"File not found.\")\n",
    "finally:\n",
    "    print(\"Closing file (if opened)\")\n",
    "    try:\n",
    "        file.close()\n",
    "    except:\n",
    "        pass\n",
    "```\n",
    "\n",
    "---\n",
    "\n",
    "## ✅ Key Points:\n",
    "\n",
    "| Feature              | Description                                        |\n",
    "| -------------------- | -------------------------------------------------- |\n",
    "| **Always runs**      | Even if there's a `return`, `break`, or error      |\n",
    "| **Used for cleanup** | Closing files, network sockets, releasing locks    |\n",
    "| **Optional**         | Can use `try-except` without `finally`, or with it |\n",
    "\n",
    "---\n",
    "\n",
    "Let me know if you'd like a mini quiz or animation-style diagram to reinforce this!\n"
   ]
  },
  {
   "cell_type": "code",
   "execution_count": null,
   "metadata": {},
   "outputs": [
    {
     "name": "stdout",
     "output_type": "stream",
     "text": [
      "name 'b' is not defined\n",
      "file close\n"
     ]
    }
   ],
   "source": [
    "### File handling and Exception HAndling\n",
    "\n",
    "try:\n",
    "    file=open('example1.txt','r')\n",
    "    content=file.read()\n",
    "    a=b\n",
    "    print(content)\n",
    "\n",
    "except FileNotFoundError:\n",
    "    print(\"The file does not exists\")\n",
    "except Exception as ex:\n",
    "    print(ex)\n",
    "\n",
    "finally:\n",
    "    if 'file' in locals() or not file.closed():\n",
    "        file.close()\n",
    "        print('file close')"
   ]
  },
  {
   "cell_type": "code",
   "execution_count": 14,
   "metadata": {},
   "outputs": [
    {
     "name": "stdout",
     "output_type": "stream",
     "text": [
      "True\n"
     ]
    }
   ],
   "source": [
    "if 'file' in locals():\n",
    "    print(True)"
   ]
  },
  {
   "cell_type": "code",
   "execution_count": 1,
   "metadata": {},
   "outputs": [
    {
     "ename": "NameError",
     "evalue": "name 'file' is not defined",
     "output_type": "error",
     "traceback": [
      "\u001b[1;31m---------------------------------------------------------------------------\u001b[0m",
      "\u001b[1;31mNameError\u001b[0m                                 Traceback (most recent call last)",
      "Cell \u001b[1;32mIn[1], line 1\u001b[0m\n\u001b[1;32m----> 1\u001b[0m \u001b[38;5;129;01mnot\u001b[39;00m file\u001b[38;5;241m.\u001b[39mclosed\n",
      "\u001b[1;31mNameError\u001b[0m: name 'file' is not defined"
     ]
    }
   ],
   "source": [
    " not file.closed #   file.closed → a property that returns True or False\n",
    "    "
   ]
  },
  {
   "cell_type": "code",
   "execution_count": null,
   "metadata": {},
   "outputs": [],
   "source": []
  }
 ],
 "metadata": {
  "kernelspec": {
   "display_name": "base",
   "language": "python",
   "name": "python3"
  },
  "language_info": {
   "codemirror_mode": {
    "name": "ipython",
    "version": 3
   },
   "file_extension": ".py",
   "mimetype": "text/x-python",
   "name": "python",
   "nbconvert_exporter": "python",
   "pygments_lexer": "ipython3",
   "version": "3.12.7"
  }
 },
 "nbformat": 4,
 "nbformat_minor": 2
}
