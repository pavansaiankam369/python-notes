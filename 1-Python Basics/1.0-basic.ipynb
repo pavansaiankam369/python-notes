{
 "cells": [
  {
   "cell_type": "markdown",
   "metadata": {},
   "source": [
    "### Syntax and Semantics in Python\n",
    "Video Outline:\n",
    "- Single line Comments and multiline comments \n",
    "- Definition of Syntax and Semantics\n",
    "- Basic Syntax Rules in Python\n",
    "- Understanding Semantics in Python\n",
    "- Common Syntax Errors and How to Avoid Them\n",
    "- Practical Code Examples"
   ]
  },
  {
   "cell_type": "markdown",
   "metadata": {},
   "source": [
    "Syntax refers to the set of rules that defines the combinations of symbols that are considered to be correctly structured programs in a language. In simpler terms, syntax is about the correct arrangement of words and symbols in a code.\n",
    "\n",
    "Semantics refers to the meaning or the interpretation of the symbols, characters, and commands in a language. It is about what the code is supposed to do when it runs."
   ]
  },
  {
   "cell_type": "markdown",
   "metadata": {},
   "source": [
    "\n",
    "---\n",
    "\n",
    "## 🔹 1. Compilation (from `.py` to `.pyc`)\n",
    "\n",
    "When you run a Python program:\n",
    "\n",
    "1. **Source Code (`.py`) → AST (Abstract Syntax Tree)**\n",
    "\n",
    "   * The Python **compiler** parses your `.py` file into tokens (keywords, identifiers, literals, etc.).\n",
    "   * Then it organizes them into an **AST** (tree-like structure showing program flow).\n",
    "\n",
    "2. **AST → Bytecode (`.pyc`)**\n",
    "\n",
    "   * The AST is compiled into **bytecode instructions** (a low-level set of operations).\n",
    "   * These instructions are **not machine code**, but a platform-independent set of opcodes.\n",
    "   * Python stores these compiled instructions in a `.pyc` file (inside the `__pycache__` folder).\n",
    "\n",
    "👉 Example:\n",
    "\n",
    "```python\n",
    "x = 5\n",
    "print(x + 2)\n",
    "```\n",
    "\n",
    "is compiled into bytecode like:\n",
    "\n",
    "```\n",
    "LOAD_CONST 5\n",
    "STORE_NAME x\n",
    "LOAD_NAME print\n",
    "LOAD_NAME x\n",
    "LOAD_CONST 2\n",
    "BINARY_ADD\n",
    "CALL_FUNCTION 1\n",
    "```\n",
    "\n",
    "---\n",
    "\n",
    "## 🔹 2. Execution (Looping through the PVM)\n",
    "\n",
    "The **Python Virtual Machine (PVM)** is the interpreter loop that executes these bytecode instructions.\n",
    "\n",
    "* The PVM fetches **one bytecode instruction** at a time.\n",
    "* Decodes it (understands what needs to be done).\n",
    "* Executes it (using C functions, memory management, etc.).\n",
    "* Moves to the next instruction.\n",
    "\n",
    "This cycle is often called the **Fetch–Decode–Execute Loop**.\n",
    "\n",
    "---\n",
    "\n",
    "## 🔹 3. Properties of Python Bytecode\n",
    "\n",
    "1. **Platform Independent**\n",
    "\n",
    "   * Bytecode is the same whether you’re on Windows, Linux, or Mac.\n",
    "   * The PVM for each platform understands the bytecode and executes it.\n",
    "\n",
    "2. **Intermediate Representation**\n",
    "\n",
    "   * Bytecode is **not machine code**.\n",
    "   * It sits between high-level Python source and low-level hardware execution.\n",
    "\n",
    "3. **Optimized for Interpretation**\n",
    "\n",
    "   * Easier and faster for the PVM to execute than raw source code.\n",
    "   * Reduces repeated parsing of source files since `.pyc` can be loaded directly.\n",
    "\n",
    "---\n",
    "\n",
    "## 🔹 4. Properties of the Python Virtual Machine (PVM)\n",
    "\n",
    "1. **Stack-based**\n",
    "\n",
    "   * PVM uses an **operand stack** to perform operations.\n",
    "   * Example: to compute `2 + 3`, it pushes `2` and `3` onto the stack, then pops them, adds, and pushes the result.\n",
    "\n",
    "2. **Interpreter Loop**\n",
    "\n",
    "   * It’s basically a **loop** fetching bytecode instructions and running them.\n",
    "   * Unlike a CPU, it doesn’t run natively but interprets the bytecode.\n",
    "\n",
    "3. **Portable & Abstract**\n",
    "\n",
    "   * The PVM is written in **C** (for CPython) and works across platforms.\n",
    "   * It abstracts away OS and hardware details so the same Python code runs everywhere.\n",
    "\n",
    "---\n",
    "\n",
    "✅ In short:\n",
    "`Python code (.py)` → [**Compiler**] → `Bytecode (.pyc)` → [**PVM Loop**] → Execution.\n",
    "\n",
    "\n",
    "### 1. __pycache__ and .pyc files\n",
    "\n",
    "When you import a module, Python compiles it to bytecode (.pyc) and saves it in the __pycache__ folder.\n",
    "\n",
    "This way, the next time you import the module, Python loads the .pyc directly (faster startup).\n",
    "\n",
    "For the top-level script you run (like python main.py):\n",
    "\n",
    "Python compiles it to bytecode in memory but usually does not save a .pyc file.\n",
    "\n",
    "Reason: The top-level script is often an entry point, not a reusable module.\n",
    "\n",
    "✅ So:\n",
    "\n",
    "Imports → .pyc saved in __pycache__.\n",
    "\n",
    "Main script → Compiled, but not saved (unless you explicitly import it)\n",
    "--\n"
   ]
  },
  {
   "cell_type": "code",
   "execution_count": 1,
   "metadata": {},
   "outputs": [
    {
     "name": "stdout",
     "output_type": "stream",
     "text": [
      "Krish\n",
      "Naik\n"
     ]
    }
   ],
   "source": [
    "## Basic Syntax Rules In Python\n",
    "## Case sensitivity- Python is case sensitive\n",
    "\n",
    "name=\"Krish\"\n",
    "Name=\"Naik\"\n",
    "\n",
    "print(name)\n",
    "print(Name)\n"
   ]
  },
  {
   "cell_type": "markdown",
   "metadata": {},
   "source": [
    "### Indentation\n",
    "Indentation in Python is used to define the structure and hierarchy of the code. Unlike many other programming languages that use braces {} to delimit blocks of code, Python uses indentation to determine the grouping of statements. This means that all the statements within a block must be indented at the same level."
   ]
  },
  {
   "cell_type": "code",
   "execution_count": 1,
   "metadata": {},
   "outputs": [
    {
     "name": "stdout",
     "output_type": "stream",
     "text": [
      "32\n",
      "32\n"
     ]
    }
   ],
   "source": [
    "## Indentation\n",
    "## Python uses indentation to define blocks of code. Consistent use of spaces (commonly 4) or a tab is required.\n",
    "\n",
    "age=32\n",
    "if age>30:\n",
    "    \n",
    "    print(age)\n",
    "    \n",
    "print(age)\n"
   ]
  },
  {
   "cell_type": "code",
   "execution_count": null,
   "metadata": {},
   "outputs": [
    {
     "name": "stdout",
     "output_type": "stream",
     "text": [
      "Hello World\n"
     ]
    }
   ],
   "source": [
    "## This is a single line comment\n",
    "\n",
    "''' this is\n",
    "multiline code '''\n",
    "\n",
    "print(\"Hello World\")"
   ]
  },
  {
   "cell_type": "markdown",
   "metadata": {},
   "source": [
    "Perfect 👍 let’s carefully unpack the **`print()` function syntax** in Python.\n",
    "\n",
    "---\n",
    "\n",
    "## 🔹 General Syntax\n",
    "\n",
    "```python\n",
    "print(object(s), sep=' ', end='\\n', file=sys.stdout, flush=False)\n",
    "```\n",
    "\n",
    "---\n",
    "\n",
    "## 🔹 Parameters Explained\n",
    "\n",
    "### 1. **`object(s)`**\n",
    "\n",
    "* What you want to print.\n",
    "* Can be **one or more objects** (strings, numbers, lists, variables, etc.).\n",
    "* They are automatically converted to **string** before being printed.\n",
    "\n",
    "```python\n",
    "print(\"Hello\", 123, [1, 2, 3])\n",
    "# Output: Hello 123 [1, 2, 3]\n",
    "```\n",
    "\n",
    "---\n",
    "\n",
    "### 2. **`sep` (separator)**\n",
    "\n",
    "* Used when printing multiple objects.\n",
    "* Default = a single space `' '`.\n",
    "* You can change it to anything.\n",
    "\n",
    "```python\n",
    "print(\"apple\", \"banana\", \"cherry\", sep=\", \")\n",
    "# Output: apple, banana, cherry\n",
    "```\n",
    "\n",
    "---\n",
    "\n",
    "### 3. **`end`**\n",
    "\n",
    "* Defines what to print at the **end** of the statement.\n",
    "* Default = newline `'\\n'`, so each `print()` goes to a new line.\n",
    "* You can replace it with a space, tab, or custom string.\n",
    "\n",
    "```python\n",
    "print(\"Hello\", end=\" \")\n",
    "print(\"World\")\n",
    "# Output: Hello World\n",
    "```\n",
    "\n",
    "```python\n",
    "print(\"Line1\", end=\"---\")\n",
    "print(\"Line2\")\n",
    "# Output: Line1---Line2\n",
    "```\n",
    "\n",
    "---\n",
    "\n",
    "### 4. **`file`**\n",
    "\n",
    "* Defines where the output goes.\n",
    "* By default, it prints to **`sys.stdout`** (the console).\n",
    "* You can redirect it to a file (or any object with a `.write()` method).\n",
    "\n",
    "```python\n",
    "with open(\"output.txt\", \"w\") as f:\n",
    "    print(\"Hello File!\", file=f)\n",
    "# Writes \"Hello File!\" into output.txt\n",
    "```\n",
    "\n",
    "---\n",
    "\n",
    "### 5. **`flush`**\n",
    "\n",
    "* Default = `False`.\n",
    "* If `True`, it forces the output to be **written immediately**, instead of being buffered.\n",
    "* Useful in real-time logging.\n",
    "\n",
    "```python\n",
    "import time\n",
    "\n",
    "print(\"Loading...\", end=\"\", flush=True)\n",
    "time.sleep(2)\n",
    "print(\"Done\")\n",
    "```\n",
    "\n",
    "---\n",
    "\n",
    "✅ In summary:\n",
    "\n",
    "* **`object(s)`** → What you want to print.\n",
    "* **`sep`** → How to separate multiple objects (default = space).\n",
    "* **`end`** → What to print after the objects (default = newline).\n",
    "* **`file`** → Where to print (default = console).\n",
    "* **`flush`** → Whether to immediately write output (default = False).\n",
    "\n",
    "---\n",
    "\n",
    "👉 Do you want me to also make a **quick table** for these parameters so it’s easier to memorize for exams?\n"
   ]
  },
  {
   "cell_type": "code",
   "execution_count": 1,
   "metadata": {},
   "outputs": [
    {
     "name": "stdout",
     "output_type": "stream",
     "text": [
      "43\n"
     ]
    }
   ],
   "source": [
    "## Line Continuation\n",
    "##Use a backslash (\\) to continue a statement to the next line\n",
    "\n",
    "total=1+2+3+4+5+6+7+\\\n",
    "4+5+6\n",
    "\n",
    "print(total)\n"
   ]
  },
  {
   "cell_type": "code",
   "execution_count": 1,
   "metadata": {},
   "outputs": [
    {
     "name": "stdout",
     "output_type": "stream",
     "text": [
      "15\n"
     ]
    }
   ],
   "source": [
    "## Multiple Statements on a single line\n",
    "x=5;y=10;z=x+y\n",
    "print(z)"
   ]
  },
  {
   "cell_type": "code",
   "execution_count": 2,
   "metadata": {},
   "outputs": [],
   "source": [
    "##Understand  Semnatics In Python\n",
    "# variable assignment\n",
    "age=32 ##age is an integer\n",
    "name=\"Krish\" ##name is a string"
   ]
  },
  {
   "cell_type": "code",
   "execution_count": 3,
   "metadata": {},
   "outputs": [
    {
     "data": {
      "text/plain": [
       "int"
      ]
     },
     "execution_count": 3,
     "metadata": {},
     "output_type": "execute_result"
    }
   ],
   "source": [
    "\n",
    "\n",
    "type(age)"
   ]
  },
  {
   "cell_type": "code",
   "execution_count": 5,
   "metadata": {},
   "outputs": [
    {
     "data": {
      "text/plain": [
       "str"
      ]
     },
     "execution_count": 5,
     "metadata": {},
     "output_type": "execute_result"
    }
   ],
   "source": [
    "type(name)"
   ]
  },
  {
   "cell_type": "code",
   "execution_count": 4,
   "metadata": {},
   "outputs": [
    {
     "name": "stdout",
     "output_type": "stream",
     "text": [
      "<class 'int'>\n",
      "<class 'str'>\n"
     ]
    }
   ],
   "source": [
    "## Type Inference\n",
    "variable=10\n",
    "print(type(variable))\n",
    "variable=\"Krish\"\n",
    "print(type(variable))"
   ]
  },
  {
   "cell_type": "code",
   "execution_count": 2,
   "metadata": {},
   "outputs": [
    {
     "name": "stdout",
     "output_type": "stream",
     "text": [
      "32\n"
     ]
    }
   ],
   "source": [
    "age=32\n",
    "if age>30:\n",
    "    print(age)"
   ]
  },
  {
   "cell_type": "code",
   "execution_count": 7,
   "metadata": {},
   "outputs": [
    {
     "ename": "NameError",
     "evalue": "name 'b' is not defined",
     "output_type": "error",
     "traceback": [
      "\u001b[1;31m---------------------------------------------------------------------------\u001b[0m",
      "\u001b[1;31mNameError\u001b[0m                                 Traceback (most recent call last)",
      "Cell \u001b[1;32mIn[7], line 2\u001b[0m\n\u001b[0;32m      1\u001b[0m \u001b[38;5;66;03m## Name Error\u001b[39;00m\n\u001b[1;32m----> 2\u001b[0m a\u001b[38;5;241m=\u001b[39m\u001b[43mb\u001b[49m\n",
      "\u001b[1;31mNameError\u001b[0m: name 'b' is not defined"
     ]
    }
   ],
   "source": [
    "## Name Error\n",
    "a=b"
   ]
  },
  {
   "cell_type": "code",
   "execution_count": 8,
   "metadata": {},
   "outputs": [
    {
     "name": "stdout",
     "output_type": "stream",
     "text": [
      "Correct Indentation\n",
      "This will print\n",
      "Outside the if block\n"
     ]
    }
   ],
   "source": [
    "## Code exmaples of indentation\n",
    "if True:\n",
    "    print(\"Correct Indentation\")\n",
    "    if False:\n",
    "        print(\"This ont print\")\n",
    "    print(\"This will print\")\n",
    "print(\"Outside the if block\")"
   ]
  },
  {
   "cell_type": "markdown",
   "metadata": {},
   "source": [
    "### Conclusion:\n",
    "Understanding the syntax and semantics of Python is crucial for writing correct and meaningful programs. Syntax ensures the code is properly structured, while semantics ensures the code behaves as expected. Mastering these concepts will help in writing efficient and error-free Python code."
   ]
  },
  {
   "cell_type": "markdown",
   "metadata": {},
   "source": []
  }
 ],
 "metadata": {
  "kernelspec": {
   "display_name": "base",
   "language": "python",
   "name": "python3"
  },
  "language_info": {
   "codemirror_mode": {
    "name": "ipython",
    "version": 3
   },
   "file_extension": ".py",
   "mimetype": "text/x-python",
   "name": "python",
   "nbconvert_exporter": "python",
   "pygments_lexer": "ipython3",
   "version": "3.12.7"
  }
 },
 "nbformat": 4,
 "nbformat_minor": 2
}
