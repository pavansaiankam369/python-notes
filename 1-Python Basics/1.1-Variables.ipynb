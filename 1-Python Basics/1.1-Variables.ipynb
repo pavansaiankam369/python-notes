{
 "cells": [
  {
   "cell_type": "markdown",
   "metadata": {},
   "source": [
    "### Variables\n",
    "Variables are fundamental elements in programming used to store data that can be referenced and manipulated in a program. In Python, variables are created when you assign a value to them, and they do not need explicit declaration to reserve memory space. The declaration happens automatically when you assign a value to a variable.\n",
    "\n",
    "Video Outline:\n",
    "- Introduction to Variables\n",
    "- Declaring and Assigning Variables\n",
    "- Naming Conventions\n",
    "- Understanding Variable Types\n",
    "- Type Checking and Conversion\n",
    "- Dynamic Typing\n",
    "- Practical Examples and Common Errors"
   ]
  },
  {
   "cell_type": "code",
   "execution_count": 1,
   "metadata": {},
   "outputs": [],
   "source": [
    "a=100"
   ]
  },
  {
   "cell_type": "code",
   "execution_count": 6,
   "metadata": {},
   "outputs": [
    {
     "name": "stdout",
     "output_type": "stream",
     "text": [
      "age : 32\n",
      "Height: 6.1\n",
      "Name: Krish\n"
     ]
    }
   ],
   "source": [
    "## Declaring And Assigning Variables\n",
    "\n",
    "age=32\n",
    "height=6.1\n",
    "name=\"Krish\"\n",
    "is_student=True\n",
    "\n",
    "## printing the variables\n",
    "\n",
    "print(\"age :\",age)\n",
    "print(\"Height:\",height)\n",
    "print(\"Name:\",name)"
   ]
  },
  {
   "cell_type": "code",
   "execution_count": null,
   "metadata": {},
   "outputs": [],
   "source": [
    "## Naming Conventions\n",
    "## Variable names should be descriptive\n",
    "## They must start with a letter or an '_' and contains letter,numbers and underscores\n",
    "## variables names case sensitive\n",
    "## No special characters allowed like @, #, %, etc.\n",
    "#  Cannot be a Python keyword\n",
    "#valid variable names\n",
    "\n",
    "first_name=\"KRish\"\n",
    "last_name=\"Naik\""
   ]
  },
  {
   "cell_type": "code",
   "execution_count": 4,
   "metadata": {},
   "outputs": [],
   "source": [
    "# Invalid variable names\n",
    "#2age=30\n",
    "#first-name=\"Krish\"\n",
    "##@name=\"Krish\""
   ]
  },
  {
   "cell_type": "code",
   "execution_count": 7,
   "metadata": {},
   "outputs": [],
   "source": [
    "## case sensitivity\n",
    "name=\"Krish\"\n",
    "Name=\"Naik\"\n",
    "\n"
   ]
  },
  {
   "cell_type": "code",
   "execution_count": 1,
   "metadata": {},
   "outputs": [
    {
     "name": "stdout",
     "output_type": "stream",
     "text": [
      "<class 'str'>\n"
     ]
    }
   ],
   "source": [
    "## Understnading Variable types\n",
    "## Python is dynamically typed,type of a variable is determined at runtime\n",
    "age=25 #int\n",
    "height=6.1 #float\n",
    "name=\"KRish\" #str\n",
    "is_student=True #bool\n",
    "\n",
    "print(type(name))"
   ]
  },
  {
   "cell_type": "code",
   "execution_count": 2,
   "metadata": {},
   "outputs": [
    {
     "data": {
      "text/plain": [
       "float"
      ]
     },
     "execution_count": 2,
     "metadata": {},
     "output_type": "execute_result"
    }
   ],
   "source": [
    "## Type Checking and Conversion\n",
    "\n",
    "type(height)"
   ]
  },
  {
   "cell_type": "code",
   "execution_count": 3,
   "metadata": {},
   "outputs": [
    {
     "name": "stdout",
     "output_type": "stream",
     "text": [
      "<class 'int'>\n",
      "25\n",
      "<class 'str'>\n"
     ]
    }
   ],
   "source": [
    "age=25\n",
    "print(type(age))\n",
    "\n",
    "# Type conversion\n",
    "age_str=str(age)\n",
    "print(age_str)\n",
    "print(type(age_str))"
   ]
  },
  {
   "cell_type": "code",
   "execution_count": 12,
   "metadata": {},
   "outputs": [
    {
     "name": "stdout",
     "output_type": "stream",
     "text": [
      "<class 'int'>\n"
     ]
    }
   ],
   "source": [
    "age='25'\n",
    "print(type(int(age)))"
   ]
  },
  {
   "cell_type": "code",
   "execution_count": 13,
   "metadata": {},
   "outputs": [
    {
     "ename": "ValueError",
     "evalue": "invalid literal for int() with base 10: 'Krish'",
     "output_type": "error",
     "traceback": [
      "\u001b[31m---------------------------------------------------------------------------\u001b[39m",
      "\u001b[31mValueError\u001b[39m                                Traceback (most recent call last)",
      "\u001b[36mCell\u001b[39m\u001b[36m \u001b[39m\u001b[32mIn[13]\u001b[39m\u001b[32m, line 2\u001b[39m\n\u001b[32m      1\u001b[39m name=\u001b[33m\"\u001b[39m\u001b[33mKrish\u001b[39m\u001b[33m\"\u001b[39m\n\u001b[32m----> \u001b[39m\u001b[32m2\u001b[39m \u001b[38;5;28;43mint\u001b[39;49m\u001b[43m(\u001b[49m\u001b[43mname\u001b[49m\u001b[43m)\u001b[49m\n",
      "\u001b[31mValueError\u001b[39m: invalid literal for int() with base 10: 'Krish'"
     ]
    }
   ],
   "source": [
    "name=\"Krish\"\n",
    "int(name)"
   ]
  },
  {
   "cell_type": "code",
   "execution_count": 10,
   "metadata": {},
   "outputs": [
    {
     "data": {
      "text/plain": [
       "float"
      ]
     },
     "execution_count": 10,
     "metadata": {},
     "output_type": "execute_result"
    }
   ],
   "source": [
    "height=5.91\n",
    "type(height)"
   ]
  },
  {
   "cell_type": "code",
   "execution_count": 9,
   "metadata": {},
   "outputs": [
    {
     "data": {
      "text/plain": [
       "5.0"
      ]
     },
     "execution_count": 9,
     "metadata": {},
     "output_type": "execute_result"
    }
   ],
   "source": [
    "float(int(height))"
   ]
  },
  {
   "cell_type": "markdown",
   "metadata": {},
   "source": [
    "Got it 👍\n",
    "You want **all the rules of type casting (type conversion) in Python** — like `string → int`, `float → int`, etc.\n",
    "Let me give you a **clear structured explanation**:\n",
    "\n",
    "---\n",
    "\n",
    "# 🔹 Type Casting (Type Conversion) in Python\n",
    "\n",
    "There are **two types**:\n",
    "\n",
    "1. **Implicit Type Casting (Type Promotion)** → done automatically by Python.\n",
    "2. **Explicit Type Casting** → done manually by programmer using functions like `int()`, `float()`, `str()`, etc.\n",
    "\n",
    "---\n",
    "\n",
    "## 1. Implicit Type Casting (Automatic)\n",
    "\n",
    "* Python automatically converts **smaller data types to bigger ones** during operations.\n",
    "* Example:\n",
    "\n",
    "  ```python\n",
    "  x = 10      # int\n",
    "  y = 2.5     # float\n",
    "  result = x + y   # int + float → float\n",
    "  print(result, type(result))   # 12.5 <class 'float'>\n",
    "  ```\n",
    "* Rule:\n",
    "  `int → float → complex` (automatic widening).\n",
    "\n",
    "---\n",
    "\n",
    "## 2. Explicit Type Casting (Manual Conversion)\n",
    "\n",
    "We use **constructor functions**:\n",
    "\n",
    "* `int()` → convert to integer\n",
    "* `float()` → convert to floating point\n",
    "* `complex()` → convert to complex\n",
    "* `str()` → convert to string\n",
    "* `bool()` → convert to boolean\n",
    "* `list()`, `tuple()`, `set()`, `dict()` → convert between collections\n",
    "\n",
    "---\n",
    "\n",
    "### 🔹 Rules of Casting Between Types\n",
    "\n",
    "#### ✅ String → Int / Float\n",
    "\n",
    "* Must contain only valid digits (for `int`) or valid decimal (for `float`).\n",
    "* Examples:\n",
    "\n",
    "  ```python\n",
    "  int(\"123\")     # ✅ 123\n",
    "  float(\"12.34\") # ✅ 12.34\n",
    "  int(\"12.34\")   # ❌ ValueError\n",
    "  int(\"abc\")     # ❌ ValueError\n",
    "  ```\n",
    "\n",
    "#### ✅ Int / Float → String\n",
    "\n",
    "* Always works.\n",
    "* Example:\n",
    "\n",
    "  ```python\n",
    "  str(123)   # \"123\"\n",
    "  str(12.5)  # \"12.5\"\n",
    "  ```\n",
    "\n",
    "#### ✅ Float → Int\n",
    "\n",
    "* Decimal part is **truncated** (not rounded).\n",
    "\n",
    "  ```python\n",
    "  int(12.9)   # 12\n",
    "  int(-3.7)   # -3\n",
    "  ```\n",
    "\n",
    "#### ✅ Int → Float\n",
    "\n",
    "* Adds `.0` automatically.\n",
    "\n",
    "  ```python\n",
    "  float(10)   # 10.0\n",
    "  ```\n",
    "\n",
    "#### ✅ Int / Float → Complex\n",
    "\n",
    "* Allowed. Second argument for imaginary part.\n",
    "\n",
    "  ```python\n",
    "  complex(3)        # (3+0j)\n",
    "  complex(3, 4)     # (3+4j)\n",
    "  ```\n",
    "\n",
    "#### ✅ Complex → Int / Float\n",
    "\n",
    "* ❌ Not allowed directly (will raise `TypeError`).\n",
    "\n",
    "  ```python\n",
    "  int(3+4j)   # ❌ TypeError\n",
    "  ```\n",
    "\n",
    "#### ✅ To Boolean\n",
    "\n",
    "* `bool(x)`:\n",
    "\n",
    "  * `0`, `0.0`, `0j`, `\"\"`, `[]`, `{}`, `set()`, `None` → `False`\n",
    "  * Everything else → `True`\n",
    "\n",
    "#### ✅ Collections Conversion\n",
    "\n",
    "* `list(\"abc\")` → `['a', 'b', 'c']`\n",
    "* `tuple([1,2,3])` → `(1, 2, 3)`\n",
    "* `set([1,2,2,3])` → `{1,2,3}`\n",
    "* `dict([(1,\"a\"), (2,\"b\")])` → `{1:\"a\", 2:\"b\"}`\n",
    "\n",
    "---\n",
    "\n",
    "## 🚨 Important Notes\n",
    "\n",
    "1. Not every string can convert to int/float → must be numeric.\n",
    "2. Complex cannot be converted to int/float directly.\n",
    "3. Collection conversions depend on structure (e.g., `dict()` needs key-value pairs).\n",
    "4. Float to int always **truncates**, never rounds.\n",
    "\n",
    "---\n",
    "\n",
    "👉 Do you want me to make a **conversion table (all possible casts)** like `int → float, str, bool, complex` etc. in a neat chart?\n"
   ]
  },
  {
   "cell_type": "code",
   "execution_count": 15,
   "metadata": {},
   "outputs": [
    {
     "name": "stdout",
     "output_type": "stream",
     "text": [
      "10 <class 'int'>\n",
      "Hello <class 'str'>\n",
      "3.14 <class 'float'>\n"
     ]
    }
   ],
   "source": [
    "## Dynamic Typing\n",
    "## Python allows the type of a vraible to change as the program executes\n",
    "var=10 #int\n",
    "print(var,type(var))\n",
    "\n",
    "var=\"Hello\"\n",
    "print(var,type(var))\n",
    "\n",
    "var=3.14\n",
    "print(var,type(var))\n",
    "\n"
   ]
  },
  {
   "cell_type": "code",
   "execution_count": null,
   "metadata": {},
   "outputs": [
    {
     "name": "stdout",
     "output_type": "stream",
     "text": [
      "15 <class 'int'>\n"
     ]
    }
   ],
   "source": [
    "## input\n",
    "#  input by default it is str\n",
    "\n",
    "age=int(input(\"What is the age\"))\n",
    "print(age,type(age))"
   ]
  },
  {
   "cell_type": "code",
   "execution_count": 27,
   "metadata": {},
   "outputs": [
    {
     "name": "stdout",
     "output_type": "stream",
     "text": [
      "Sum: 66.0\n",
      "Difference: 46.0\n",
      "Product: 560.0\n",
      "Quotient: 5.6\n"
     ]
    }
   ],
   "source": [
    "### Simple calculator\n",
    "num1 = float(input(\"Enter first number: \"))\n",
    "num2 = float(input(\"Enter second number: \"))\n",
    "\n",
    "sum = num1 + num2\n",
    "difference = num1 - num2\n",
    "product = num1 * num2\n",
    "quotient = num1 / num2\n",
    "\n",
    "print(\"Sum:\", sum)\n",
    "print(\"Difference:\", difference)\n",
    "print(\"Product:\", product)\n",
    "print(\"Quotient:\", quotient)\n"
   ]
  },
  {
   "cell_type": "markdown",
   "metadata": {},
   "source": [
    "Yes 👍 there are **a few more subtle rules and edge cases** in Python type casting that aren’t obvious. Let me list them for you in addition to what I gave earlier.\n",
    "\n",
    "---\n",
    "\n",
    "# 🔹 Extra Rules of Type Casting in Python\n",
    "\n",
    "### 1. **Numeric Type Hierarchy in Operations**\n",
    "\n",
    "* When combining `int`, `float`, `complex` in expressions:\n",
    "\n",
    "  ```\n",
    "  int → float → complex\n",
    "  ```\n",
    "* Example:\n",
    "\n",
    "  ```python\n",
    "  print(5 + 3.2)     # float → 8.2\n",
    "  print(5 + 2j)      # complex → (5+2j)\n",
    "  ```\n",
    "\n",
    "---\n",
    "\n",
    "### 2. **String Conversion Rules**\n",
    "\n",
    "* `str()` can convert **any object** to string (uses its `__str__` method).\n",
    "* Example:\n",
    "\n",
    "  ```python\n",
    "  str([1,2,3])   # \"[1, 2, 3]\"\n",
    "  str(True)      # \"True\"\n",
    "  ```\n",
    "\n",
    "---\n",
    "\n",
    "### 3. **Float and Infinity / NaN**\n",
    "\n",
    "* Floats can hold `inf` (infinity) and `nan` (not a number).\n",
    "* Conversions:\n",
    "\n",
    "  ```python\n",
    "  float(\"inf\")    # inf\n",
    "  float(\"-inf\")   # -inf\n",
    "  float(\"nan\")    # nan\n",
    "  ```\n",
    "* But these cannot be converted to int:\n",
    "\n",
    "  ```python\n",
    "  int(float(\"inf\"))   # ❌ OverflowError\n",
    "  ```\n",
    "\n",
    "---\n",
    "\n",
    "### 4. **Boolean Casting Rules**\n",
    "\n",
    "* `int(True) → 1`, `int(False) → 0`\n",
    "* `float(True) → 1.0`\n",
    "* `str(True) → \"True\"`\n",
    "\n",
    "---\n",
    "\n",
    "### 5. **Complex Numbers**\n",
    "\n",
    "* You cannot directly cast `complex → int/float`.\n",
    "* But you can explicitly access:\n",
    "\n",
    "  ```python\n",
    "  z = 3 + 4j\n",
    "  z.real   # 3.0\n",
    "  z.imag   # 4.0\n",
    "  ```\n",
    "\n",
    "---\n",
    "\n",
    "### 6. **Bytes and Bytearray**\n",
    "\n",
    "* `bytes()` → immutable sequence of bytes.\n",
    "* `bytearray()` → mutable sequence of bytes.\n",
    "* Conversions:\n",
    "\n",
    "  ```python\n",
    "  bytes(\"abc\", \"utf-8\")     # b'abc'\n",
    "  bytearray([65,66,67])     # b'ABC'\n",
    "  str(b'abc')               # \"b'abc'\" (not \"abc\")\n",
    "  ```\n",
    "\n",
    "---\n",
    "\n",
    "### 7. **Collection Casting Rules**\n",
    "\n",
    "* `set()` removes duplicates automatically.\n",
    "* `tuple()` and `list()` preserve order.\n",
    "* `dict()` requires **pairs** (not single elements).\n",
    "\n",
    "  ```python\n",
    "  dict([[1,\"a\"], [2,\"b\"]])  # {1:\"a\", 2:\"b\"}\n",
    "  dict({1:\"a\", 2:\"b\"})      # works directly\n",
    "  ```\n",
    "\n",
    "---\n",
    "\n",
    "### 8. **None Casting**\n",
    "\n",
    "* `str(None)` → `\"None\"`\n",
    "* `bool(None)` → `False`\n",
    "* `int(None)` / `float(None)` → ❌ `TypeError`\n",
    "\n",
    "---\n",
    "\n",
    "### 9. **Empty Values**\n",
    "\n",
    "* `int(\"\")` → ❌ ValueError\n",
    "* `float(\"\")` → ❌ ValueError\n",
    "* `bool(\"\")` → `False`\n",
    "* `str(\"\")` → `\"\"`\n",
    "\n",
    "---\n",
    "\n",
    "### 10. **Custom Objects**\n",
    "\n",
    "* You can **define your own casting behavior** with:\n",
    "\n",
    "  * `__int__()`\n",
    "  * `__float__()`\n",
    "  * `__str__()`\n",
    "  * `__bool__()`\n",
    "* Example:\n",
    "\n",
    "  ```python\n",
    "  class A:\n",
    "      def __int__(self):\n",
    "          return 42\n",
    "  print(int(A()))   # 42\n",
    "  ```\n",
    "\n",
    "---\n",
    "\n",
    "✅ So rules cover:\n",
    "\n",
    "1. Numeric widening (`int→float→complex`).\n",
    "2. Strictness with strings (must be valid number).\n",
    "3. Special float values (`inf`, `nan`).\n",
    "4. Boolean ↔ numeric.\n",
    "5. Collection conversions.\n",
    "6. None handling.\n",
    "7. Bytes/bytearray conversions.\n",
    "8. Custom casting with dunder methods.\n",
    "\n",
    "---\n",
    "\n",
    "👉 Do you want me to prepare a **full conversion table (int, float, str, bool, complex, None, list, tuple, set, dict, bytes, etc.) → what works, what errors** in one chart for quick revision?\n"
   ]
  },
  {
   "cell_type": "markdown",
   "metadata": {},
   "source": [
    "Great question 👍\n",
    "Let’s break down **`bytes`** and **`bytearray`** in Python.\n",
    "\n",
    "---\n",
    "\n",
    "# 🔹 `bytes` and `bytearray` in Python\n",
    "\n",
    "Both represent **sequences of bytes (0–255 integers)**, often used for **binary data** (e.g., images, files, network packets).\n",
    "\n",
    "---\n",
    "\n",
    "## 1. **`bytes`**\n",
    "\n",
    "* **Immutable** (cannot be changed after creation, like `str`).\n",
    "* Stores raw byte data.\n",
    "* Defined using:\n",
    "\n",
    "  * `b\"string\"`\n",
    "  * `bytes([65, 66, 67])`\n",
    "* Example:\n",
    "\n",
    "  ```python\n",
    "  data = b\"Hello\"          # literal\n",
    "  nums = bytes([65, 66, 67]) # list of integers\n",
    "  print(data)    # b'Hello'\n",
    "  print(nums)    # b'ABC'\n",
    "  print(nums[0]) # 65  (each element is an int 0–255)\n",
    "  ```\n",
    "\n",
    "---\n",
    "\n",
    "## 2. **`bytearray`**\n",
    "\n",
    "* **Mutable** version of `bytes`.\n",
    "* You can change, append, or slice its contents.\n",
    "* Example:\n",
    "\n",
    "  ```python\n",
    "  arr = bytearray([65, 66, 67])  # b'ABC'\n",
    "  print(arr)         # bytearray(b'ABC')\n",
    "\n",
    "  arr[0] = 68        # change 65 ('A') → 68 ('D')\n",
    "  print(arr)         # bytearray(b'DBC')\n",
    "\n",
    "  arr.append(69)     # add 'E'\n",
    "  print(arr)         # bytearray(b'DBCE')\n",
    "  ```\n",
    "\n",
    "---\n",
    "\n",
    "## 3. **Key Differences**\n",
    "\n",
    "| Feature    | `bytes`               | `bytearray`          |\n",
    "| ---------- | --------------------- | -------------------- |\n",
    "| Mutability | Immutable             | Mutable              |\n",
    "| Syntax     | `b\"text\"`             | `bytearray(b\"text\")` |\n",
    "| Use case   | Read-only binary data | Editable binary data |\n",
    "| Memory     | Fixed                 | Can be modified      |\n",
    "\n",
    "---\n",
    "\n",
    "## 4. **Conversions**\n",
    "\n",
    "* `bytes()` → creates an immutable copy.\n",
    "* `bytearray()` → creates a mutable copy.\n",
    "* Example:\n",
    "\n",
    "  ```python\n",
    "  b = b\"hello\"\n",
    "  arr = bytearray(b)\n",
    "\n",
    "  arr[0] = 72        # change 'h' → 'H'\n",
    "  print(arr)         # bytearray(b'Hello')\n",
    "\n",
    "  new_b = bytes(arr)\n",
    "  print(new_b)       # b'Hello'\n",
    "  ```"
   ]
  },
  {
   "cell_type": "markdown",
   "metadata": {},
   "source": [
    "### Conclusion:\n",
    "Variables are essential in Python programming for storing and manipulating data. Understanding how to declare, assign, and use variables effectively is crucial for writing functional and efficient code. Following proper naming conventions and understanding variable types will help in maintaining readability and consistency in your code."
   ]
  },
  {
   "cell_type": "markdown",
   "metadata": {},
   "source": []
  }
 ],
 "metadata": {
  "kernelspec": {
   "display_name": "Python 3",
   "language": "python",
   "name": "python3"
  },
  "language_info": {
   "codemirror_mode": {
    "name": "ipython",
    "version": 3
   },
   "file_extension": ".py",
   "mimetype": "text/x-python",
   "name": "python",
   "nbconvert_exporter": "python",
   "pygments_lexer": "ipython3",
   "version": "3.10.11"
  }
 },
 "nbformat": 4,
 "nbformat_minor": 2
}
