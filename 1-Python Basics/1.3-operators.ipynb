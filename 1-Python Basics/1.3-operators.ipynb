{
 "cells": [
  {
   "cell_type": "markdown",
   "metadata": {},
   "source": [
    "## Deep Dive into Operators"
   ]
  },
  {
   "cell_type": "markdown",
   "metadata": {},
   "source": [
    "### Video Outline:\n",
    "1. Introduction to Operators\n",
    "2. Arithmetic Operators\n",
    "   - Addition\n",
    "   - Subtraction\n",
    "   - Multiplication\n",
    "   - Division\n",
    "   - Floor Division\n",
    "   - Modulus\n",
    "   - Exponentiation\n",
    "3. Comparison Operators\n",
    "   - Equal to\n",
    "   - Not equal to\n",
    "   - Greater than\n",
    "   - Less than\n",
    "   - Greater than or equal to \n",
    "   - Less than or equal to\n",
    "4. Logical Operators\n",
    "   - AND\n",
    "   - OR\n",
    "   - NOT\n",
    "5. Practical Examples and Common Errors"
   ]
  },
  {
   "cell_type": "markdown",
   "metadata": {},
   "source": [
    "Got it 👍 — here’s the **complete Python operator precedence table with associativity** (highest → lowest).\n",
    "\n",
    "---\n",
    "\n",
    "## 🔹 Python Operator Precedence & Associativity\n",
    "\n",
    "| Precedence Level | Operators                                                               | Associativity                 |                  |\n",
    "| ---------------- | ----------------------------------------------------------------------- | ----------------------------- | ---------------- |\n",
    "| 1 (highest)      | `()` (parentheses, function calls, indexing `[]`, attribute access `.`) | Left → Right                  |                  |\n",
    "| 2                | `**` (exponentiation)                                                   | **Right → Left**              |                  |\n",
    "| 3                | `+x  -x  ~x` (unary plus, unary minus, bitwise NOT)                     | Right → Left                  |                  |\n",
    "| 4                | `*  /  //  %` (multiplication, division, floor division, modulo)        | Left → Right                  |                  |\n",
    "| 5                | `+  -` (addition, subtraction)                                          | Left → Right                  |                  |\n",
    "| 6                | `<<  >>` (bitwise shifts)                                               | Left → Right                  |                  |\n",
    "| 7                | `&` (bitwise AND)                                                       | Left → Right                  |                  |\n",
    "| 8                | `^` (bitwise XOR)                                                       | Left → Right                  |                  |\n",
    "| 9                | `                                                                       | ` (bitwise OR)                | Left → Right     |\n",
    "| 10               | Comparisons: `<  <=  >  >=  ==  !=  is  is not  in  not in`             | Left → Right                  |                  |\n",
    "| 11               | `not` (Boolean NOT)                                                     | Right → Left                  |                  |\n",
    "| 12               | `and` (Boolean AND)                                                     | Left → Right                  |                  |\n",
    "| 13               | `or` (Boolean OR)                                                       | Left → Right                  |                  |\n",
    "| 14 (lowest)      | `=  +=  -=  *=  /=  //=  %=  **=  &=                                    | =  ^=  >>=  <<=` (assignment) | **Right → Left** |\n",
    "\n",
    "---\n",
    "\n",
    "### 🔹 Examples\n",
    "\n",
    "1. **Exponentiation associativity (right-to-left):**\n",
    "\n",
    "   ```python\n",
    "   print(2 ** 3 ** 2)  # = 2 ** (3 ** 2) = 512\n",
    "   ```\n",
    "\n",
    "2. **Multiplication vs addition:**\n",
    "\n",
    "   ```python\n",
    "   print(2 + 3 * 4)  # = 2 + (3*4) = 14\n",
    "   ```\n",
    "\n",
    "3. **Boolean logic:**\n",
    "\n",
    "   ```python\n",
    "   print(True or False and False)  \n",
    "   # and > or → True or (False and False) → True\n",
    "   ```\n",
    "\n",
    "4. **Assignment associativity:**\n",
    "\n",
    "   ```python\n",
    "   a = b = c = 5\n",
    "   print(a, b, c)  # 5 5 5\n",
    "   ```\n",
    "\n",
    "---\n",
    "\n",
    "✅ **Shortcut memory aid:**\n",
    "\n",
    "* **Highest first:** parentheses → exponent → unary → * / % → + - → shifts → bitwise ops → comparisons → logical ops → assignment.\n",
    "* **Associativity:** Almost all **left-to-right**, except **exponentiation (`**`) and assignments (`=` etc.)**, which are **right-to-left**.\n",
    "\n",
    "---\n",
    "\n",
    "👉 Do you want me to also make a **flow-style diagram / pyramid** 🎯 so you can visually memorize this faster?\n"
   ]
  },
  {
   "cell_type": "markdown",
   "metadata": {},
   "source": []
  },
  {
   "cell_type": "code",
   "execution_count": 1,
   "metadata": {},
   "outputs": [
    {
     "name": "stdout",
     "output_type": "stream",
     "text": [
      "15\n",
      "5\n",
      "50\n",
      "2.0\n",
      "2\n",
      "0\n",
      "100000\n"
     ]
    }
   ],
   "source": [
    "## Arithmethic Operation\n",
    "\n",
    "a=10\n",
    "b = 5\n",
    "\n",
    "add_result=a+b  #addiiton\n",
    "sub_result=a-b  #substraction \n",
    "mult_result=a*b #multiplication\n",
    "div_result=a/b  #division\n",
    "floor_div_result=a//b ## floor division\n",
    "modulus_result=a%b #modulus operation\n",
    "\n",
    "exponent_result=a**b ## Exponentiation\n",
    "\n",
    "\n",
    "print(add_result)\n",
    "print(sub_result)\n",
    "print(mult_result)\n",
    "print(div_result)\n",
    "print(floor_div_result)\n",
    "print(modulus_result)\n",
    "print(exponent_result)\n",
    "\n"
   ]
  },
  {
   "cell_type": "code",
   "execution_count": null,
   "metadata": {},
   "outputs": [
    {
     "data": {
      "text/plain": [
       "2.0"
      ]
     },
     "execution_count": 3,
     "metadata": {},
     "output_type": "execute_result"
    }
   ],
   "source": [
    "10/5"
   ]
  },
  {
   "cell_type": "code",
   "execution_count": null,
   "metadata": {},
   "outputs": [
    {
     "data": {
      "text/plain": [
       "4.2"
      ]
     },
     "execution_count": 4,
     "metadata": {},
     "output_type": "execute_result"
    }
   ],
   "source": [
    "21/5"
   ]
  },
  {
   "cell_type": "code",
   "execution_count": null,
   "metadata": {},
   "outputs": [
    {
     "data": {
      "text/plain": [
       "4"
      ]
     },
     "execution_count": 5,
     "metadata": {},
     "output_type": "execute_result"
    }
   ],
   "source": [
    "21//5"
   ]
  },
  {
   "cell_type": "markdown",
   "metadata": {},
   "source": [
    "#### Comparison Operators"
   ]
  },
  {
   "cell_type": "markdown",
   "metadata": {},
   "source": [
    "Sure! Here’s a **complete list of Python comparison operators** with brief explanations and examples:\n",
    "\n",
    "---\n",
    "\n",
    "## 🔹 Python Comparison Operators\n",
    "\n",
    "| Operator | Meaning                         | Example            | Output     |\n",
    "| -------- | ------------------------------- | ------------------ | ---------- |\n",
    "| `==`     | Equal to                        | `5 == 5`           | True       |\n",
    "| `!=`     | Not equal to                    | `5 != 3`           | True       |\n",
    "| `>`      | Greater than                    | `5 > 3`            | True       |\n",
    "| `<`      | Less than                       | `5 < 3`            | False      |\n",
    "| `>=`     | Greater than or equal to        | `5 >= 5`           | True       |\n",
    "| `<=`     | Less than or equal to           | `5 <= 6`           | True       |\n",
    "| `is`     | Identity (same object)          | `a is b`           | True/False |\n",
    "| `is not` | Not the same object             | `a is not b`       | True/False |\n",
    "| `in`     | Membership (exists in sequence) | `\"a\" in \"cat\"`     | True       |\n",
    "| `not in` | Membership (does not exist)     | `\"x\" not in \"cat\"` | True       |\n",
    "\n",
    "---\n",
    "\n",
    "### 🔹 Quick Notes\n",
    "\n",
    "* `==` → checks **value equality**\n",
    "* `!=` → checks **value inequality**\n",
    "* `is` / `is not` → checks **object identity** (memory location)\n",
    "* `in` / `not in` → checks **membership in sequences** (list, string, tuple, dict keys)\n",
    "\n",
    "---\n",
    "\n",
    "### 🔹 Examples\n",
    "\n",
    "```python\n",
    "# Value comparison\n",
    "print(5 == 5)     # True\n",
    "print(5 != 3)     # True\n",
    "print(4 > 6)      # False\n",
    "\n",
    "# Identity\n",
    "a = [1,2]\n",
    "b = a\n",
    "c = [1,2]\n",
    "print(a is b)     # True\n",
    "print(a is c)     # False\n",
    "\n",
    "# Membership\n",
    "fruits = [\"apple\", \"banana\"]\n",
    "print(\"apple\" in fruits)    # True\n",
    "print(\"grape\" not in fruits) # True\n",
    "```\n",
    "\n",
    "---\n",
    "\n",
    "If you want, I can also make a **tiny cheat sheet diagram** showing **comparison, identity, and membership operators together** for easy memorization.\n",
    "\n",
    "Do you want me to do that?\n"
   ]
  },
  {
   "cell_type": "code",
   "execution_count": null,
   "metadata": {},
   "outputs": [
    {
     "data": {
      "text/plain": [
       "True"
      ]
     },
     "execution_count": 5,
     "metadata": {},
     "output_type": "execute_result"
    }
   ],
   "source": [
    "## Comparison Operators\n",
    "## == Equal to\n",
    "a=10\n",
    "b=10\n",
    "\n",
    "a==b"
   ]
  },
  {
   "cell_type": "code",
   "execution_count": null,
   "metadata": {},
   "outputs": [
    {
     "data": {
      "text/plain": [
       "True"
      ]
     },
     "execution_count": 6,
     "metadata": {},
     "output_type": "execute_result"
    }
   ],
   "source": [
    "str1=\"Krish\"\n",
    "str2=\"Krish\"\n",
    "\n",
    "str1==str2"
   ]
  },
  {
   "cell_type": "code",
   "execution_count": null,
   "metadata": {},
   "outputs": [
    {
     "data": {
      "text/plain": [
       "False"
      ]
     },
     "execution_count": 7,
     "metadata": {},
     "output_type": "execute_result"
    }
   ],
   "source": [
    "## Not Equal to !=\n",
    "str1!=str2"
   ]
  },
  {
   "cell_type": "code",
   "execution_count": null,
   "metadata": {},
   "outputs": [
    {
     "data": {
      "text/plain": [
       "True"
      ]
     },
     "execution_count": 6,
     "metadata": {},
     "output_type": "execute_result"
    }
   ],
   "source": [
    "str3=\"Krish\"\n",
    "str4=\"krish\"\n",
    "\n",
    "str3!=str4"
   ]
  },
  {
   "cell_type": "code",
   "execution_count": null,
   "metadata": {},
   "outputs": [
    {
     "data": {
      "text/plain": [
       "False"
      ]
     },
     "execution_count": 7,
     "metadata": {},
     "output_type": "execute_result"
    }
   ],
   "source": [
    "# greater than >\n",
    "\n",
    "num1=45\n",
    "num2=55\n",
    "\n",
    "num1>num2"
   ]
  },
  {
   "cell_type": "code",
   "execution_count": null,
   "metadata": {},
   "outputs": [
    {
     "name": "stdout",
     "output_type": "stream",
     "text": [
      "True\n"
     ]
    }
   ],
   "source": [
    "## less than <\n",
    "\n",
    "print(num1<num2)\n"
   ]
  },
  {
   "cell_type": "code",
   "execution_count": null,
   "metadata": {},
   "outputs": [
    {
     "name": "stdout",
     "output_type": "stream",
     "text": [
      "True\n"
     ]
    }
   ],
   "source": [
    "#greater than or equal to\n",
    "number1=45\n",
    "number2=45\n",
    "\n",
    "print(number1>=number2)\n"
   ]
  },
  {
   "cell_type": "code",
   "execution_count": null,
   "metadata": {},
   "outputs": [
    {
     "name": "stdout",
     "output_type": "stream",
     "text": [
      "True\n"
     ]
    }
   ],
   "source": [
    "#less than or equal to\n",
    "number1=44\n",
    "number2=45\n",
    "\n",
    "print(number1<=number2)"
   ]
  },
  {
   "cell_type": "markdown",
   "metadata": {},
   "source": [
    "#### Logical Operators"
   ]
  },
  {
   "cell_type": "code",
   "execution_count": null,
   "metadata": {},
   "outputs": [
    {
     "name": "stdout",
     "output_type": "stream",
     "text": [
      "True\n"
     ]
    }
   ],
   "source": [
    "## And ,Not,OR\n",
    "X=True\n",
    "Y=True\n",
    "\n",
    "result =X and Y\n",
    "print(result)\n"
   ]
  },
  {
   "cell_type": "code",
   "execution_count": null,
   "metadata": {},
   "outputs": [
    {
     "name": "stdout",
     "output_type": "stream",
     "text": [
      "False\n"
     ]
    }
   ],
   "source": [
    "X=False\n",
    "Y=True\n",
    "\n",
    "result =X and Y\n",
    "print(result)"
   ]
  },
  {
   "cell_type": "code",
   "execution_count": null,
   "metadata": {},
   "outputs": [
    {
     "name": "stdout",
     "output_type": "stream",
     "text": [
      "False\n"
     ]
    }
   ],
   "source": [
    "## OR\n",
    "X=False\n",
    "Y=False\n",
    "\n",
    "result =X or Y\n",
    "print(result)"
   ]
  },
  {
   "cell_type": "code",
   "execution_count": null,
   "metadata": {},
   "outputs": [
    {
     "data": {
      "text/plain": [
       "True"
      ]
     },
     "execution_count": 14,
     "metadata": {},
     "output_type": "execute_result"
    }
   ],
   "source": [
    "# Not operator\n",
    "X=False\n",
    "not X"
   ]
  },
  {
   "cell_type": "markdown",
   "metadata": {},
   "source": [
    "#### Membership operator"
   ]
  },
  {
   "cell_type": "code",
   "execution_count": 3,
   "metadata": {},
   "outputs": [
    {
     "name": "stdout",
     "output_type": "stream",
     "text": [
      "True\n",
      "False\n",
      "True\n",
      "True\n",
      "True\n",
      "True\n",
      "True\n",
      "True\n",
      "True\n",
      "True\n",
      "False\n",
      "True\n"
     ]
    }
   ],
   "source": [
    "# Membership in lists\n",
    "fruits = [\"apple\", \"banana\", \"mango\"]\n",
    "\n",
    "print(\"apple\" in fruits)      # True\n",
    "print(\"grapes\" in fruits)     # False\n",
    "print(\"grapes\" not in fruits) # True\n",
    "\n",
    "\n",
    "# Membership in string\n",
    "text = \"Python is fun\"\n",
    "print(\"Python\" in text)       # True\n",
    "print(\"Java\" not in text)     # True\n",
    "\n",
    "\n",
    "# Membership in tuple\n",
    "nums = (1, 2, 3, 4)\n",
    "print(3 in nums)              # True\n",
    "print(5 not in nums)          # True\n",
    "\n",
    "\n",
    "# Membership in set\n",
    "colors = {\"red\", \"green\", \"blue\"}\n",
    "print(\"green\" in colors)      # True\n",
    "print(\"yellow\" not in colors) # True\n",
    "\n",
    "\n",
    "# Membership in dictionary → checks KEYS by default\n",
    "person = {\"name\": \"Alice\", \"age\": 25}\n",
    "print(\"name\" in person)       # True\n",
    "print(\"Alice\" in person)      # False (values are not checked by default)\n",
    "print(\"Alice\" in person.values())  # True (explicitly check values)\n",
    "\n"
   ]
  },
  {
   "cell_type": "markdown",
   "metadata": {},
   "source": [
    "### Identity operator\n",
    "Python has two identity operators:\n",
    "\n",
    "is → Returns True if two variables point to the same object in memory.\n",
    "\n",
    "is not → Returns True if two variables point to different objects.\n",
    "\n",
    "Unlike ==, which checks value equality, is checks object identity."
   ]
  },
  {
   "cell_type": "code",
   "execution_count": 4,
   "metadata": {},
   "outputs": [
    {
     "name": "stdout",
     "output_type": "stream",
     "text": [
      "True\n",
      "True\n",
      "False\n",
      "True\n",
      "False\n",
      "True\n",
      "True\n",
      "False\n",
      "True\n"
     ]
    }
   ],
   "source": [
    "# Example 1: integers (small integers are cached in Python)\n",
    "a = 5\n",
    "b = 5\n",
    "print(a is b)      # True, both point to same object\n",
    "print(a == b)      # True, values are equal\n",
    "\n",
    "# Example 2: larger integers\n",
    "x = 1000\n",
    "y = 1000\n",
    "print(x is y)      # False, different objects\n",
    "print(x == y)      # True, values are equal\n",
    "\n",
    "# Example 3: lists\n",
    "list1 = [1, 2, 3]\n",
    "list2 = [1, 2, 3]\n",
    "list3 = list1\n",
    "print(list1 is list2)   # False, different objects\n",
    "print(list1 == list2)   # True, values are equal\n",
    "print(list1 is list3)   # True, same object\n",
    "\n",
    "# Example 4: is not\n",
    "print(a is not b)        # False\n",
    "print(list1 is not list2)  # True\n"
   ]
  },
  {
   "cell_type": "markdown",
   "metadata": {},
   "source": [
    "Sure! Let’s clearly explain the difference between **`is`** and **`==`** in Python:\n",
    "\n",
    "---\n",
    "\n",
    "## 🔹 1. `==` (Equality Operator)\n",
    "\n",
    "* **Purpose:** Checks if the **values** of two objects are equal.\n",
    "* **Meaning:** “Do these objects have the same content?”\n",
    "\n",
    "```python\n",
    "a = [1, 2, 3]\n",
    "b = [1, 2, 3]\n",
    "\n",
    "print(a == b)  # True → values are equal\n",
    "```\n",
    "\n",
    "> Even though `a` and `b` are **different objects in memory**, their contents are the same.\n",
    "\n",
    "---\n",
    "\n",
    "## 🔹 2. `is` (Identity Operator)\n",
    "\n",
    "* **Purpose:** Checks if two variables point to the **same object** in memory.\n",
    "* **Meaning:** “Are these actually the same object?”\n",
    "\n",
    "```python\n",
    "a = [1, 2, 3]\n",
    "b = [1, 2, 3]\n",
    "c = a\n",
    "\n",
    "print(a is b)  # False → different objects\n",
    "print(a is c)  # True → same object\n",
    "```\n",
    "\n",
    "---\n",
    "\n",
    "## 🔹 3. Quick Comparison Table\n",
    "\n",
    "| Operator | Checks          | Example                  |\n",
    "| -------- | --------------- | ------------------------ |\n",
    "| `==`     | Value equality  | `[1,2] == [1,2]` → True  |\n",
    "| `is`     | Object identity | `[1,2] is [1,2]` → False |\n",
    "\n",
    "---\n",
    "\n",
    "## 🔹 4. Special Use Case: `None`\n",
    "\n",
    "* Always use `is` when checking for `None`:\n",
    "\n",
    "```python\n",
    "x = None\n",
    "if x is None:\n",
    "    print(\"x is None\")\n",
    "```\n",
    "\n",
    "---\n",
    "\n",
    "✅ **Summary:**\n",
    "\n",
    "* `==` → do the **values** match?\n",
    "* `is` → are they the **same object** in memory?\n",
    "\n",
    "---\n",
    "\n",
    "If you want, I can also give a **small visual diagram** showing two lists pointing to the same/different objects to make this crystal clear.\n"
   ]
  },
  {
   "cell_type": "markdown",
   "metadata": {},
   "source": [
    "Sure! Here’s a **concise summary of Python bitwise operators and shift operators** with examples.\n",
    "\n",
    "---\n",
    "\n",
    "## 🔹 1. Bitwise Operators\n",
    "\n",
    "Python allows operations at the **bit level** on integers.\n",
    "\n",
    "| Operator | Description              | Example  | Output (binary)         |    |      |                |\n",
    "| -------- | ------------------------ | -------- | ----------------------- | -- | ---- | -------------- |\n",
    "| `&`      | AND                      | `5 & 3`  | `101 & 011 = 001 → 1`   |    |      |                |\n",
    "| `        | `                        | OR       | `5                      | 3` | `101 | 011 = 111 → 7` |\n",
    "| `^`      | XOR                      | `5 ^ 3`  | `101 ^ 011 = 110 → 6`   |    |      |                |\n",
    "| `~`      | NOT (bitwise complement) | `~5`     | `~0101 = 1010 → -6`     |    |      |                |\n",
    "| `<<`     | Left shift               | `5 << 1` | `0101 << 1 = 1010 → 10` |    |      |                |\n",
    "| `>>`     | Right shift              | `5 >> 1` | `0101 >> 1 = 0010 → 2`  |    |      |                |\n",
    "\n",
    "---\n",
    "\n",
    "### 🔹 2. Examples in Python\n",
    "\n",
    "```python\n",
    "a = 5      # 0101\n",
    "b = 3      # 0011\n",
    "\n",
    "print(a & b)   # 1 → 0001\n",
    "print(a | b)   # 7 → 0111\n",
    "print(a ^ b)   # 6 → 0110\n",
    "print(~a)      # -6 → bitwise complement\n",
    "print(a << 1)  # 10 → 1010 (left shift by 1)\n",
    "print(a >> 1)  # 2 → 0010 (right shift by 1)\n",
    "```\n",
    "\n",
    "---\n",
    "\n",
    "### 🔹 3. Quick Notes\n",
    "\n",
    "1. `&` → only bits that are 1 in **both** numbers → 1\n",
    "2. `|` → bits that are 1 in **either** number → 1\n",
    "3. `^` → bits that are 1 in **only one** of the numbers → 1\n",
    "4. `~` → flips all bits → `~x = -x-1` in Python\n",
    "5. `<< n` → shift left by `n` bits → multiplies by `2**n`\n",
    "6. `>> n` → shift right by `n` bits → floor divide by `2**n`\n",
    "\n",
    "---\n",
    "\n",
    "If you want, I can also make a **tiny diagram showing bits for each operator** so it’s easier to visualize AND, OR, XOR, NOT, and shifts.\n",
    "\n",
    "Do you want me to do that?\n"
   ]
  },
  {
   "cell_type": "code",
   "execution_count": null,
   "metadata": {},
   "outputs": [
    {
     "name": "stdout",
     "output_type": "stream",
     "text": [
      "Addition: 112.0\n",
      "Subtraction: 0.0\n",
      "Multiplication: 3136.0\n",
      "Division: 1.0\n",
      "Floor Division: 1.0\n",
      "Modulus: 0.0\n",
      "Exponentiation: 7.916432486686296e+97\n"
     ]
    }
   ],
   "source": [
    "## Simple Calculator\n",
    "\n",
    "# Simple calculator\n",
    "num1 = float(input(\"Enter first number: \"))\n",
    "num2 = float(input(\"Enter second number: \"))\n",
    "\n",
    "# Performing arithmetic operations\n",
    "addition = num1 + num2\n",
    "subtraction = num1 - num2\n",
    "multiplication = num1 * num2\n",
    "division = num1 / num2\n",
    "floor_division = num1 // num2\n",
    "modulus = num1 % num2\n",
    "exponentiation = num1 ** num2\n",
    "\n",
    "# Displaying results\n",
    "print(\"Addition:\", addition)\n",
    "print(\"Subtraction:\", subtraction)\n",
    "print(\"Multiplication:\", multiplication)\n",
    "print(\"Division:\", division)\n",
    "print(\"Floor Division:\", floor_division)\n",
    "print(\"Modulus:\", modulus)\n",
    "print(\"Exponentiation:\", exponentiation)\n"
   ]
  },
  {
   "cell_type": "code",
   "execution_count": null,
   "metadata": {},
   "outputs": [],
   "source": []
  }
 ],
 "metadata": {
  "kernelspec": {
   "display_name": "base",
   "language": "python",
   "name": "python3"
  },
  "language_info": {
   "codemirror_mode": {
    "name": "ipython",
    "version": 3
   },
   "file_extension": ".py",
   "mimetype": "text/x-python",
   "name": "python",
   "nbconvert_exporter": "python",
   "pygments_lexer": "ipython3",
   "version": "3.12.7"
  }
 },
 "nbformat": 4,
 "nbformat_minor": 2
}
