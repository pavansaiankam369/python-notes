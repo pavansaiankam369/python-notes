{
 "cells": [
  {
   "cell_type": "markdown",
   "metadata": {},
   "source": [
    "####  Classes and Objects\n",
    "Object-Oriented Programming (OOP) is a programming paradigm that uses \"objects\" to design applications and computer programs. OOP allows for modeling real-world scenarios using classes and objects. This lesson covers the basics of creating classes and objects, including instance variables and methods."
   ]
  },
  {
   "cell_type": "markdown",
   "metadata": {},
   "source": [
    "pass values -> (arguments)\n",
    "\n",
    "variables that belong to a class or object -> (attributes)\n",
    "\n",
    "functions that belong to a class or object -> (methods)"
   ]
  },
  {
   "cell_type": "code",
   "execution_count": null,
   "metadata": {},
   "outputs": [
    {
     "name": "stdout",
     "output_type": "stream",
     "text": [
      "<class '__main__.Car'>\n",
      "<class '__main__.Car'>\n"
     ]
    }
   ],
   "source": [
    "### A class is a blue print for creating objects. Attributes,methods\n",
    "#  class is real world entity\n",
    "\n",
    "class Car:\n",
    "    pass\n",
    "\n",
    "audi=Car()\n",
    "bmw=Car()\n",
    "\n",
    "print(type(audi))\n",
    "print(type(bmw))\n"
   ]
  },
  {
   "cell_type": "code",
   "execution_count": 3,
   "metadata": {},
   "outputs": [
    {
     "name": "stdout",
     "output_type": "stream",
     "text": [
      "<__main__.Car object at 0x000001D076253BB0>\n",
      "<__main__.Car object at 0x000001D076251F90>\n"
     ]
    }
   ],
   "source": [
    "print(audi)\n",
    "print(bmw)"
   ]
  },
  {
   "cell_type": "code",
   "execution_count": 4,
   "metadata": {},
   "outputs": [
    {
     "name": "stdout",
     "output_type": "stream",
     "text": [
      "4\n"
     ]
    }
   ],
   "source": [
    "audi.windows=4\n",
    "\n",
    "print(audi.windows)"
   ]
  },
  {
   "cell_type": "code",
   "execution_count": null,
   "metadata": {},
   "outputs": [
    {
     "ename": "AttributeError",
     "evalue": "'Car' object has no attribute 'windows'",
     "output_type": "error",
     "traceback": [
      "\u001b[1;31m---------------------------------------------------------------------------\u001b[0m",
      "\u001b[1;31mAttributeError\u001b[0m                            Traceback (most recent call last)",
      "Cell \u001b[1;32mIn[5], line 3\u001b[0m\n\u001b[0;32m      1\u001b[0m tata\u001b[38;5;241m=\u001b[39mCar()\n\u001b[0;32m      2\u001b[0m tata\u001b[38;5;241m.\u001b[39mdoors\u001b[38;5;241m=\u001b[39m\u001b[38;5;241m4\u001b[39m\n\u001b[1;32m----> 3\u001b[0m \u001b[38;5;28mprint\u001b[39m(\u001b[43mtata\u001b[49m\u001b[38;5;241;43m.\u001b[39;49m\u001b[43mwindows\u001b[49m)\n",
      "\u001b[1;31mAttributeError\u001b[0m: 'Car' object has no attribute 'windows'"
     ]
    }
   ],
   "source": [
    "tata=Car()\n",
    "tata.doors=4\n",
    "print(tata.windows)\n",
    "#  this is  not proper way  to create attribute in oops "
   ]
  },
  {
   "cell_type": "code",
   "execution_count": 6,
   "metadata": {},
   "outputs": [
    {
     "data": {
      "text/plain": [
       "['__class__',\n",
       " '__delattr__',\n",
       " '__dict__',\n",
       " '__dir__',\n",
       " '__doc__',\n",
       " '__eq__',\n",
       " '__format__',\n",
       " '__ge__',\n",
       " '__getattribute__',\n",
       " '__getstate__',\n",
       " '__gt__',\n",
       " '__hash__',\n",
       " '__init__',\n",
       " '__init_subclass__',\n",
       " '__le__',\n",
       " '__lt__',\n",
       " '__module__',\n",
       " '__ne__',\n",
       " '__new__',\n",
       " '__reduce__',\n",
       " '__reduce_ex__',\n",
       " '__repr__',\n",
       " '__setattr__',\n",
       " '__sizeof__',\n",
       " '__str__',\n",
       " '__subclasshook__',\n",
       " '__weakref__',\n",
       " 'doors']"
      ]
     },
     "execution_count": 6,
     "metadata": {},
     "output_type": "execute_result"
    }
   ],
   "source": [
    "dir(tata)"
   ]
  },
  {
   "cell_type": "code",
   "execution_count": null,
   "metadata": {},
   "outputs": [
    {
     "name": "stdout",
     "output_type": "stream",
     "text": [
      "<__main__.Dog object at 0x0000015A0B7E99D0>\n",
      "Buddy\n",
      "3\n"
     ]
    }
   ],
   "source": [
    "### Instance Variable and Methods\n",
    "class Dog:\n",
    "    ## constructor\n",
    "    def __init__(self,name,age):\n",
    "        self.name=name  # self.name is instance variable\n",
    "        self.age=age\n",
    "\n",
    "## create objects\n",
    "dog1=Dog(\"Buddy\",3)\n",
    "print(dog1)\n",
    "print(dog1.name)\n",
    "print(dog1.age)\n",
    "    \n",
    "    "
   ]
  },
  {
   "cell_type": "markdown",
   "metadata": {},
   "source": [
    "\n",
    "\n",
    "## 💡 What is a Constructor in Python?\n",
    "\n",
    "A **constructor** is a special method used to **initialize a new object** when it's created from a class.\n",
    "\n",
    "In Python, the constructor is defined using the **`__init__()`** method — which is called **automatically** when a new object is created.\n",
    "\n",
    "---\n",
    "\n",
    "## 🔧 `__init__()` — The Constructor\n",
    "\n",
    "```python\n",
    "class Student:\n",
    "    def __init__(self, name, age):\n",
    "        self.name = name\n",
    "        self.age = age\n",
    "```\n",
    "\n",
    "### 🧠 What happens?\n",
    "\n",
    "When you create an object:\n",
    "\n",
    "```python\n",
    "s = Student(\"Pavan\", 21)\n",
    "```\n",
    "\n",
    "Python internally does:\n",
    "\n",
    "1. Creates an empty object `s`\n",
    "2. Calls `__init__(s, \"Pavan\", 21)` — the constructor\n",
    "3. Assigns the `name` and `age` to the object\n",
    "\n",
    "---\n",
    "\n",
    "## 📌 Anatomy of `__init__()`:\n",
    "\n",
    "```python\n",
    "def __init__(self, arg1, arg2, ...):\n",
    "    # attribute assignments\n",
    "```\n",
    "\n",
    "* `self` refers to the current object\n",
    "* Other arguments are used to initialize object properties\n",
    "\n",
    "---\n",
    "\n",
    "## 🧪 Example\n",
    "\n",
    "```python\n",
    "class Dog:\n",
    "    def __init__(self, breed, age):\n",
    "        self.breed = breed\n",
    "        self.age = age\n",
    "\n",
    "d1 = Dog(\"Labrador\", 3)\n",
    "print(d1.breed)  # Labrador\n",
    "print(d1.age)    # 3\n",
    "```\n",
    "\n",
    "---\n",
    "\n",
    "## 🧙‍♂️ Why is it called “Dunder” Method?\n",
    "\n",
    "“**Dunder**” = **D**ouble **UNDER**score\n",
    "So `__init__` is pronounced **“dunder init”**\n",
    "\n",
    "There are many dunder methods in Python (`__str__`, `__len__`, `__repr__`, etc.) that give custom behavior to classes.\n",
    "\n",
    "---\n",
    "\n",
    "## ✅ Summary\n",
    "\n",
    "| Feature      | Description                          |\n",
    "| ------------ | ------------------------------------ |\n",
    "| `__init__()` | Constructor method                   |\n",
    "| When called  | Automatically when object is created |\n",
    "| Purpose      | Initialize object state (attributes) |\n",
    "| Required?    | No, but common and very useful       |\n",
    "\n",
    "---\n",
    "Exactly! ✅\n",
    "\n",
    "### `self.name` is an **instance variable** in Python.\n",
    "\n",
    "---\n",
    "\n",
    "## 📌 What is an Instance Variable?\n",
    "\n",
    "An **instance variable** is:\n",
    "\n",
    "* A variable **defined inside a class**, using `self`\n",
    "* It is **unique to each object (instance)** of the class\n",
    "* Stored in the object’s own memory (`__dict__`)\n",
    "\n",
    "---\n",
    "\n",
    "### 🔹 Example:\n",
    "\n",
    "```python\n",
    "class Student:\n",
    "    def __init__(self, name, age):\n",
    "        self.name = name      # instance variable\n",
    "        self.age = age        # instance variable\n",
    "```\n",
    "\n",
    "```python\n",
    "s1 = Student(\"Pavan\", 21)\n",
    "s2 = Student(\"Ravi\", 22)\n",
    "\n",
    "print(s1.name)  # Pavan\n",
    "print(s2.name)  # Ravi\n",
    "```\n",
    "\n",
    "Each object has its **own copy** of `name` and `age`.\n",
    "\n",
    "---\n",
    "\n",
    "## 🧠 Why use `self.name`?\n",
    "\n",
    "* `self` refers to **this specific object**\n",
    "* `self.name` creates a variable **attached to that object**\n",
    "* Without `self`, the variable would be **local to the method**, and lost after the method ends\n",
    "\n",
    "---\n",
    "\n",
    "## 🔍 Internal View:\n",
    "\n",
    "```python\n",
    "print(s1.__dict__)\n",
    "# Output: {'name': 'Pavan', 'age': 21}\n",
    "```\n",
    "\n",
    "This shows `name` and `age` are stored **inside** the object.\n",
    "\n",
    "---\n",
    "\n",
    "Let me know if you want to compare it with:\n",
    "\n",
    "* **Class variables** (shared across all instances)\n",
    "* Or see how to make private instance variables!\n",
    "\n",
    "\n"
   ]
  },
  {
   "cell_type": "code",
   "execution_count": 10,
   "metadata": {},
   "outputs": [
    {
     "name": "stdout",
     "output_type": "stream",
     "text": [
      "Lucy\n",
      "4\n"
     ]
    }
   ],
   "source": [
    "dog2=Dog(\"Lucy\",4)\n",
    "print(dog2.name)\n",
    "print(dog2.age)"
   ]
  },
  {
   "cell_type": "code",
   "execution_count": null,
   "metadata": {},
   "outputs": [
    {
     "name": "stdout",
     "output_type": "stream",
     "text": [
      "Buddy says woof\n",
      "Lucy says woof\n"
     ]
    }
   ],
   "source": [
    "## Define a class with instance methods \n",
    "class Dog:\n",
    "    def __init__(self,name,age):\n",
    "        self.name=name\n",
    "        self.age=age\n",
    "    \n",
    "    def bark(self):\n",
    "        print(f\"{self.name} says woof\")\n",
    "\n",
    "\n",
    "dog1=Dog(\"Buddy\",3)\n",
    "dog1.bark()\n",
    "dog2=Dog(\"Lucy\",4)\n",
    "dog2.bark()\n",
    "\n"
   ]
  },
  {
   "cell_type": "markdown",
   "metadata": {},
   "source": [
    "Awesome! Here's a quick and clear comparison of:\n",
    "\n",
    "> **Instance Methods vs Class Methods vs Static Methods** in Python 👇\n",
    "\n",
    "---\n",
    "\n",
    "## ✅ 1. **Instance Method**\n",
    "\n",
    "* First parameter: `self`\n",
    "* Belongs to: the **object (instance)**\n",
    "* Can access: instance variables and class variables\n",
    "\n",
    "### 🔹 Example:\n",
    "\n",
    "```python\n",
    "class Student:\n",
    "    def __init__(self, name):\n",
    "        self.name = name\n",
    "\n",
    "    def greet(self):  # instance method\n",
    "        print(f\"Hello, I'm {self.name}\")\n",
    "```\n",
    "\n",
    "```python\n",
    "s = Student(\"Pavan\")\n",
    "s.greet()  # Hello, I'm Pavan\n",
    "```\n",
    "\n",
    "---\n",
    "\n",
    "## ✅ 2. **Class Method**\n",
    "\n",
    "* First parameter: `cls`\n",
    "* Belongs to: the **class**\n",
    "* Can access: class variables, but **not instance variables**\n",
    "* Use `@classmethod` decorator\n",
    "\n",
    "### 🔹 Example:\n",
    "\n",
    "```python\n",
    "class Student:\n",
    "    college = \"NIT Agartala\"\n",
    "\n",
    "    @classmethod\n",
    "    def show_college(cls):  # class method\n",
    "        print(f\"College: {cls.college}\")\n",
    "```\n",
    "\n",
    "```python\n",
    "Student.show_college()  # College: NIT Agartala\n",
    "```\n",
    "\n",
    "---\n",
    "\n",
    "## ✅ 3. **Static Method**\n",
    "\n",
    "* Takes **no special first parameter** (`self` or `cls`)\n",
    "* Belongs to: the class (like a utility/helper)\n",
    "* Can’t access: instance or class data unless passed explicitly\n",
    "* Use `@staticmethod` decorator\n",
    "\n",
    "### 🔹 Example:\n",
    "\n",
    "```python\n",
    "class Student:\n",
    "    @staticmethod\n",
    "    def add(x, y):  # static method\n",
    "        return x + y\n",
    "```\n",
    "\n",
    "```python\n",
    "print(Student.add(10, 5))  # 15\n",
    "```\n",
    "\n",
    "---\n",
    "\n",
    "## 🔍 Side-by-Side Summary:\n",
    "\n",
    "| Feature          | `Instance Method`   | `Class Method`       | `Static Method`       |\n",
    "| ---------------- | ------------------- | -------------------- | --------------------- |\n",
    "| First param      | `self`              | `cls`                | None                  |\n",
    "| Bound to         | Object              | Class                | Class                 |\n",
    "| Access instance? | ✅ Yes               | ❌ No                 | ❌ No                  |\n",
    "| Access class?    | ✅ Yes               | ✅ Yes                | ❌ No (unless passed)  |\n",
    "| Decorator        | None                | `@classmethod`       | `@staticmethod`       |\n",
    "| Usage            | For object behavior | For factory/settings | For utility functions |\n",
    "\n",
    "---\n",
    "\n",
    "Would you like a **code example with all 3 together in one class**?\n"
   ]
  },
  {
   "cell_type": "code",
   "execution_count": 13,
   "metadata": {},
   "outputs": [
    {
     "name": "stdout",
     "output_type": "stream",
     "text": [
      "5000\n"
     ]
    }
   ],
   "source": [
    "### Modeling a Bank Account\n",
    "\n",
    "## Define a class for bank account\n",
    "class BankAccount:\n",
    "    def __init__(self,owner,balance=0):\n",
    "        self.owner=owner\n",
    "        self.balance=balance\n",
    "\n",
    "    def deposit(self,amount):\n",
    "        self.balance+=amount\n",
    "        print(f\"{amount} is deposited. New balance is {self.balance}\")\n",
    "\n",
    "    def withdraw(self,amount):\n",
    "        if amount>self.balance:\n",
    "            print(\"Insufficient funds!\")\n",
    "        else:\n",
    "            self.balance-=amount\n",
    "            print(f\"{amount} is withdrawn. New Balance is {self.balance}\")\n",
    "\n",
    "    def get_balance(self):\n",
    "        return self.balance\n",
    "    \n",
    "## create an account\n",
    "\n",
    "account=BankAccount(\"Krish\",5000)\n",
    "print(account.balance)\n",
    "\n",
    "    "
   ]
  },
  {
   "cell_type": "markdown",
   "metadata": {},
   "source": []
  },
  {
   "cell_type": "code",
   "execution_count": 14,
   "metadata": {},
   "outputs": [
    {
     "name": "stdout",
     "output_type": "stream",
     "text": [
      "100 is deposited. New balance is 5100\n"
     ]
    }
   ],
   "source": [
    "## Call isntance methods\n",
    "account.deposit(100)"
   ]
  },
  {
   "cell_type": "code",
   "execution_count": 15,
   "metadata": {},
   "outputs": [
    {
     "name": "stdout",
     "output_type": "stream",
     "text": [
      "300 is withdrawn. New Balance is 4800\n"
     ]
    }
   ],
   "source": [
    "account.withdraw(300)"
   ]
  },
  {
   "cell_type": "code",
   "execution_count": 16,
   "metadata": {},
   "outputs": [
    {
     "name": "stdout",
     "output_type": "stream",
     "text": [
      "4800\n"
     ]
    }
   ],
   "source": [
    "print(account.get_balance())"
   ]
  },
  {
   "cell_type": "markdown",
   "metadata": {},
   "source": [
    "#### Conclusion\n",
    "Object-Oriented Programming (OOP) allows you to model real-world scenarios using classes and objects. In this lesson, you learned how to create classes and objects, define instance variables and methods, and use them to perform various operations. Understanding these concepts is fundamental to writing effective and maintainable Python code.\n",
    "\n",
    "Sure! Let's compare:\n",
    "\n",
    "---\n",
    "\n",
    "## ✅ 1. **Instance Variables (`self.var`)**\n",
    "\n",
    "These are **unique to each object**.\n",
    "\n",
    "```python\n",
    "class Student:\n",
    "    def __init__(self, name):\n",
    "        self.name = name  # instance variable\n",
    "\n",
    "s1 = Student(\"Pavan\")\n",
    "s2 = Student(\"Ravi\")\n",
    "\n",
    "print(s1.name)  # Pavan\n",
    "print(s2.name)  # Ravi\n",
    "```\n",
    "\n",
    "📌 `s1.name` and `s2.name` are different → each object has its **own** value.\n",
    "\n",
    "---\n",
    "\n",
    "## ✅ 2. **Class Variables (`ClassName.var`)**\n",
    "\n",
    "These are **shared by all objects**.\n",
    "\n",
    "```python\n",
    "class Student:\n",
    "    college = \"NIT Agartala\"  # class variable\n",
    "\n",
    "    def __init__(self, name):\n",
    "        self.name = name  # instance variable\n",
    "\n",
    "s1 = Student(\"Pavan\")\n",
    "s2 = Student(\"Ravi\")\n",
    "\n",
    "print(s1.college)  # NIT Agartala\n",
    "print(s2.college)  # NIT Agartala\n",
    "\n",
    "# Changing class variable\n",
    "Student.college = \"NIT Delhi\"\n",
    "\n",
    "print(s1.college)  # NIT Delhi\n",
    "print(s2.college)  # NIT Delhi\n",
    "```\n",
    "\n",
    "📌 Both objects reflect the **updated shared value** of `college`.\n",
    "\n",
    "---\n",
    "\n",
    "## 🔍 Check Internally Using `__dict__`\n",
    "\n",
    "```python\n",
    "print(s1.__dict__)  \n",
    "# Only shows instance vars: {'name': 'Pavan'}\n",
    "\n",
    "print(Student.__dict__)  \n",
    "# Shows class vars and methods (including 'college')\n",
    "```\n",
    "\n",
    "---\n",
    "\n",
    "## 🔐 Optional: Private Instance Variable\n",
    "\n",
    "```python\n",
    "class Student:\n",
    "    def __init__(self, name):\n",
    "        self.__name = name  # private by convention\n",
    "\n",
    "s = Student(\"Pavan\")\n",
    "# print(s.__name)  ❌ Error (name mangled)\n",
    "print(s._Student__name)  # ✅ Works\n",
    "```\n",
    "\n",
    "---\n",
    "\n",
    "## 🧠 Summary Table:\n",
    "\n",
    "| Feature      | Instance Variable        | Class Variable                |\n",
    "| ------------ | ------------------------ | ----------------------------- |\n",
    "| Defined in   | `__init__` using `self.` | Inside class, outside methods |\n",
    "| Belongs to   | Object (instance)        | Class (shared)                |\n",
    "| Accessed via | `object.var`             | `Class.var` or `object.var`   |\n",
    "| Stored in    | `object.__dict__`        | `Class.__dict__`              |\n",
    "\n",
    "---\n",
    "\n",
    "Want to try a live example or small challenge?\n"
   ]
  },
  {
   "cell_type": "code",
   "execution_count": null,
   "metadata": {},
   "outputs": [],
   "source": []
  },
  {
   "cell_type": "code",
   "execution_count": null,
   "metadata": {},
   "outputs": [],
   "source": []
  },
  {
   "cell_type": "code",
   "execution_count": null,
   "metadata": {},
   "outputs": [],
   "source": []
  }
 ],
 "metadata": {
  "kernelspec": {
   "display_name": "Python 3",
   "language": "python",
   "name": "python3"
  },
  "language_info": {
   "codemirror_mode": {
    "name": "ipython",
    "version": 3
   },
   "file_extension": ".py",
   "mimetype": "text/x-python",
   "name": "python",
   "nbconvert_exporter": "python",
   "pygments_lexer": "ipython3",
   "version": "3.10.11"
  }
 },
 "nbformat": 4,
 "nbformat_minor": 2
}
